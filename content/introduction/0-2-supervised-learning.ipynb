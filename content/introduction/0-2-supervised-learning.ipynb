{
 "cells": [
  {
   "cell_type": "raw",
   "metadata": {},
   "source": [
    "---\n",
    "metadata: true\n",
    "section: Supervised learning used in this course\n",
    "goal: \"Learn one particular machine learning process: supervised learning. Understand how it is used in this course. Get an idea on the basic algorithms used in the course.\"\n",
    "time: \"10 min\"\n",
    "toccontent: \"\"\n",
    "prerequisites: \"What is machine learning?\"\n",
    "level: \"Beginner and advanced\"\n",
    "---"
   ]
  },
  {
   "cell_type": "markdown",
   "metadata": {},
   "source": [
    "## Classification and regression"
   ]
  },
  {
   "cell_type": "markdown",
   "metadata": {},
   "source": [
    "As we saw in the previous section, supervised learning models use data for which we already know the label, and try to predict it on new unknown data.\n",
    "\n",
    "Supervised learning tasks can be of two types: classification and regression. The ground idea stays the same: prediction of an outcome, the only difference is the type of outcome. In classification problems, a class is predicted: the outcome can only take a value from a fixed set of distinct possibilities. In a regression problem, the outcome is a continuous numerical variable and can take any value."
   ]
  },
  {
   "cell_type": "markdown",
   "metadata": {},
   "source": [
    "![](ML-classification-regression.png)"
   ]
  },
  {
   "cell_type": "markdown",
   "metadata": {},
   "source": [
    "## Build and train the model"
   ]
  },
  {
   "cell_type": "markdown",
   "metadata": {},
   "source": [
    "The first step is to gather labeled data to train the model.\n",
    "\n",
    "As we want a neutral way of testing the performance of the model, we need to split the available data into two (sometimes more, but we will keep it simple in the scope of this class) different sets:\n",
    "+ __the training set__: this part of the data will be used to train the model\n",
    "+ __the testing set__: this set is left out during the training of the model, and is used for testing the performance: the model predicts the outcome of the data in the testing set, and this outcome is compared with the real outcome that we know from the data\n",
    "\n",
    "It is important that the training and testing sets do not overlap: as the model learns from the training data, if the same data were used for testing, it would lead to a biased performance result (the model is tested on the same data that were used for it to learn)."
   ]
  },
  {
   "cell_type": "markdown",
   "metadata": {},
   "source": [
    "![](ML-train-test.png)"
   ]
  },
  {
   "cell_type": "markdown",
   "metadata": {},
   "source": [
    "Each time we will use a supervised machine learning algorithm in this course, the following steps will be observed:\n",
    "1. split the data into training and testing set\n",
    "2. build the model using the training set and its true labels\n",
    "3. make prediction on the testing set\n",
    "4. compare predictions to true labels of the testing set and get performance\n",
    "\n",
    "Sometimes, when a model has to be specifically adapted to the task, the steps might get a bit more complex (the separation of the training and testing datasets might differ for example), but the base idea stays the same."
   ]
  },
  {
   "cell_type": "markdown",
   "metadata": {},
   "source": [
    "## Measure of performance"
   ]
  },
  {
   "cell_type": "markdown",
   "metadata": {},
   "source": [
    "There are different ways to measure the performance of a model, depending on its type. In this class, we will use accuracy for a classification model, and mean absolute error (MAE) for a regression one.\n",
    "\n",
    "+ __Accuracy__: percentage of correctly classified instances.\n",
    "+ __Mean absolute error__: average difference between the prediction and the true label.\n",
    "\n",
    "For more complex problems, the performance measure is usually a custom task as itself.\n",
    "\n",
    "<iframe width=\"560\" height=\"315\" src=\"https://www.youtube.com/embed/z2ZA6nNr6Gg\" frameborder=\"0\" allow=\"accelerometer; autoplay; encrypted-media; gyroscope; picture-in-picture\" allowfullscreen></iframe>"
   ]
  },
  {
   "cell_type": "markdown",
   "metadata": {},
   "source": [
    "## Baseline"
   ]
  },
  {
   "cell_type": "markdown",
   "metadata": {},
   "source": [
    "For some problems, we do not know in advance if a solution exists. A baseline model is a model that makes predictions using very simple rules. Comparing the results of a complex machine learning model with a basic baseline one is useful to determine if the model is really good, or if the result is due to luck.\n",
    "\n",
    "Here are a few examples of baseline models:\n",
    "\n",
    "+ Classification\n",
    "    + __Stratified prediction__: the model generates prediction respecting the training set's class distribution. For example, if the training set has 30% of class A and 70% of class B, the baseline model makes random prediction respecting this distribution.\n",
    "    + __Most frequent__: the model always predicts the most frequent label in the training set. If we take the previous example, the baseline model always predicts class B.\n",
    "    + __Constant__: the model always predicts a constant value, provided by the user.\n",
    "+ Regression\n",
    "    + __Mean__: the model always predicts the mean value of the training set.\n",
    "    + __Median__: the model always predicts the median value of the training set.\n",
    "    + __Constant__: the model always predicts a constant value specified by the user."
   ]
  },
  {
   "cell_type": "markdown",
   "metadata": {},
   "source": [
    "## Attributes types"
   ]
  },
  {
   "cell_type": "markdown",
   "metadata": {},
   "source": [
    "In this course, we deal with several types of attributes:\n",
    "+ __Numeric__: this attribute presents as a number (integer or float). This type is commonly used to represent continuous numerical variables (for example, a height, or a price). In ``Pandas``, a numerical attribute is usually of the type ``int64`` or ``float64``.\n",
    "+ __Categorical__: this attribute is a class (a fixed set of values). A _label_ is a particular value for the attribute (for example, the attribute can be \"animal\" and a label would be \"bird\", also called a category or a class). In ``Pandas``, this attribute is of the type ``category``.\n",
    "+ __String__: this is a chain of characters. In the first chapter (numerical data), we cannot use this attribute as a string and need to convert it to a categorical attribute. In ``Pandas``, it is of the type ``object``.\n",
    "+ __Timestamp__: this attribute represents a date and a time. In ``Pandas``, it is of the type ``datetime64[ns]``.\n",
    "+ __Time difference__: this attribute is the difference between two timestamps. In ``Pandas``, it is represented under the type ``timedelta64[ns]``."
   ]
  }
 ],
 "metadata": {
  "kernelspec": {
   "display_name": "Python 3",
   "language": "python",
   "name": "python3"
  },
  "language_info": {
   "codemirror_mode": {
    "name": "ipython",
    "version": 3
   },
   "file_extension": ".py",
   "mimetype": "text/x-python",
   "name": "python",
   "nbconvert_exporter": "python",
   "pygments_lexer": "ipython3",
   "version": "3.7.1"
  },
  "varInspector": {
   "cols": {
    "lenName": 16,
    "lenType": 16,
    "lenVar": 40
   },
   "kernels_config": {
    "python": {
     "delete_cmd_postfix": "",
     "delete_cmd_prefix": "del ",
     "library": "var_list.py",
     "varRefreshCmd": "print(var_dic_list())"
    },
    "r": {
     "delete_cmd_postfix": ") ",
     "delete_cmd_prefix": "rm(",
     "library": "var_list.r",
     "varRefreshCmd": "cat(var_dic_list()) "
    }
   },
   "types_to_exclude": [
    "module",
    "function",
    "builtin_function_or_method",
    "instance",
    "_Feature"
   ],
   "window_display": false
  }
 },
 "nbformat": 4,
 "nbformat_minor": 2
}
