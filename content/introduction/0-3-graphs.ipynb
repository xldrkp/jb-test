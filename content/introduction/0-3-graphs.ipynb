{
 "cells": [
  {
   "cell_type": "raw",
   "metadata": {},
   "source": [
    "---\n",
    "metadata: true\n",
    "section: Main types of graphs used in this course\n",
    "goal: \"Understand the basic types of graphs that are used in this lecture.\"\n",
    "time: \"\"\n",
    "prerequisites: \"Curiosity\"\n",
    "level: \"Beginner and advanced\"\n",
    "---"
   ]
  },
  {
   "cell_type": "markdown",
   "metadata": {},
   "source": [
    "In this course, we will work a lot with visualizing data. On this page, we present and explain a few types of graphs that will be often mentioned and used in the first chapter."
   ]
  },
  {
   "cell_type": "markdown",
   "metadata": {},
   "source": [
    "## Distribution of an attribute"
   ]
  },
  {
   "cell_type": "markdown",
   "metadata": {},
   "source": [
    "There are a few ways to represent the distribution of an attribute in the dataset. In the course, we will mainly use histograms and boxplots."
   ]
  },
  {
   "cell_type": "markdown",
   "metadata": {},
   "source": [
    "### Histogram\n",
    "\n",
    "A histogram represents the number of instances (frequency) on the y-axis, and the value itself on the x-axis. We can interpret this graph as: there are approximately 60 instances in the dataset with a value comprised between 6.4 and 6.7 (the highest bar on the graph).\n",
    "\n",
    "Another example: there are approximately 2 instances with a value comprised between 4.3 and 4.6."
   ]
  },
  {
   "cell_type": "markdown",
   "metadata": {},
   "source": [
    "![text](graphs-hist.JPG)"
   ]
  },
  {
   "cell_type": "markdown",
   "metadata": {},
   "source": [
    "### Boxplot\n",
    "\n"
   ]
  },
  {
   "cell_type": "markdown",
   "metadata": {},
   "source": [
    "The boxplot represents the distribution of the attribute through the quartiles.\n",
    "\n",
    "The quartiles are thresholds in the dataset representing the proportions of instances that have a value before or after a certain value. The quartiles then cut the dataset into 4 parts: 25% of the instances have a value under the first quartile, 25% of the instances have a value between the first and the second quartile, 25% between the second and the third, and 25% after the third quartile. This means also that 50% of the instances of the dataset have a value lower than the second quartile (also called the median) and 50% higher than it.\n",
    "\n",
    "On a boxplot, the quartiles are represented in the main box in the middle. The green line represent the median (or second quartile). The two line extending from the box represent the values lower and higher than the first and third quartile. Finally, the 4 dots we see at the bottom are outliers: a few values that are far away from the other values.\n",
    "\n",
    "This graph can be read as:\n",
    "+ \"50% of the instances in the dataset have a value for SOG lower than 6.6.\"\n",
    "+ \"25% of the instances have a value for SOG higher than 6.8.\"\n",
    "+ \"Most of the instances have a value for SOG higher than 6.0, except for 4 exceptions (outliers).\""
   ]
  },
  {
   "cell_type": "markdown",
   "metadata": {},
   "source": [
    "![text](graphs-boxplot.JPG)"
   ]
  },
  {
   "cell_type": "markdown",
   "metadata": {},
   "source": [
    "## Two lists against each other"
   ]
  },
  {
   "cell_type": "markdown",
   "metadata": {},
   "source": [
    "### Two attributes\n",
    "\n"
   ]
  },
  {
   "cell_type": "markdown",
   "metadata": {},
   "source": [
    "We often want to represent two attributes against each other in a dataset, to try to find a relationship between them, or simply to represent data. Here, we plotted the latitude against longitude values, to represent the path taken by a ship over time.\n",
    "\n",
    "On the x-axis the values for longitude are represented, and on the y-axis, the values for latitude."
   ]
  },
  {
   "cell_type": "markdown",
   "metadata": {},
   "source": [
    "![text](graphs-2att.JPG)"
   ]
  },
  {
   "cell_type": "markdown",
   "metadata": {},
   "source": [
    "### Prediction vs. True label\n",
    "\n"
   ]
  },
  {
   "cell_type": "markdown",
   "metadata": {},
   "source": [
    "To analyze the result of a prediction, we sometimes want to plot the predictions made on the testing set against the true labels of the testing set. If the predictions were all perfect, all the points on the graph would be located on the orange diagonal, representing perfect predictions (it is the line were prediction = true label).\n",
    "\n",
    "In this case, the prediction is not really right, for example, a lot of values were of 0 in the testing set, but the model predicted higher values for them. Usually, a good model will give predictions close to the diagonal."
   ]
  },
  {
   "cell_type": "markdown",
   "metadata": {},
   "source": [
    "![text](graphs-prediction.JPG)"
   ]
  }
 ],
 "metadata": {
  "kernelspec": {
   "display_name": "Python 3",
   "language": "python",
   "name": "python3"
  },
  "language_info": {
   "codemirror_mode": {
    "name": "ipython",
    "version": 3
   },
   "file_extension": ".py",
   "mimetype": "text/x-python",
   "name": "python",
   "nbconvert_exporter": "python",
   "pygments_lexer": "ipython3",
   "version": "3.7.1"
  },
  "varInspector": {
   "cols": {
    "lenName": 16,
    "lenType": 16,
    "lenVar": 40
   },
   "kernels_config": {
    "python": {
     "delete_cmd_postfix": "",
     "delete_cmd_prefix": "del ",
     "library": "var_list.py",
     "varRefreshCmd": "print(var_dic_list())"
    },
    "r": {
     "delete_cmd_postfix": ") ",
     "delete_cmd_prefix": "rm(",
     "library": "var_list.r",
     "varRefreshCmd": "cat(var_dic_list()) "
    }
   },
   "types_to_exclude": [
    "module",
    "function",
    "builtin_function_or_method",
    "instance",
    "_Feature"
   ],
   "window_display": false
  }
 },
 "nbformat": 4,
 "nbformat_minor": 2
}
