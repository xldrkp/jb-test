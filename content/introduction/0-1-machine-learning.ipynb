{
 "cells": [
  {
   "cell_type": "raw",
   "metadata": {},
   "source": [
    "---\n",
    "metadata: true\n",
    "section: What is machine learning?\n",
    "goal: \"Understand a basic machine learning workflow.\"\n",
    "time: \"10 min\"\n",
    "prerequisites: \"Curiosity\"\n",
    "level: \"Beginner and advanced\"\n",
    "---"
   ]
  },
  {
   "cell_type": "markdown",
   "metadata": {},
   "source": [
    "## Machine learning in general\n",
    "\n",
    "_Machine learning_ describes the study or development of _models_ (algorithms or statistical models) used by a computer to perform a task without explicit instructions. The computer is said to _learn_ from the model, and the _outcome_ or _result_ of the model is the task the computer can perform from the model. The _performance_ of the model represents the accuracy, correctness, or precision of the task performed by the computer, compared to what was expected.\n",
    "\n",
    "A concrete scenario: say we want to build a model that can predict the weather of tomorrow, given the weather of today.\n",
    "This particular problem is a _classification_ problem (we want to classify the weather of tomorrow into the classes \"sunny\", \"rainy\", etc...), and the corresponding class (\"sunny\", \"rainy\") is called a _label_.\n",
    "Data from the days before are used and fed into the model, which will learn some pattern from the data: for example, if a day was sunny, the next day has high chances to be also sunny. From the data and the patterns learned, the model will compute some predictions for a particular day, given the current data (\"As today is a sunny day, tomorrow will be a sunny day.\"). These predictions are the result, or the outcome of the model. If the prediction fits the real-world observation (tomorrow is, indeed, a sunny day), the performance of the model is considered good."
   ]
  },
  {
   "cell_type": "markdown",
   "metadata": {},
   "source": [
    "## Types of machine learning processes\n",
    "\n",
    "One can differentiate two main types of machine learning processes: supervised and unsupervised learning.\n",
    "\n",
    "![text](ML-types.jpg)\n",
    "\n",
    "+ Supervised learning is used with data for which we already know the label (or the class), as it was described with the weather example above. In supervised learning, we find classification tasks (where the label to predict is a class and can be a finite number of different values) and regression tasks (where the label is a real number and can take any value). We will go deeper into these two types of tasks in the [next section](./0-2-supervised-learning.html).\n",
    "+ Unsupervised learning is used with data for which we do not know a label. For example, a task of clustering is unsupervised learning: say you have data from customer's behavior on a website, and you want to detect customers with similar behavior, a clustering algorithm will be able to perform this task. This type of learning will not be covered in the scope of this course, but if you are interested in learning more about it, you can refer to [(1)](https://medium.com/machine-learning-for-humans/unsupervised-learning-f45587588294) or [(2)](https://algorithmia.com/blog/introduction-to-unsupervised-learning).\n",
    "\n",
    "In this course, we will focus on supervised algorithms only."
   ]
  },
  {
   "cell_type": "markdown",
   "metadata": {},
   "source": [
    "## How are data used in machine learning?\n",
    "\n",
    "In machine learning projects, the main effort is often focused on building a good model enhanced by the outcome of the learning, rather than on the data it is based on. But using training data of poor quality can also distort this outcome: as the algorithm learns from historical data, by nature, data is the central point of a machine learning model.\n",
    "\n",
    "![text](ML-process.png)\n",
    "\n",
    "A classic machine learning process is built in two main steps (see Figure 1): first, using historical data gathered beforehand, a model is developed and learns to predict the labels from the data. Afterwards, this model is fed with new data for which we don't know the outcome, and returns predictions.\n",
    "\n",
    "\n",
    "![text](ML-process_example.png)\n",
    "\n",
    "Data are therefore used in two ways here: first, historical data are used to feed and train the model, then new data are used to make the prediction. If these data are of poor quality, with no surprise, the prediction will be affected. The quality of the data can be affected in several ways, for example:\n",
    "+ _incomplete or missing data_: some fields of the dataset are left empty (for example: we want to use geographic coordinates of a ship along its trip, but a whole part of the trip is missing).\n",
    "+ _incorrect data_: some values are wrong in the data (for example: we are using information about the length of a ship, but some values are expressed in meter, others in foot, so the comparison is not directly possible).\n",
    "+ _biased data_: the training data don't correspond to the predictive data (for example: we use historical data to predict the estimated time of arrival of a ship on a commercial route, but the historical data are 20 years old and during that time, the traffic in the area doubled: the estimation is incorrect because it is based on data that are not representative of the current situation).\n",
    "\n",
    "The reasons of these errors can be multiple: lack of understanding, sensor error, transmission error, context error, etc..."
   ]
  },
  {
   "cell_type": "markdown",
   "metadata": {},
   "source": [
    "Let's see: what did you get from this introduction?\n",
    "\n",
    "<iframe src=\"https://h5p.org/h5p/embed/716110\" width=\"694\" height=\"600\" frameborder=\"0\" allowfullscreen=\"allowfullscreen\"></iframe><script src=\"https://h5p.org/sites/all/modules/h5p/library/js/h5p-resizer.js\" charset=\"UTF-8\"></script>"
   ]
  },
  {
   "cell_type": "markdown",
   "metadata": {},
   "source": [
    "## External links\n",
    "\n",
    "+ (1): \"Machine Learning for Humans, Part 3: Unsupervised Learning\", from the Medium website: https://medium.com/machine-learning-for-humans/unsupervised-learning-f45587588294\n",
    "+ (2): \"Introduction to Unsupervised Learning\", from the Algorithmia website: https://algorithmia.com/blog/introduction-to-unsupervised-learning"
   ]
  }
 ],
 "metadata": {
  "kernelspec": {
   "display_name": "Python 3",
   "language": "python",
   "name": "python3"
  },
  "language_info": {
   "codemirror_mode": {
    "name": "ipython",
    "version": 3
   },
   "file_extension": ".py",
   "mimetype": "text/x-python",
   "name": "python",
   "nbconvert_exporter": "python",
   "pygments_lexer": "ipython3",
   "version": "3.7.1"
  },
  "varInspector": {
   "cols": {
    "lenName": 16,
    "lenType": 16,
    "lenVar": 40
   },
   "kernels_config": {
    "python": {
     "delete_cmd_postfix": "",
     "delete_cmd_prefix": "del ",
     "library": "var_list.py",
     "varRefreshCmd": "print(var_dic_list())"
    },
    "r": {
     "delete_cmd_postfix": ") ",
     "delete_cmd_prefix": "rm(",
     "library": "var_list.r",
     "varRefreshCmd": "cat(var_dic_list()) "
    }
   },
   "types_to_exclude": [
    "module",
    "function",
    "builtin_function_or_method",
    "instance",
    "_Feature"
   ],
   "window_display": false
  }
 },
 "nbformat": 4,
 "nbformat_minor": 2
}
