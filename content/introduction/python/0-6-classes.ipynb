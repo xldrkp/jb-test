{
 "cells": [
  {
   "cell_type": "markdown",
   "metadata": {},
   "source": [
    "### Contents\n",
    "\n",
    "* [1 Classes](#t1)"
   ]
  },
  {
   "cell_type": "markdown",
   "metadata": {},
   "source": [
    "# 1 Classes <a class=\"anchor\" id=\"t1\"></a>"
   ]
  },
  {
   "cell_type": "markdown",
   "metadata": {},
   "source": [
    "Python is built on **Object Oriented Programming**, this means almost everything python does is focused on changing an object. Like changing string data into a floating decimal. Every command affects data or an object by doing things like grouping, splitting or manipulating it."
   ]
  },
  {
   "cell_type": "markdown",
   "metadata": {},
   "source": [
    "Variables, Lists, Dictionaries etc in python are all objects. But what happens if I want to create a new data set that doesn't fit into any of these objects? What if I want to creat my own object that I can adjust on the fly? "
   ]
  },
  {
   "cell_type": "markdown",
   "metadata": {},
   "source": [
    "A **class** acts as a \"blueprint\" for building objects. Despite being more work to set up than a list or a tuple, classes allow for a greater degree of flexibilty. A class is declared as follows:"
   ]
  },
  {
   "cell_type": "markdown",
   "metadata": {},
   "source": [
    "```python\n",
    "class class_name:\n",
    "    methods (functions)```\n"
   ]
  },
  {
   "cell_type": "code",
   "execution_count": null,
   "metadata": {},
   "outputs": [],
   "source": [
    "class FirstClass: # the class is defined as \"FirstClass\"\n",
    "    \"This is an empty class\"\n",
    "    pass"
   ]
  },
  {
   "cell_type": "markdown",
   "metadata": {},
   "source": [
    "**pass** in python means do nothing. This allows us to continue building our class in later fields."
   ]
  },
  {
   "cell_type": "markdown",
   "metadata": {},
   "source": [
    "This **type** will later allow us to create an entirely new data set with its own adjustable properties."
   ]
  },
  {
   "cell_type": "code",
   "execution_count": null,
   "metadata": {},
   "outputs": [],
   "source": [
    "egclass = FirstClass()"
   ]
  },
  {
   "cell_type": "markdown",
   "metadata": {},
   "source": [
    "Above, a class object named \"FirstClass\" is declared now consider a \"egclass\" which has all the characteristics of \"FirstClass\". So all you have to do is, equate the \"egclass\" to \"FirstClass\". In python jargon this is called creating an instance. \"egclass\" is the instance of \"FirstClass\""
   ]
  },
  {
   "cell_type": "code",
   "execution_count": null,
   "metadata": {},
   "outputs": [],
   "source": [
    "type(egclass) "
   ]
  },
  {
   "cell_type": "markdown",
   "metadata": {},
   "source": [
    "**egclass** is now defined as a type. This is our first step towards building an object."
   ]
  },
  {
   "cell_type": "code",
   "execution_count": null,
   "metadata": {},
   "outputs": [],
   "source": [
    "type(FirstClass) "
   ]
  },
  {
   "cell_type": "markdown",
   "metadata": {},
   "source": [
    "Objects (instances of a class) can hold data. Think of objects as actual data points while classes are what we use to build them. A variable in an object is also called a field or an attribute. To access a field use the notation `object.field`."
   ]
  },
  {
   "cell_type": "markdown",
   "metadata": {},
   "source": [
    "Classes build types. Types are used to build objects. Objects can later be defined by variable(s). Variables can then be applied to turn a generalized object into an actual point of data."
   ]
  },
  {
   "cell_type": "code",
   "execution_count": null,
   "metadata": {},
   "outputs": [],
   "source": [
    "obj1 = FirstClass()\n",
    "obj2 = FirstClass()\n",
    "obj1.x = 5\n",
    "obj2.x = 6\n",
    "x = 7\n",
    "print(\"x in object 1 =\",obj1.x,\"x in object 2=\",obj2.x,\"global x =\",x)"
   ]
  },
  {
   "cell_type": "markdown",
   "metadata": {},
   "source": [
    "This is good but as of right now we could have done this exact same task using methods learned in previous modules. Let us add some \"functionality\" to the class.  A function inside a class is called as a \"Method\" of that class."
   ]
  },
  {
   "cell_type": "code",
   "execution_count": null,
   "metadata": {},
   "outputs": [],
   "source": [
    "class Counter:              # first we define the class\n",
    "    def reset(self,init=0): # then we define a method (function) called reset that takes a variable called \"self\" \n",
    "                            # and set it to 0\n",
    "        self.count = init\n",
    "        \n",
    "    def getCount(self):     # then we define a method (function) that increase the variable \"self\" by \"1\" \n",
    "                            # every time we call upon it\n",
    "        self.count += 1\n",
    "        return self.count\n",
    "    \n",
    "counter = Counter()         # then we define the class as an instance (or object)\n",
    "counter.reset(0)\n",
    "                            # now we call upon our function:\n",
    "print(\"one =\",counter.getCount(),\"two =\",counter.getCount(),\"three =\",counter.getCount()) "
   ]
  },
  {
   "cell_type": "markdown",
   "metadata": {},
   "source": [
    "Note that the `reset()` function and the `getCount()` method are called with one less argument than they are declared with. The `self` argument is set by Python to the calling object. Here `counter.reset(0)` is equivalent to `Counter.reset(counter,0)`.\n",
    "Using **self** as the name of the first argument of a method is simply a common convention. Python allows any name to be used.\n",
    "\n",
    "Note that here it would be better if we could initialise Counter objects immediately with a default value of `count` rather than having to call `reset()`. A constructor method is declared in Python with the special name `__init__`:"
   ]
  },
  {
   "cell_type": "code",
   "execution_count": null,
   "metadata": {},
   "outputs": [],
   "source": [
    "class FirstClass:\n",
    "    def __init__(self,name,symbol): # in this example the function defines three objects\n",
    "        self.name = name            # we then define \"name\" and \"symbol\" as attributes of \"self\"\n",
    "        self.symbol = symbol"
   ]
  },
  {
   "cell_type": "markdown",
   "metadata": {},
   "source": [
    "Now that we have defined a function and added the \\_\\_init\\_\\_ method. We can create a instance of FirstClass which now accepts two arguments. "
   ]
  },
  {
   "cell_type": "code",
   "execution_count": null,
   "metadata": {},
   "outputs": [],
   "source": [
    "eg1 = FirstClass('one',1)\n",
    "eg2 = FirstClass('two',2)"
   ]
  },
  {
   "cell_type": "code",
   "execution_count": null,
   "metadata": {},
   "outputs": [],
   "source": [
    "print(eg1.name, eg1.symbol)\n",
    "print(eg2.name, eg2.symbol)"
   ]
  },
  {
   "cell_type": "markdown",
   "metadata": {},
   "source": [
    "**dir( )** function comes very handy in looking into what the class contains and what all method it offers"
   ]
  },
  {
   "cell_type": "code",
   "execution_count": null,
   "metadata": {},
   "outputs": [],
   "source": [
    "print(\"Contents of Counter class:\", dir(Counter))\n",
    "print(\"Contents of counter object:\", dir(counter))"
   ]
  },
  {
   "cell_type": "markdown",
   "metadata": {},
   "source": [
    "**dir( )** of an instance also shows its defined attributes so the object has the additional 'count' attribute. Note that Python defines several default methods for actions like comparison (`__le__` is $\\le$ operator). These and other special methods can be defined for classes to implement specific meanings for how object of that class should be compared, added, multiplied or the like."
   ]
  },
  {
   "cell_type": "markdown",
   "metadata": {
    "collapsed": true
   },
   "source": [
    "Just like global and local variables as we saw earlier, even classes have their own types of variables.\n",
    "\n",
    "Class Attribute : attributes defined outside the method, is applicable to all the instances.\n",
    "\n",
    "Instance Attribute : attributes defined inside a method, is applicable to only that method and is unique to each instance."
   ]
  },
  {
   "cell_type": "code",
   "execution_count": null,
   "metadata": {},
   "outputs": [],
   "source": [
    "class FirstClass:\n",
    "    test = 'test' # \"test\" is now a class attribute that applies to any object defined in the class\n",
    "    def __init__(self,attr1,attr2):\n",
    "        self.name = attr1\n",
    "        self.symbol = attr2"
   ]
  },
  {
   "cell_type": "markdown",
   "metadata": {},
   "source": [
    "Here test is a class attribute and name is an instance attribute."
   ]
  },
  {
   "cell_type": "code",
   "execution_count": null,
   "metadata": {},
   "outputs": [],
   "source": [
    "eg3 = FirstClass('Three',3)"
   ]
  },
  {
   "cell_type": "code",
   "execution_count": null,
   "metadata": {},
   "outputs": [],
   "source": [
    "print(eg3.test,eg3.name,eg3.symbol)"
   ]
  }
 ],
 "metadata": {
  "kernelspec": {
   "display_name": "Python 3",
   "language": "python",
   "name": "python3"
  },
  "language_info": {
   "codemirror_mode": {
    "name": "ipython",
    "version": 3
   },
   "file_extension": ".py",
   "mimetype": "text/x-python",
   "name": "python",
   "nbconvert_exporter": "python",
   "pygments_lexer": "ipython3",
   "version": "3.7.1"
  },
  "varInspector": {
   "cols": {
    "lenName": 16,
    "lenType": 16,
    "lenVar": 40
   },
   "kernels_config": {
    "python": {
     "delete_cmd_postfix": "",
     "delete_cmd_prefix": "del ",
     "library": "var_list.py",
     "varRefreshCmd": "print(var_dic_list())"
    },
    "r": {
     "delete_cmd_postfix": ") ",
     "delete_cmd_prefix": "rm(",
     "library": "var_list.r",
     "varRefreshCmd": "cat(var_dic_list()) "
    }
   },
   "types_to_exclude": [
    "module",
    "function",
    "builtin_function_or_method",
    "instance",
    "_Feature"
   ],
   "window_display": false
  }
 },
 "nbformat": 4,
 "nbformat_minor": 1
}
