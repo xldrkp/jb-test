{
 "cells": [
  {
   "cell_type": "raw",
   "metadata": {},
   "source": [
    "---\n",
    "metadata: true\n",
    "section: Strings\n",
    "goal: \"Understand the particularities of the type String in Python.\"\n",
    "time: \"\"\n",
    "prerequisites: \"Curiosity\"\n",
    "level: \"Advanced\"\n",
    "---"
   ]
  },
  {
   "cell_type": "markdown",
   "metadata": {},
   "source": [
    "Credits: [Institute of Maritime Logistics – Hamburg University of Technology](https://www.tuhh.de/mls/willkommen.html)"
   ]
  },
  {
   "cell_type": "markdown",
   "metadata": {},
   "source": [
    "## 1 The Print Statement <a class=\"anchor\" id=\"t1\"></a>"
   ]
  },
  {
   "cell_type": "markdown",
   "metadata": {},
   "source": [
    "As seen previously, The **print()** function prints all of its arguments as strings (another word for text), separated by spaces and followed by a linebreak. If the arguments are separated by commas, the output is separated by a space, otherwise the strings follow one another directly."
   ]
  },
  {
   "cell_type": "code",
   "execution_count": null,
   "metadata": {},
   "outputs": [],
   "source": [
    "print(\"Hello World\")\n",
    "print(\"Hello\", \"World\")\n",
    "print(\"Hello Wo\" \"rld\")"
   ]
  },
  {
   "cell_type": "markdown",
   "metadata": {},
   "source": [
    "Variables or a combination of text and variables can also be entered into the **print()** function:"
   ]
  },
  {
   "cell_type": "code",
   "execution_count": null,
   "metadata": {},
   "outputs": [],
   "source": [
    "w = 'World'\n",
    "print(\"Hello\", w)"
   ]
  },
  {
   "cell_type": "markdown",
   "metadata": {},
   "source": [
    "Note that **print** is different in old versions of Python (2.7) where it was a statement and did not need parenthesis around its arguments.\n",
    "\n",
    "The print has some optional arguments to control where and how to print. This includes `sep` the separator (default space), which argues what should occupy spaced. Then `end` argument which adds characters to the end of the string. And `file` to specify where to write to the print function. \n",
    "\n",
    "Optional arguments are parameters within a command with preexisiting defaults that can be changed to customize the command. These 'parameters' can slightly alter a function's output.  In this case it changes the separator and end of a print function."
   ]
  },
  {
   "cell_type": "code",
   "execution_count": null,
   "metadata": {},
   "outputs": [],
   "source": [
    "print(\"Hello\",\"World\",sep='...',end='!!')"
   ]
  },
  {
   "cell_type": "markdown",
   "metadata": {},
   "source": [
    "## 2 String Formating <a class=\"anchor\" id=\"t2\"></a>\n",
    "\n",
    "There are lots of methods for formating and manipulating strings built into python. Some of these are illustrated here.\n",
    "\n",
    "String concatenation is the \"addition\" of two strings. Observe that while concatenating there will be no space between the strings."
   ]
  },
  {
   "cell_type": "code",
   "execution_count": null,
   "metadata": {},
   "outputs": [],
   "source": [
    "string1='World'\n",
    "string2='!'\n",
    "print('Hello' + string1 + string2)"
   ]
  },
  {
   "cell_type": "markdown",
   "metadata": {},
   "source": [
    "The 'print' by default returns everything as a string. The **%** operator is used to format a string inserting the value that comes after. The most common types of format specifiers are:\n",
    "\n",
    "    - %s -> string\n",
    "    - %d -> Integer\n",
    "    - %f -> Float\n",
    "    \n",
    "This can be handy when writing something repetitive or needing numbers to be encoded as integers or floats.\n",
    "\n",
    "For this purpose, '%s' or '%d' or '%f' is written within the \"normal input\", this acts as a placeholder. After the \"normal input\" there is then a '%' followed by the respective value(s) to be inserted at the place of the placeholder (and spaces are ignored if they are not part of the string)."
   ]
  },
  {
   "cell_type": "code",
   "execution_count": null,
   "metadata": {},
   "outputs": [],
   "source": [
    "print(\"Hello %s\" % string1)           # The '%s' denotes the format to change to, the % denotes what value to change.\n",
    "print(\"Actual Number = %d\" %18)\n",
    "print(\"Float of the number = %f\" %18)\n",
    "print(\"Float of the number = %f\" %18)"
   ]
  },
  {
   "cell_type": "markdown",
   "metadata": {},
   "source": [
    "When referring to multiple variables parenthesis are used. Values are inserted in the order they appear in the parenthesis."
   ]
  },
  {
   "cell_type": "code",
   "execution_count": null,
   "metadata": {},
   "outputs": [],
   "source": [
    "print(\"Hello %s %s. This meaning of life is %d\" %(string1,string2,42))"
   ]
  },
  {
   "cell_type": "markdown",
   "metadata": {},
   "source": [
    "We can also specify the width of the field and the number of decimal places to be used. For example:"
   ]
  },
  {
   "cell_type": "code",
   "execution_count": null,
   "metadata": {},
   "outputs": [],
   "source": [
    "print('Print width 10: |%10s|'%'xy') \n",
    "# The '%' starts the formatting, '10' signals the number of charters spaces, 's' identifies it as a string value,\n",
    "# since xy is only 2 characters, the rest (from the left) is filled with spaces.\n",
    "# This is called \"padding\".\n",
    "print(\"The number pi = %.2f to 2 decimal places\"%3.1415) \n",
    "# The '.2' commands two decimal places and the 'f' commands a float value.\n",
    "print(\"More space pi = %10.2f\"%3.1415) # An example of padding plus decimal formatting.\n",
    "print(\"Pad pi with 0 = %010.2f\"%3.1415) # The 0 before the 10 indicates that the space is to be filled with zeros."
   ]
  },
  {
   "cell_type": "markdown",
   "metadata": {},
   "source": [
    "## 3 Other String Methods <a class=\"anchor\" id=\"t3\"></a>"
   ]
  },
  {
   "cell_type": "markdown",
   "metadata": {},
   "source": [
    "Multiplying a string by an integer simply repeats it:"
   ]
  },
  {
   "cell_type": "code",
   "execution_count": null,
   "metadata": {},
   "outputs": [],
   "source": [
    "print(\"Hello World! \"*5)"
   ]
  },
  {
   "cell_type": "markdown",
   "metadata": {},
   "source": [
    "Strings can be tranformed by a variety of functions:"
   ]
  },
  {
   "cell_type": "code",
   "execution_count": null,
   "metadata": {},
   "outputs": [],
   "source": [
    "hw = \"hello woRLD\"\n",
    "print(hw.capitalize()) # capitalizes first letter\n",
    "print(hw.title()) # capitalizes entire string\n",
    "print(hw.lower()) # miniscules entire string\n",
    "print('|%s|' % hw.center(30)) # The string is printed in the middle of 30 spaces.\n",
    "print('|%s|' % \"     lots of space             \".strip()) # This deletes blanks at the beginning and end of the string.\n",
    "print(hw.replace(\"woRLD\", \"Class\")) # Searches and replaces specific values"
   ]
  },
  {
   "cell_type": "markdown",
   "metadata": {},
   "source": [
    "There are also lots of ways to inspect or check strings. Examples of a few of these are given here:"
   ]
  },
  {
   "cell_type": "code",
   "execution_count": null,
   "metadata": {},
   "outputs": [],
   "source": [
    "hw=\"Hello World\"\n",
    "print(\"The length of '%s' is\"%hw,len(hw),\"characters\") # len() gives length\n",
    "print(hw.startswith(\"Hello\") and hw.endswith(\"World\")) # check start/end\n",
    "# count strings:\n",
    "print(\"There are %d 'l's but only %d World in %s\" % (hw.count('l'),hw.count('World'),hw)) \n",
    "# '.count()' can be told to count specific values\n",
    "print('\"el\" is at index',hw.find('el'),\"in\",hw)"
   ]
  },
  {
   "cell_type": "markdown",
   "metadata": {},
   "source": [
    "## 4 Accessing parts of strings <a class=\"anchor\" id=\"t4\"></a>"
   ]
  },
  {
   "cell_type": "markdown",
   "metadata": {},
   "source": [
    "Strings can be indexed with square brackets. Indexing starts from zero in Python. "
   ]
  },
  {
   "cell_type": "code",
   "execution_count": null,
   "metadata": {},
   "outputs": [],
   "source": [
    "ch = 'abcdefghi'\n",
    "print('First charcter of',ch,'is',ch[0]) \n",
    "# last term calls for the value of first character in variable 's' (counting starts at 0)\n",
    "print('Third charcter of',ch,'is',ch[2])\n",
    "print('Last charcter of',ch,'is',ch[len(ch)-1]) \n",
    "# the last term calls for the last value of the variable, at the position \n",
    "# 8 = 9-1 = len(ch)-1 = \"Number of characters of ch\" - 1 \n",
    "#(since counting starts with 0, the -1 is needed to get the last value)"
   ]
  },
  {
   "cell_type": "markdown",
   "metadata": {},
   "source": [
    "Negative indices can be used to start counting from the back"
   ]
  },
  {
   "cell_type": "code",
   "execution_count": null,
   "metadata": {},
   "outputs": [],
   "source": [
    "print('First charcter of',ch,'is',ch[-len(ch)]) \n",
    "# Last term is read as -9, the - signals the code to count the string from right to left\n",
    "print('Last character of',ch,'is',ch[-1])"
   ]
  },
  {
   "cell_type": "markdown",
   "metadata": {},
   "source": [
    "Finally a substring (range of characters) can be specified as using $a:b$ to specify the characters at index $a,a+1,\\ldots,b-1$. Note that the last character is *not* included. This ensures that the number of characters of [x:y] is y-x.\n"
   ]
  },
  {
   "cell_type": "code",
   "execution_count": null,
   "metadata": {},
   "outputs": [],
   "source": [
    "print(\"First three characters\",ch[0:3])\n",
    "print(\"Next three characters\",ch[3:6])"
   ]
  },
  {
   "cell_type": "markdown",
   "metadata": {},
   "source": [
    "An empty beginning/end of the range denotes the first/last character of the string:"
   ]
  },
  {
   "cell_type": "code",
   "execution_count": null,
   "metadata": {},
   "outputs": [],
   "source": [
    "print(\"First three characters\", ch[:3])\n",
    "print(\"Last three characters\", ch[-3:])"
   ]
  },
  {
   "cell_type": "markdown",
   "metadata": {},
   "source": [
    "## 5 Strings are immutable <a class=\"anchor\" id=\"t5\"></a>\n",
    "\n",
    "It is important that strings are constant, immutable values in Python. While new strings can easily be created it is not possible to modify a string:"
   ]
  },
  {
   "cell_type": "code",
   "execution_count": null,
   "metadata": {},
   "outputs": [],
   "source": [
    "ch = 'abcdefghi'\n",
    "chX = ch[:2]+'X'+ch[3:] # this creates a new string (with the name chX), with c replaced by X\n",
    "print(\"creating a new string:\", chX)\n",
    "chX2 = ch.replace('c','X') # this also creates a new string (with the name chX2), with c replaced by X\n",
    "print(\"creating a second new string:\", chX2)\n",
    "print(\"the original string stays the same:\", ch)"
   ]
  },
  {
   "cell_type": "code",
   "execution_count": null,
   "metadata": {},
   "outputs": [],
   "source": [
    "ch[2] = 'X' # a string can not be changed in this way! -> Error"
   ]
  },
  {
   "cell_type": "markdown",
   "metadata": {},
   "source": [
    "## 6 Type Function <a class=\"anchor\" id=\"t6\"></a>\n",
    "\n",
    "The type function can call upon a an argument and returns the calls type of the object:"
   ]
  },
  {
   "cell_type": "code",
   "execution_count": null,
   "metadata": {},
   "outputs": [],
   "source": [
    "a = 1\n",
    "print(\"a   is of type\", type(a))\n",
    "print(\"1   is of type\", type(1))\n",
    "\n",
    "b = 1.0\n",
    "print(\"b   is of type\", type(b))\n",
    "print(\"1.0 is of type\", type(1.0))\n",
    "\n",
    "c = '1'\n",
    "print(\"c   is of type\", type(c))\n",
    "print(\"'1' is of type\", type('1'))"
   ]
  }
 ],
 "metadata": {
  "kernelspec": {
   "display_name": "Python 3",
   "language": "python",
   "name": "python3"
  },
  "language_info": {
   "codemirror_mode": {
    "name": "ipython",
    "version": 3
   },
   "file_extension": ".py",
   "mimetype": "text/x-python",
   "name": "python",
   "nbconvert_exporter": "python",
   "pygments_lexer": "ipython3",
   "version": "3.7.1"
  },
  "varInspector": {
   "cols": {
    "lenName": 16,
    "lenType": 16,
    "lenVar": 40
   },
   "kernels_config": {
    "python": {
     "delete_cmd_postfix": "",
     "delete_cmd_prefix": "del ",
     "library": "var_list.py",
     "varRefreshCmd": "print(var_dic_list())"
    },
    "r": {
     "delete_cmd_postfix": ") ",
     "delete_cmd_prefix": "rm(",
     "library": "var_list.r",
     "varRefreshCmd": "cat(var_dic_list()) "
    }
   },
   "types_to_exclude": [
    "module",
    "function",
    "builtin_function_or_method",
    "instance",
    "_Feature"
   ],
   "window_display": false
  }
 },
 "nbformat": 4,
 "nbformat_minor": 1
}
