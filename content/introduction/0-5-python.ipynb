{
 "cells": [
  {
   "cell_type": "raw",
   "metadata": {},
   "source": [
    "---\n",
    "metadata: true\n",
    "section: Get started with Python\n",
    "goal: \"Get the basis of programming in Python to be able to follow the advanced level.\"\n",
    "time: \"10 min\"\n",
    "toccontent: \"\"\n",
    "prerequisites: \"Curiosity\"\n",
    "level: \"Advanced\"\n",
    "---"
   ]
  },
  {
   "cell_type": "markdown",
   "metadata": {},
   "source": [
    "In this section, we propose some tutorials for beginners to get started with Python and the Pandas library. The tutorials were developed by the [Institute of Maritime Logistics](https://www.tuhh.de/mls/willkommen.html) and the [Institute for Software Systems](https://www.tuhh.de/sts/institute.html), from the TUHH.\n",
    "\n",
    "Generally, in the course, we introduce most functions and methods used. Therefore, the required level in Python is not extremely high and it should be easy to follow once you understand the basics of programming and the syntax of Python.\n",
    "\n",
    "To have a good basis for the advanced level, you need to know about lists, functions, loops (control flow statements) and the Pandas library."
   ]
  }
 ],
 "metadata": {
  "kernelspec": {
   "display_name": "Python 3",
   "language": "python",
   "name": "python3"
  },
  "language_info": {
   "codemirror_mode": {
    "name": "ipython",
    "version": 3
   },
   "file_extension": ".py",
   "mimetype": "text/x-python",
   "name": "python",
   "nbconvert_exporter": "python",
   "pygments_lexer": "ipython3",
   "version": "3.7.1"
  },
  "varInspector": {
   "cols": {
    "lenName": 16,
    "lenType": 16,
    "lenVar": 40
   },
   "kernels_config": {
    "python": {
     "delete_cmd_postfix": "",
     "delete_cmd_prefix": "del ",
     "library": "var_list.py",
     "varRefreshCmd": "print(var_dic_list())"
    },
    "r": {
     "delete_cmd_postfix": ") ",
     "delete_cmd_prefix": "rm(",
     "library": "var_list.r",
     "varRefreshCmd": "cat(var_dic_list()) "
    }
   },
   "types_to_exclude": [
    "module",
    "function",
    "builtin_function_or_method",
    "instance",
    "_Feature"
   ],
   "window_display": false
  }
 },
 "nbformat": 4,
 "nbformat_minor": 2
}
