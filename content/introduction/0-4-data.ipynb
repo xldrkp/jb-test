{
 "cells": [
  {
   "cell_type": "raw",
   "metadata": {},
   "source": [
    "---\n",
    "metadata: true\n",
    "section: .csv files - data format used in the course\n",
    "goal: \"Understand the properties of the .csv files.\"\n",
    "time: \"\"\n",
    "prerequisites: \"Curiosity\"\n",
    "level: \"Advanced\"\n",
    "---"
   ]
  },
  {
   "cell_type": "markdown",
   "metadata": {},
   "source": [
    "The data is the central point of this course. In this section, we explain the ``.csv`` file format that is used in the course.\n",
    "\n",
    "__CSV__ means _Comma Separated Value_: the file contains data, each value being separated with a comma. This format is used to represent data as tables: one row for a new data point, each column for the value of an attribute.\n",
    "\n",
    "This is how a ``.csv`` file looks like in a text editor:\n",
    "\n",
    "![text](csv1.JPG)\n",
    "\n",
    "The first line contains the _header_: the values are the 'titles' of the columns. Each following line contains a datapoint.\n",
    "\n",
    "In a program able to read ``.csv`` files (for example, Excel, or here Python), the data look like this:\n",
    "\n",
    "![text](csv2.JPG)\n",
    "\n",
    "We can see on this example a dataset containing 3 attributes: ``Petallength``, ``Petalwidth`` and ``class``."
   ]
  }
 ],
 "metadata": {
  "kernelspec": {
   "display_name": "Python 3",
   "language": "python",
   "name": "python3"
  },
  "language_info": {
   "codemirror_mode": {
    "name": "ipython",
    "version": 3
   },
   "file_extension": ".py",
   "mimetype": "text/x-python",
   "name": "python",
   "nbconvert_exporter": "python",
   "pygments_lexer": "ipython3",
   "version": "3.7.1"
  },
  "varInspector": {
   "cols": {
    "lenName": 16,
    "lenType": 16,
    "lenVar": 40
   },
   "kernels_config": {
    "python": {
     "delete_cmd_postfix": "",
     "delete_cmd_prefix": "del ",
     "library": "var_list.py",
     "varRefreshCmd": "print(var_dic_list())"
    },
    "r": {
     "delete_cmd_postfix": ") ",
     "delete_cmd_prefix": "rm(",
     "library": "var_list.r",
     "varRefreshCmd": "cat(var_dic_list()) "
    }
   },
   "types_to_exclude": [
    "module",
    "function",
    "builtin_function_or_method",
    "instance",
    "_Feature"
   ],
   "window_display": false
  }
 },
 "nbformat": 4,
 "nbformat_minor": 2
}
