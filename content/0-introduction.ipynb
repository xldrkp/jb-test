{
 "cells": [
  {
   "cell_type": "raw",
   "metadata": {},
   "source": [
    "---\n",
    "section: Introduction\n",
    "goal: \"Get an insight on the contents, goals and challenges of this course.\"\n",
    "time: \"10 min\"\n",
    "prerequisites: \"Curiosity\"\n",
    "level: \"Beginner and advanced\"\n",
    "---"
   ]
  },
  {
   "cell_type": "markdown",
   "metadata": {},
   "source": [
    "## About the course \n",
    "\n",
    "Did you know that most of the hiring processes in big companies are complemented by some machine learning algorithms, in charge of pre-selecting the best resumes before handing them to a human? [(1)](https://emerj.com/ai-sector-overviews/machine-learning-for-recruiting-and-hiring/) That some banks use machine learning to predict whether or not you will be able to reimburse a credit? [(2)](https://towardsdatascience.com/my-analysis-from-50-papers-on-the-application-of-ml-in-credit-lending-b9b810a3f38) That most online customer support usually start the interactions with an intelligent agent rather than a human? [(3)](https://blog.aimultiple.com/customer-service-ai/) Because of the vast amount of applications we are confronted to in our daily life, a basic knowledge of data science is essential to understand how decisions are made and what we, as a member of society, can do to maximize the efficiency and minimise the risks of these processes.\n",
    "\n",
    "That is why public awareness on the field of computer science technology is of great importance, and science enthusiasts should not be the only ones to be informed about these challenges and pitfalls. Education should offer learning opportunities to a broad audience, by creating resources that are understandable with no to little scientific background. With that in mind, we want to design an online course about machine learning that is accessible for everybody, with different levels of difficulty."
   ]
  },
  {
   "cell_type": "markdown",
   "metadata": {},
   "source": [
    "## Is it for me?\n",
    "\n",
    "<iframe src=\"https://h5p.org/h5p/embed/745925\" width=\"694\" height=\"600\" frameborder=\"0\" allowfullscreen=\"allowfullscreen\"></iframe><script src=\"https://h5p.org/sites/all/modules/h5p/library/js/h5p-resizer.js\" charset=\"UTF-8\"></script>\n",
    "\n",
    "This course addresses whoever is interested to learn more about how data is used in general in nowadays technologies.\n",
    "\n",
    "Because the course is available as two different levels, beginners in science and programming are more than welcome: the only prerequisite is curiosity in the topic, and ability to understand basic logic and science. No coding is required: you can play around with the data using only sliders and visual interfaces.\n",
    "\n",
    "For those who like a little more challenge, the advanced level is here: the content is the same as for the beginner level, except that the manipulations are made with coding. For this level, you need to have some basics in programming, but don't worry: we provide in the introduction some tutorials for beginners who are interested in coding. In general, Python is an easy-to-learn programming language, and in the scope of this course we use it at a light level.\n",
    "\n",
    "No basic knowledge of machine learning is required here, as we also provide an introduction on the topic. The course focuses on data quality, so the machine learning tasks are kept very simple in this course."
   ]
  },
  {
   "cell_type": "markdown",
   "metadata": {},
   "source": [
    "## Topics covered by the course\n",
    "\n",
    "You will learn to detect some errors in data, how they can affect the task they are used for, and how to \"repair\" them, or mitigate the consequences of bad quality in data.\n",
    "\n",
    "As data quality can vary much depending on the type of data, we chose to focus on 3 different types of data:\n",
    "+ numerical data: data containing mostly numerical values; the simplest type of data to be processed, in this case logistics data (such as AIS data).\n",
    "+ image data: a representation of the pixels constituting an image.\n",
    "+ text data: a harder task for evaluating data quality, where the information is expressed in natural language (sentences)."
   ]
  },
  {
   "cell_type": "markdown",
   "metadata": {},
   "source": [
    "## Design of the learning arrangement\n",
    "\n",
    "The course is developed using [Jupyter Book](https://jupyterbook.org/intro.html), which provides an interactive interface, mixing text content with code cells.\n",
    "\n",
    "For the beginner level, the code cells are hidden and the interaction happens through text, graphs, sliders, text boxes, and some quizzes come regularly for you to make sure that you understand what you are reading. Everything is online and you do not need to install anything on your personal computer.\n",
    "\n",
    "Here is an example of an interactive widget, of the sort of those that will be used in the course. This widget lets you plot the route taken by a ship step by step. Move the slider to visualize the route taken at different times."
   ]
  },
  {
   "cell_type": "code",
   "execution_count": 17,
   "metadata": {},
   "outputs": [
    {
     "data": {
      "application/vnd.jupyter.widget-view+json": {
       "model_id": "e19e3cd2671a4022bf5dd1ec0ac3b5f4",
       "version_major": 2,
       "version_minor": 0
      },
      "text/plain": [
       "interactive(children=(IntSlider(value=0, continuous_update=False, description='Points:', max=143), Output()), …"
      ]
     },
     "metadata": {},
     "output_type": "display_data"
    },
    {
     "data": {
      "text/plain": [
       "<function __main__.plot_trip(point)>"
      ]
     },
     "execution_count": 17,
     "metadata": {},
     "output_type": "execute_result"
    }
   ],
   "source": [
    "# Beginner level: code cell to hide\n",
    "\n",
    "import pandas as pd\n",
    "import matplotlib.pyplot as plt\n",
    "import numpy as np\n",
    "import ipywidgets as widgets\n",
    "from ipywidgets import interact\n",
    "\n",
    "data = pd.read_csv('./trip9.csv')\n",
    "\n",
    "def plot_trip(point):\n",
    "    df = data.iloc[0 : point]\n",
    "    plt.figure(figsize = (12, 8))\n",
    "    plt.xlim(-122.81, -122.67)\n",
    "    plt.ylim(45.60, 45.87)\n",
    "    plt.plot(df['LON'], df['LAT'], 'x')\n",
    "    \n",
    "interact(plot_trip,\n",
    "         point = widgets.IntSlider(\n",
    "             value = 0,\n",
    "             min = 0,\n",
    "             max = len(data),\n",
    "             step = 1,\n",
    "             description = 'Points:',\n",
    "             disabled = False,\n",
    "             continuous_update = False,\n",
    "             orientation = 'horizontal',\n",
    "             readout = True,\n",
    "             readout_format = 'd'))"
   ]
  },
  {
   "cell_type": "markdown",
   "metadata": {},
   "source": [
    "The advanced level can use the interface of Jupyter Book at its fullest: the code cells can be modified, run and re-run directly on the page. Here again, everything happens online. However, if you want to do your own experiments, it is also possible to download the content and the datasets on your personal machine. __TODO: make sure about that later__\n",
    "\n",
    "For example: here are two interactive code cells that for now allow you to plot the distribution of an attribute of the dataset, and the values of two attributes against each other. Feel free to change the attribute plotted by replacing ``'LAT'`` in the first cell with another plottable attribute, and do the same in the second cell. You can also completely delete the content of the cell and add your own content, or create a bug: try replacing ``'LAT'`` with a random string, for example."
   ]
  },
  {
   "cell_type": "code",
   "execution_count": 41,
   "metadata": {},
   "outputs": [
    {
     "data": {
      "text/plain": [
       "<matplotlib.axes._subplots.AxesSubplot at 0x24e778c4f28>"
      ]
     },
     "execution_count": 41,
     "metadata": {},
     "output_type": "execute_result"
    },
    {
     "data": {
      "image/png": "[encoded data removed]",
      "text/plain": [
       "<Figure size 432x288 with 1 Axes>"
      ]
     },
     "metadata": {
      "needs_background": "light"
     },
     "output_type": "display_data"
    }
   ],
   "source": [
    "import pandas as pd\n",
    "\n",
    "data = pd.read_csv('./trip9.csv')\n",
    "\n",
    "# plottable attributes: LAT, LON, SOG, COG, Heading\n",
    "\n",
    "data['LAT'].plot.hist()"
   ]
  },
  {
   "cell_type": "code",
   "execution_count": 38,
   "metadata": {},
   "outputs": [
    {
     "data": {
      "text/plain": [
       "[<matplotlib.lines.Line2D at 0x24e77830278>]"
      ]
     },
     "execution_count": 38,
     "metadata": {},
     "output_type": "execute_result"
    },
    {
     "data": {
      "image/png": "[encoded data removed]",
      "text/plain": [
       "<Figure size 864x576 with 1 Axes>"
      ]
     },
     "metadata": {
      "needs_background": "light"
     },
     "output_type": "display_data"
    }
   ],
   "source": [
    "plt.figure(figsize = (12, 8))\n",
    "plt.plot(data['LON'], data['LAT'], 'x')"
   ]
  },
  {
   "cell_type": "markdown",
   "metadata": {},
   "source": [
    "## Prerequisite needed\n",
    "\n",
    "__TODO__"
   ]
  },
  {
   "cell_type": "markdown",
   "metadata": {},
   "source": [
    "## Validation of the course and certificate for the learner\n",
    "\n",
    "__TODO__"
   ]
  },
  {
   "cell_type": "markdown",
   "metadata": {},
   "source": [
    "## Context of the project\n",
    "\n",
    "The project is developed by the [Institute for Software Systems](https://www.tuhh.de/sts/institute.html) (STS) at the TUHH, under the supervision of [Prof. Sibylle Schupp](https://www.tuhh.de/sts/institute/prof-dr-sibylle-schupp.html).\n",
    "The STS institute specializes in the following research fields: model checking and abstract interpretation, software quality and verification, and data protection and machine learning.\n",
    "\n",
    "The collaborators of QuaXP previously worked on a related project: [MaLiTuP](https://www.tuhh.de/sts/research/data-protection-machine-learning/malitup.html) (Machine Learning in Theory and Practice), a collaboration between the [Institute of Maritime Logistics](https://www.tuhh.de/alt/mls/welcome.html) (MLS) and the STS institute, which successfully developed a beginner course in machine learning for students in maritime logistics. With this project, we gained experience in teaching with Python and Jupyter Notebook, as well as in designing lectures and tasks for beginners in machine learning."
   ]
  }
 ],
 "metadata": {
  "kernelspec": {
   "display_name": "Python 3",
   "language": "python",
   "name": "python3"
  },
  "language_info": {
   "codemirror_mode": {
    "name": "ipython",
    "version": 3
   },
   "file_extension": ".py",
   "mimetype": "text/x-python",
   "name": "python",
   "nbconvert_exporter": "python",
   "pygments_lexer": "ipython3",
   "version": "3.7.1"
  },
  "varInspector": {
   "cols": {
    "lenName": 16,
    "lenType": 16,
    "lenVar": 40
   },
   "kernels_config": {
    "python": {
     "delete_cmd_postfix": "",
     "delete_cmd_prefix": "del ",
     "library": "var_list.py",
     "varRefreshCmd": "print(var_dic_list())"
    },
    "r": {
     "delete_cmd_postfix": ") ",
     "delete_cmd_prefix": "rm(",
     "library": "var_list.r",
     "varRefreshCmd": "cat(var_dic_list()) "
    }
   },
   "types_to_exclude": [
    "module",
    "function",
    "builtin_function_or_method",
    "instance",
    "_Feature"
   ],
   "window_display": false
  }
 },
 "nbformat": 4,
 "nbformat_minor": 2
}
