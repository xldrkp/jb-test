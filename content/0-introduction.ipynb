{
 "cells": [
  {
   "cell_type": "raw",
   "metadata": {},
   "source": [
    "---\n",
    "section: Introduction\n",
    "goal: \"Get an insight of what this is all about.\"\n",
    "time: \"10 min\"\n",
    "toccontent: \"\"\n",
    "prerequisites: \"Curiosity\"\n",
    "level: \"Beginner and expert\"\n",
    "---"
   ]
  },
  {
   "cell_type": "markdown",
   "metadata": {},
   "source": [
    "## About the course \n",
    "\n",
    "Did you know that most of the hiring processes in big companies are complemented by some machine learning algorithms, in charge of pre-selecting the best resumes before handing them to a human? [(1)](https://emerj.com/ai-sector-overviews/machine-learning-for-recruiting-and-hiring/) That some banks use machine learning to predict whether or not you will be able to reimburse a credit? [(2)](https://towardsdatascience.com/my-analysis-from-50-papers-on-the-application-of-ml-in-credit-lending-b9b810a3f38) That most online customer support usually start the interactions with an intelligent agent rather than a human? [(3)](https://blog.aimultiple.com/customer-service-ai/) Because of the vast amount of applications we are confronted to in our daily life, a basic knowledge of data science is essential to understand how decisions are made and what we, as a member of society, can do to maximize the efficiency and minimise the risks of these processes.\n",
    "\n",
    "That is why public awareness on the field of computer science technology is of great importance, and science enthusiasts should not be the only ones to be informed about these challenges and pitfalls. Education should offer learning opportunities to a broad audience, by creating resources that are understandable with no to little scientific background. With that in mind, we want to design an online course about machine learning that is accessible for everybody, with different levels of difficulty."
   ]
  },
  {
   "cell_type": "markdown",
   "metadata": {},
   "source": [
    "## Is it for me?\n",
    "\n",
    "<iframe src=\"https://h5p.org/h5p/embed/745925\" width=\"694\" height=\"600\" frameborder=\"0\" allowfullscreen=\"allowfullscreen\"></iframe><script src=\"https://h5p.org/sites/all/modules/h5p/library/js/h5p-resizer.js\" charset=\"UTF-8\"></script>\n",
    "\n",
    "This course addresses whoever is interested to learn more about how data is used in general in nowadays technologies.\n",
    "\n",
    "Because the course is available as two different levels, beginners in science and programming are more than welcome: the only prerequisite is curiosity in the topic, and ability to understand basic logic and science. No coding is required: you can play around with the data using only sliders and visual interfaces.\n",
    "\n",
    "For those who like a little more challenge, the advanced level is here: the content is the same as for the beginner level, except that the manipulations are made with coding. For this level, you need to have some basics in programming, but don't worry: we provide in the introduction some tutorials for beginners who are interested in coding. In general, Python is an easy-to-learn programming language, and in the scope of this course we use it at a light level.\n",
    "\n",
    "No basic knowledge of machine learning is required here, as we also provide an introduction on the topic. The course focuses on data quality, so the machine learning tasks are kept very simple in this course."
   ]
  },
  {
   "cell_type": "markdown",
   "metadata": {},
   "source": [
    "## What will I learn?\n",
    "\n",
    "You will learn to detect some errors in data, how they can affect the task they are used for, and how to \"repair\" them, or mitigate the consequences of bad quality in data."
   ]
  },
  {
   "cell_type": "markdown",
   "metadata": {},
   "source": [
    "## How will I learn?\n",
    "\n",
    "The course is developed using [Jupyter Book](https://jupyterbook.org/intro.html), which provides an interactive interface, mixing text content with code cells.\n",
    "\n",
    "For the beginner level, the code cells are hidden and the interaction happens through text, graphs, sliders, text boxes, and some quizzes come regularly for you to make sure that you understand what you are reading. Everything is online and you do not need to install anything on your personal computer.\n",
    "\n",
    "__TODO: probably need to find better examples, simple enough but with a better connection to the content of the course.__\n",
    "\n",
    "Here is an example of an interactive widget, of the sort of those that will be used in the course. This widget lets you plot a line on a graph from an equation that you can select in the list."
   ]
  },
  {
   "cell_type": "code",
   "execution_count": 2,
   "metadata": {},
   "outputs": [
    {
     "data": {
      "application/vnd.jupyter.widget-view+json": {
       "model_id": "7f3039bbdf734052ad8125d6ebe9f54e",
       "version_major": 2,
       "version_minor": 0
      },
      "text/plain": [
       "interactive(children=(Dropdown(description='y = ', options=('x + 2', '2x', 'x^2', 'x^3', 'sin(x)', 'cos(x)'), …"
      ]
     },
     "metadata": {},
     "output_type": "display_data"
    },
    {
     "data": {
      "text/plain": [
       "<function __main__.plot_lines(equation)>"
      ]
     },
     "execution_count": 2,
     "metadata": {},
     "output_type": "execute_result"
    }
   ],
   "source": [
    "# Beginner level: code cell to hide\n",
    "\n",
    "import matplotlib.pyplot as plt\n",
    "import numpy as np\n",
    "import ipywidgets as widgets\n",
    "from ipywidgets import interact\n",
    "\n",
    "equations = ['x + 2', '2x', 'x^2', 'x^3', 'sin(x)', 'cos(x)']\n",
    "\n",
    "def plot_lines(equation):\n",
    "    \n",
    "    x = np.linspace(-10, 10, 1000)\n",
    "    \n",
    "    if equation == equations[0]:\n",
    "        y = x + 2\n",
    "    elif equation == equations[1]:\n",
    "        y = 2 * x\n",
    "    elif equation == equations[2]:\n",
    "        y = x ** 2\n",
    "    elif equation == equations[3]:\n",
    "        y = x ** 3\n",
    "    elif equation == equations[4]:\n",
    "        y = np.sin(x)\n",
    "    else:\n",
    "        y = np.cos(x)\n",
    "    \n",
    "    plt.figure(figsize = (12, 8))\n",
    "    plt.xlim(-5, 5)\n",
    "    plt.ylim(-5, 5)\n",
    "    plt.plot(x, x, linestyle = '-')\n",
    "    plt.plot(x, y, linestyle = '--')\n",
    "    \n",
    "interact(plot_lines,\n",
    "         equation = widgets.Dropdown(options = equations,\n",
    "                                     value = equations[0],\n",
    "                                     description = 'y = ',\n",
    "                                     disabled = False,))"
   ]
  },
  {
   "cell_type": "markdown",
   "metadata": {},
   "source": [
    "The advanced level can use the interface of Jupyter Book at its fullest: the code cells can be modified, run and re-run directly on the page. Here again, everything happens online. However, if you want to do your own experiments, it is also possible to download the content and the datasets on your personal machine. __TODO: make sure about that later__\n",
    "\n",
    "For example: here is an interactive code cell that produces a plot of two lines. Feel free to change the equation of the orange line by changing the value of ``y``. __TODO: change also here when changed above.__"
   ]
  },
  {
   "cell_type": "code",
   "execution_count": 3,
   "metadata": {},
   "outputs": [
    {
     "data": {
      "text/plain": [
       "[<matplotlib.lines.Line2D at 0x1977109e080>]"
      ]
     },
     "execution_count": 3,
     "metadata": {},
     "output_type": "execute_result"
    },
    {
     "data": {
      "image/png": "[encoded data removed]",
      "text/plain": [
       "<Figure size 864x576 with 1 Axes>"
      ]
     },
     "metadata": {
      "needs_background": "light"
     },
     "output_type": "display_data"
    }
   ],
   "source": [
    "# Example of an embedded code cell\n",
    "\n",
    "import matplotlib.pyplot as plt\n",
    "\n",
    "x = np.linspace(-10, 10, 1000)\n",
    "\n",
    "# Change the equation to plot\n",
    "y = x ** 2 # here it is x^2\n",
    "\n",
    "plt.figure(figsize = (12, 8))\n",
    "plt.xlim(-5, 5)\n",
    "plt.ylim(-5, 5)\n",
    "plt.plot(x, x, linestyle = '-')\n",
    "plt.plot(x, y, linestyle = '--')"
   ]
  },
  {
   "cell_type": "markdown",
   "metadata": {},
   "source": [
    "## What do I have to know to join?\n",
    "\n",
    "__TODO__"
   ]
  },
  {
   "cell_type": "markdown",
   "metadata": {},
   "source": [
    "## What do I get?\n",
    "\n",
    "Some cool new knowledge and some fun. __TODO__"
   ]
  },
  {
   "cell_type": "markdown",
   "metadata": {},
   "source": [
    "## Who is doing all this here?\n",
    "\n",
    "The project is developed by the [Institute for Software Systems](https://www.tuhh.de/sts/institute.html) (STS) at the TUHH, under the supervision of [Prof. Sibylle Schupp](https://www.tuhh.de/sts/institute/prof-dr-sibylle-schupp.html).\n",
    "The STS institute specializes in the following research fields: model checking and abstract interpretation, software quality and verification, and data protection and machine learning.\n",
    "\n",
    "The collaborators of QuaXP previously worked on a related project: [MaLiTuP](https://www.tuhh.de/sts/research/data-protection-machine-learning/malitup.html) (Machine Learning in Theory and Practice), a collaboration between the [Institute of Maritime Logistics](https://www.tuhh.de/alt/mls/welcome.html) (MLS) and the STS institute, which successfully developed a beginner course in machine learning for students in maritime logistics. With this project, we gained experience in teaching with Python and Jupyter Notebook, as well as in designing lectures and tasks for beginners in machine learning."
   ]
  }
 ],
 "metadata": {
  "kernelspec": {
   "display_name": "Python 3",
   "language": "python",
   "name": "python3"
  },
  "language_info": {
   "codemirror_mode": {
    "name": "ipython",
    "version": 3
   },
   "file_extension": ".py",
   "mimetype": "text/x-python",
   "name": "python",
   "nbconvert_exporter": "python",
   "pygments_lexer": "ipython3",
   "version": "3.7.1"
  },
  "varInspector": {
   "cols": {
    "lenName": 16,
    "lenType": 16,
    "lenVar": 40
   },
   "kernels_config": {
    "python": {
     "delete_cmd_postfix": "",
     "delete_cmd_prefix": "del ",
     "library": "var_list.py",
     "varRefreshCmd": "print(var_dic_list())"
    },
    "r": {
     "delete_cmd_postfix": ") ",
     "delete_cmd_prefix": "rm(",
     "library": "var_list.r",
     "varRefreshCmd": "cat(var_dic_list()) "
    }
   },
   "types_to_exclude": [
    "module",
    "function",
    "builtin_function_or_method",
    "instance",
    "_Feature"
   ],
   "window_display": false
  }
 },
 "nbformat": 4,
 "nbformat_minor": 2
}
