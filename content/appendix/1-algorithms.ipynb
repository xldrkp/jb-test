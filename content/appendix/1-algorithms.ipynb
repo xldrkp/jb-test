{
 "cells": [
  {
   "cell_type": "raw",
   "metadata": {},
   "source": [
    "---\n",
    "section: \"Machine learning algorithms and functions used for numerical prediction\"\n",
    "goal: \"Understand the algorithms used for prediction in the first part.\"\n",
    "time: \"x min\"\n",
    "toccontent: \"\"\n",
    "prerequisites: \"AIS data, basics about machine learning\"\n",
    "level: \"Beginner and advanced\"\n",
    "---"
   ]
  },
  {
   "cell_type": "markdown",
   "metadata": {},
   "source": [
    "This lecture is about data quality, so we do not want to focus too much on the task of prediction, but more on the data themselves. For this reason, the prediction functions have been simplified as much as possible, and we will use some simple algorithms from some Python libraries.\n",
    "\n",
    "To understand how a simple task of supervised learning is led, refer to the introductory part (link) __TODO: link to the introduction about supervised learning__.\n",
    "\n",
    "This section is not mandatory to understand the rest of the course, but if you are curious about the functions used for prediction, we will now go through them."
   ]
  },
  {
   "cell_type": "markdown",
   "metadata": {},
   "source": [
    "There are 2 kinds of supervised prediction tasks: classification and regression. Here, they will be tackled the same way, only the algorithm used and the way of measuring the performance change. We use a simple K-Nearest-Neighbors algorithm for both types of prediction tasks."
   ]
  },
  {
   "cell_type": "markdown",
   "metadata": {},
   "source": [
    "## The K-Nearest-Neighbors algorithm"
   ]
  },
  {
   "cell_type": "markdown",
   "metadata": {},
   "source": [
    "__TODO__"
   ]
  },
  {
   "cell_type": "markdown",
   "metadata": {},
   "source": [
    "## Regression function"
   ]
  },
  {
   "cell_type": "markdown",
   "metadata": {},
   "source": [
    "__TODO__"
   ]
  },
  {
   "cell_type": "code",
   "execution_count": null,
   "metadata": {},
   "outputs": [],
   "source": [
    "# KNN regression\n",
    "def knn_regression(df, x,  y):\n",
    "    from sklearn.model_selection import train_test_split\n",
    "    from sklearn.neighbors import KNeighborsRegressor\n",
    "\n",
    "    x_train, x_test, y_train, y_test = train_test_split(df[x], df[y], test_size = 0.2, random_state = 0)\n",
    "    \n",
    "    x_train = x_train.fillna(value = 0)\n",
    "    x_test = x_test.fillna(value = 0)\n",
    "    y_train = y_train.fillna(value = 0)\n",
    "    y_test = y_test.fillna(value = 0)\n",
    "    \n",
    "    knn = KNeighborsRegressor(n_neighbors = 25)\n",
    "    knn.fit(x_train, y_train)\n",
    "    predictions = knn.predict(x_test)\n",
    "    \n",
    "    return predictions, y_test"
   ]
  },
  {
   "cell_type": "markdown",
   "metadata": {},
   "source": [
    "## Classification function"
   ]
  },
  {
   "cell_type": "markdown",
   "metadata": {},
   "source": [
    "__TODO__"
   ]
  },
  {
   "cell_type": "code",
   "execution_count": null,
   "metadata": {},
   "outputs": [],
   "source": [
    "# KNN classification\n",
    "def knn_classification(df, x,  y):\n",
    "    from sklearn.model_selection import train_test_split\n",
    "    from sklearn.neighbors import KNeighborsClassifier\n",
    "    \n",
    "    x_train, x_test, y_train, y_test = train_test_split(df[x], df[y], test_size = 0.2, random_state = 0)\n",
    "    \n",
    "    #x_train = x_train.fillna(value = 0)\n",
    "    #x_test = x_test.fillna(value = 0)\n",
    "    #y_train = y_train.fillna(value = 0)\n",
    "    #y_test = y_test.fillna(value = 0)\n",
    "    \n",
    "    knn = KNeighborsClassifier(n_neighbors = 25)\n",
    "    knn.fit(x_train, y_train)\n",
    "    predictions = knn.predict(x_test)\n",
    "    \n",
    "    return predictions, y_test"
   ]
  },
  {
   "cell_type": "markdown",
   "metadata": {},
   "source": [
    "## Trajectory prediction with Random forest"
   ]
  },
  {
   "cell_type": "markdown",
   "metadata": {},
   "source": [
    "__TODO: remove if not used (very probable)__"
   ]
  },
  {
   "cell_type": "code",
   "execution_count": null,
   "metadata": {},
   "outputs": [],
   "source": [
    "def rf_trajectory(df, split, clas):\n",
    "    '''\n",
    "    Do time series prediction on df\n",
    "    in:\n",
    "    df: pandas DataFrame\n",
    "    split: integer, between 0 and 1, percentage of train/test split\n",
    "    clas: string, the name of the attribute to predict (do it separatly for latitude and longitude)\n",
    "    '''\n",
    "    import numpy as np\n",
    "    from sklearn.metrics import mean_absolute_error\n",
    "    from sklearn.ensemble import RandomForestRegressor\n",
    "    \n",
    "    # First, we create a new dataset with 2 additional columns for prediction:\n",
    "    # - previous_clas: contains the value of the class attribute of the previous row (example: previous latitude value)\n",
    "    # - diff_clas: the difference between the previous value and the current value for the class attribute\n",
    "    \n",
    "    df2 = pd.DataFrame(columns = ['TripID', 'BaseDateTime', clas, 'previous_clas', 'diff_clas'])\n",
    "    \n",
    "    df2['TripID'] = df['TripID']\n",
    "    df2['BaseDateTime'] = df['BaseDateTime']\n",
    "    df2[clas] = df[clas]\n",
    "    \n",
    "    previous_tripid = 'first'\n",
    "    \n",
    "    for index, row in df2.sort_values(['TripID', 'BaseDateTime']).iterrows():\n",
    "        if previous_tripid != row['TripID']: # new trip\n",
    "            previous_tripid = row['TripID']\n",
    "            previous_clas = row[clas]\n",
    "        \n",
    "        df2.loc[index, 'previous_clas'] = previous_clas\n",
    "        previous_clas = row[clas]\n",
    "        \n",
    "    df2['diff_clas'] = df2[clas] - df2['previous_clas']\n",
    "    \n",
    "    df2['previous_clas'] = pd.to_numeric(df2['previous_clas'])\n",
    "    df2['diff_clas'] = pd.to_numeric(df2['diff_clas'])\n",
    "    \n",
    "    # Split training and testing sets: the training set is the first part of the data in the chronological order\n",
    "    nb_train = int(split * len(df2))\n",
    "    nb_test = int(len(df2) - nb_train)\n",
    "    train = df2.head(nb_train)\n",
    "    test = df2.tail(nb_test)\n",
    "    \n",
    "    # Baseline prediction: always predicts the last position\n",
    "    baseline = mean_absolute_error(test[clas], test['previous_clas'])\n",
    "    #print('Baseline: mean absolute error = %.5f' % baseline)\n",
    "    \n",
    "    # Random Forest prediction\n",
    "    # Drop the timestamp columns because they cannot be processed by the random forest algorithm\n",
    "    x_train, x_test = train.drop(columns = [clas, 'BaseDateTime'], axis = 1), test.drop(columns = [clas, 'BaseDateTime'], axis = 1)\n",
    "    y_train, y_test = train[clas].values, test[clas].values\n",
    "\n",
    "    rf = RandomForestRegressor(n_estimators = 1000, n_jobs = -1, random_state = 0)\n",
    "    rf.fit(x_train, y_train)\n",
    "    predictions = rf.predict(x_test)\n",
    "    error = mean_absolute_error(predictions, y_test)\n",
    "    \n",
    "    #print('Random Forest: mean absolute error = %.5f' % error)\n",
    "    \n",
    "    return train, test, predictions, baseline, error"
   ]
  }
 ],
 "metadata": {
  "kernelspec": {
   "display_name": "Python 3",
   "language": "python",
   "name": "python3"
  },
  "language_info": {
   "codemirror_mode": {
    "name": "ipython",
    "version": 3
   },
   "file_extension": ".py",
   "mimetype": "text/x-python",
   "name": "python",
   "nbconvert_exporter": "python",
   "pygments_lexer": "ipython3",
   "version": "3.7.1"
  },
  "varInspector": {
   "cols": {
    "lenName": 16,
    "lenType": 16,
    "lenVar": 40
   },
   "kernels_config": {
    "python": {
     "delete_cmd_postfix": "",
     "delete_cmd_prefix": "del ",
     "library": "var_list.py",
     "varRefreshCmd": "print(var_dic_list())"
    },
    "r": {
     "delete_cmd_postfix": ") ",
     "delete_cmd_prefix": "rm(",
     "library": "var_list.r",
     "varRefreshCmd": "cat(var_dic_list()) "
    }
   },
   "types_to_exclude": [
    "module",
    "function",
    "builtin_function_or_method",
    "instance",
    "_Feature"
   ],
   "window_display": false
  }
 },
 "nbformat": 4,
 "nbformat_minor": 2
}
