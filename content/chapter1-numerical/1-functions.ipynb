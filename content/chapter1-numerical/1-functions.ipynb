{
 "cells": [
  {
   "cell_type": "code",
   "execution_count": null,
   "metadata": {},
   "outputs": [],
   "source": [
    "# KNN regression\n",
    "def knn_regression(df, x,  y):\n",
    "    from sklearn.model_selection import train_test_split\n",
    "    from sklearn.neighbors import KNeighborsRegressor\n",
    "\n",
    "    x_train, x_test, y_train, y_test = train_test_split(df[x], df[y], test_size = 0.2, random_state = 0)\n",
    "    \n",
    "    x_train = x_train.fillna(value = 0)\n",
    "    x_test = x_test.fillna(value = 0)\n",
    "    y_train = y_train.fillna(value = 0)\n",
    "    y_test = y_test.fillna(value = 0)\n",
    "    \n",
    "    knn = KNeighborsRegressor(n_neighbors = 25)\n",
    "    knn.fit(x_train, y_train)\n",
    "    predictions = knn.predict(x_test)\n",
    "    \n",
    "    return predictions, y_test"
   ]
  },
  {
   "cell_type": "code",
   "execution_count": 1,
   "metadata": {},
   "outputs": [],
   "source": [
    "# KNN regression\n",
    "def knn_reg_train(df_train, x,  y):\n",
    "    from sklearn.neighbors import KNeighborsRegressor\n",
    "    \n",
    "    x_train = df_train[x].fillna(value = 0)\n",
    "    y_train = df_train[y].fillna(value = 0)\n",
    "    \n",
    "    knn = KNeighborsRegressor(n_neighbors = 25)\n",
    "    knn.fit(x_train, y_train)\n",
    "    \n",
    "    return knn"
   ]
  },
  {
   "cell_type": "code",
   "execution_count": 1,
   "metadata": {},
   "outputs": [],
   "source": [
    "def baseline_reg(df, x, y):\n",
    "    from sklearn.model_selection import train_test_split\n",
    "    from sklearn.dummy import DummyRegressor\n",
    "    \n",
    "    x_train, x_test, y_train, y_test = train_test_split(df[x], df[y], test_size = 0.2, random_state = 0)\n",
    "    \n",
    "    x_train = x_train.fillna(value = 0)\n",
    "    x_test = x_test.fillna(value = 0)\n",
    "    y_train = y_train.fillna(value = 0)\n",
    "    y_test = y_test.fillna(value = 0)\n",
    "    \n",
    "    dummy = DummyRegressor(strategy = 'mean')\n",
    "    dummy.fit(x_train, y_train)\n",
    "    predictions = dummy.predict(x_test)\n",
    "    \n",
    "    return predictions, y_test"
   ]
  },
  {
   "cell_type": "code",
   "execution_count": null,
   "metadata": {},
   "outputs": [],
   "source": [
    "# KNN classification\n",
    "def knn_classification(df, x,  y):\n",
    "    from sklearn.model_selection import train_test_split\n",
    "    from sklearn.neighbors import KNeighborsClassifier\n",
    "    \n",
    "    x_train, x_test, y_train, y_test = train_test_split(df[x], df[y], test_size = 0.2, random_state = 0)\n",
    "    \n",
    "    #x_train = x_train.fillna(value = 0)\n",
    "    #x_test = x_test.fillna(value = 0)\n",
    "    #y_train = y_train.fillna(value = 0)\n",
    "    #y_test = y_test.fillna(value = 0)\n",
    "    \n",
    "    knn = KNeighborsClassifier(n_neighbors = 25)\n",
    "    knn.fit(x_train, y_train)\n",
    "    predictions = knn.predict(x_test)\n",
    "    \n",
    "    return predictions, y_test"
   ]
  }
 ],
 "metadata": {
  "kernelspec": {
   "display_name": "Python 3",
   "language": "python",
   "name": "python3"
  },
  "language_info": {
   "codemirror_mode": {
    "name": "ipython",
    "version": 3
   },
   "file_extension": ".py",
   "mimetype": "text/x-python",
   "name": "python",
   "nbconvert_exporter": "python",
   "pygments_lexer": "ipython3",
   "version": "3.7.1"
  },
  "varInspector": {
   "cols": {
    "lenName": 16,
    "lenType": 16,
    "lenVar": 40
   },
   "kernels_config": {
    "python": {
     "delete_cmd_postfix": "",
     "delete_cmd_prefix": "del ",
     "library": "var_list.py",
     "varRefreshCmd": "print(var_dic_list())"
    },
    "r": {
     "delete_cmd_postfix": ") ",
     "delete_cmd_prefix": "rm(",
     "library": "var_list.r",
     "varRefreshCmd": "cat(var_dic_list()) "
    }
   },
   "types_to_exclude": [
    "module",
    "function",
    "builtin_function_or_method",
    "instance",
    "_Feature"
   ],
   "window_display": false
  }
 },
 "nbformat": 4,
 "nbformat_minor": 2
}
