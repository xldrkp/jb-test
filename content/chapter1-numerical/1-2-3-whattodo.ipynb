{
 "cells": [
  {
   "cell_type": "raw",
   "metadata": {},
   "source": [
    "---\n",
    "metadata: true\n",
    "section: \"How to deal with missing values?\"\n",
    "goal: \"Get an idea of the different ways to deal with missing values and when to use them.\"\n",
    "time: \"x min\"\n",
    "prerequisites: \"AIS data, basics about machine learning\"\n",
    "level: \"Beginner and advanced\"\n",
    "---"
   ]
  },
  {
   "cell_type": "markdown",
   "metadata": {},
   "source": [
    "In general, there are 3 ways of dealing with missing values:\n",
    "+ __recover the value__: sometimes, it is possible to recover the value, either by guessing or predicting with another machine learning algorithm. For example, for a broader task where we would use the attribute length and width for prediction: we can predict the missing width from the length attribute, with a good model (like the one we built in this course, for example).\n",
    "+ __set up a constant value__: just like we filled the missing values with zeros, it is possible to set up any constant value for the missing values. This works best if the attribute containing the missing values is not the only one used in the model, and a change of it would not change too much the task we want to solve. For example, taking the mean of the series, or the median value, could work.\n",
    "+ __drop the columns or the rows containing missing values__: if an attributes has way too many missing values, it can make sense to just ignore it, and not include it in the model we build. On the other hands, if some rows contain missing values for a lot of different attributes, it can make sense to drop them."
   ]
  },
  {
   "cell_type": "markdown",
   "metadata": {},
   "source": [
    "The way of dealing with missing values depends on the dataset, the number of missing values and the type of problem we want to solve. There is no perfect answer, what is most important is to build a model that is thought through and that makes sense in the context it will be used.\n",
    "\n",
    "Use the following quiz to test your newly acquired knowledge:\n",
    "\n",
    "<iframe src=\"https://h5p.org/h5p/embed/755321\" width=\"694\" height=\"600\" frameborder=\"0\" allowfullscreen=\"allowfullscreen\"></iframe><script src=\"https://h5p.org/sites/all/modules/h5p/library/js/h5p-resizer.js\" charset=\"UTF-8\"></script>"
   ]
  }
 ],
 "metadata": {
  "kernelspec": {
   "display_name": "Python 3",
   "language": "python",
   "name": "python3"
  },
  "language_info": {
   "codemirror_mode": {
    "name": "ipython",
    "version": 3
   },
   "file_extension": ".py",
   "mimetype": "text/x-python",
   "name": "python",
   "nbconvert_exporter": "python",
   "pygments_lexer": "ipython3",
   "version": "3.7.1"
  },
  "varInspector": {
   "cols": {
    "lenName": 16,
    "lenType": 16,
    "lenVar": 40
   },
   "kernels_config": {
    "python": {
     "delete_cmd_postfix": "",
     "delete_cmd_prefix": "del ",
     "library": "var_list.py",
     "varRefreshCmd": "print(var_dic_list())"
    },
    "r": {
     "delete_cmd_postfix": ") ",
     "delete_cmd_prefix": "rm(",
     "library": "var_list.r",
     "varRefreshCmd": "cat(var_dic_list()) "
    }
   },
   "types_to_exclude": [
    "module",
    "function",
    "builtin_function_or_method",
    "instance",
    "_Feature"
   ],
   "window_display": false
  }
 },
 "nbformat": 4,
 "nbformat_minor": 2
}
