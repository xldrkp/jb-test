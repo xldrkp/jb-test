{
 "cells": [
  {
   "cell_type": "raw",
   "metadata": {},
   "source": [
    "---\n",
    "section: \"Predict the mean speed from the type of vessel\"\n",
    "goal: \"Understand how dealing with missing values impact the model, the predictions and the performance.\"\n",
    "time: \"x min\"\n",
    "toccontent: \"\"\n",
    "prerequisites: \"AIS data, basics about machine learning\"\n",
    "level: \"Beginner and advanced\"\n",
    "---"
   ]
  },
  {
   "cell_type": "code",
   "execution_count": 4,
   "metadata": {},
   "outputs": [],
   "source": [
    "# Cell to hide - just an option and import other functions\n",
    "\n",
    "import pandas as pd\n",
    "pd.set_option('display.max_columns', 27)\n",
    "\n",
    "%run 1-functions.ipynb"
   ]
  },
  {
   "cell_type": "markdown",
   "metadata": {},
   "source": [
    "Your customer now would like to be able to predict the mean SOG of a ship, knowing the type of ship. This can be useful to predict when a particular ship would arrive at a lock, for example. The static dataset is again used in this case."
   ]
  },
  {
   "cell_type": "markdown",
   "metadata": {},
   "source": [
    "## Make the prediction"
   ]
  },
  {
   "cell_type": "code",
   "execution_count": 1,
   "metadata": {},
   "outputs": [],
   "source": [
    "import pandas as pd\n",
    "\n",
    "static_data = pd.read_csv('./static_data.csv')"
   ]
  },
  {
   "cell_type": "markdown",
   "metadata": {},
   "source": [
    "Solve these two widgets to determine the values of the ``x`` and ``y`` variables and the appropriate function to use (if the problem is regression or classification).\n",
    "\n",
    "<iframe src=\"https://h5p.org/h5p/embed/753577\" width=\"694\" height=\"600\" frameborder=\"0\" allowfullscreen=\"allowfullscreen\"></iframe><script src=\"https://h5p.org/sites/all/modules/h5p/library/js/h5p-resizer.js\" charset=\"UTF-8\"></script>\n",
    "\n",
    "<iframe src=\"https://h5p.org/h5p/embed/753637\" width=\"694\" height=\"300\" frameborder=\"0\" allowfullscreen=\"allowfullscreen\"></iframe><script src=\"https://h5p.org/sites/all/modules/h5p/library/js/h5p-resizer.js\" charset=\"UTF-8\"></script>"
   ]
  },
  {
   "cell_type": "markdown",
   "metadata": {},
   "source": [
    "Start with filling the ``x`` and ``y`` variables with the appropriate attributes (the attributes must be passed as strings, on this form: ``'attribute'``)."
   ]
  },
  {
   "cell_type": "code",
   "execution_count": 2,
   "metadata": {},
   "outputs": [],
   "source": [
    "# Prediction of MeanSOG from VesselType\n",
    "x = ['']\n",
    "y = ['']"
   ]
  },
  {
   "cell_type": "markdown",
   "metadata": {},
   "source": [
    "Make the predictions with the right prediction function (replace the ``xxx`` with the appropriate name: ``classification`` or ``regression``)."
   ]
  },
  {
   "cell_type": "code",
   "execution_count": 6,
   "metadata": {},
   "outputs": [
    {
     "name": "stdout",
     "output_type": "stream",
     "text": [
      "MAE with all data: 0.9494952790387338\n",
      "MAE without NaN: 1.3669249458570074\n"
     ]
    }
   ],
   "source": [
    "from sklearn.metrics import mean_absolute_error\n",
    "\n",
    "static_selected = static_data[[x[0], y[0]]].dropna()\n",
    "\n",
    "pred1, ytest1 = knn_xxx(static_data, x, y)\n",
    "pred2, ytest2 = knn_xxx(static_selected, x, y)\n",
    "\n",
    "print('MAE with all data: ' + str(mean_absolute_error(pred1, ytest1)))\n",
    "print('MAE without NaN: ' + str(mean_absolute_error(pred2, ytest2)))"
   ]
  },
  {
   "cell_type": "code",
   "execution_count": 7,
   "metadata": {},
   "outputs": [
    {
     "data": {
      "application/vnd.jupyter.widget-view+json": {
       "model_id": "8a0cc7f70cbd41f08cf839de98a84690",
       "version_major": 2,
       "version_minor": 0
      },
      "text/plain": [
       "interactive(children=(Dropdown(description='x = ', options=('TripID', 'MMSI', 'MeanSOG', 'VesselName', 'IMO', …"
      ]
     },
     "metadata": {},
     "output_type": "display_data"
    },
    {
     "data": {
      "text/plain": [
       "<function __main__.make_prediction(x, y, function)>"
      ]
     },
     "execution_count": 7,
     "metadata": {},
     "output_type": "execute_result"
    }
   ],
   "source": [
    "# For beginner version: hide cell\n",
    "\n",
    "import numpy as np\n",
    "import ipywidgets as widgets\n",
    "from ipywidgets import interact\n",
    "from sklearn.metrics import mean_absolute_error\n",
    "from sklearn.metrics import accuracy_score\n",
    "\n",
    "functions = ['not chosen', 'classification', 'regression']\n",
    "attributes = static_data.columns\n",
    "\n",
    "def make_prediction(x, y, function):\n",
    "    static_selected = static_data[[x, y]].dropna()\n",
    "    \n",
    "    if function == 'regression' and static_data[y].dtype.name in ['object', 'int64', 'float64']:\n",
    "        pred1, ytest1 = knn_regression(static_data, [x], [y])\n",
    "        pred2, ytest2 = knn_regression(static_selected, [x], [y])\n",
    "        \n",
    "        print('MAE with all data: ' + str(mean_absolute_error(pred1, ytest1)))\n",
    "        print('MAE without NaN: ' + str(mean_absolute_error(pred2, ytest2)))\n",
    "    \n",
    "    elif function == 'classification' and static_data[y].dtype.name == ['category']:\n",
    "        pred1, ytest1 = knn_classification(static_data, [x], [y])\n",
    "        pred2, ytest2 = knn_classification(static_selected, [x], [y])\n",
    "        \n",
    "        print('Accuracy with all data: ' + str(accuracy_score(pred1, ytest1)))\n",
    "        print('Accuracy without NaN: ' + str(accuracy_score(pred2, ytest2)))\n",
    "        \n",
    "    elif function == 'not chosen':\n",
    "        print('Choose a type of task.')\n",
    "        \n",
    "    else:\n",
    "        print('The type of task does not match the type of the attribute to predict.')\n",
    "\n",
    "interact(make_prediction,\n",
    "         x = widgets.Dropdown(\n",
    "            options = attributes,\n",
    "            value = attributes[0],\n",
    "            description = 'x = ',\n",
    "            disabled = False,),\n",
    "         y = widgets.Dropdown(\n",
    "            options = attributes,\n",
    "            value = attributes[0],\n",
    "            description = 'y = ',\n",
    "            disabled = False,),\n",
    "         function = widgets.Dropdown(\n",
    "            options = functions,\n",
    "            value = functions[0],\n",
    "            description = 'Type: ',\n",
    "            disabled = False,))"
   ]
  },
  {
   "cell_type": "markdown",
   "metadata": {},
   "source": [
    "This time, on the contrary to the previous prediction, we see that the performance decreases when we drop the missing data. To understand why, let's do a similar analysis on these attributes and the predictions."
   ]
  },
  {
   "cell_type": "markdown",
   "metadata": {},
   "source": [
    "## Analyze the results"
   ]
  },
  {
   "cell_type": "markdown",
   "metadata": {},
   "source": [
    "Just like for the prediction of the width, the function used was ``knn_regression()``, which cannot deal with missing values. The missing values where therefore replaced with zero values again.\n",
    "\n",
    "First, let's see how many missing values we have for the two considered attributes:"
   ]
  },
  {
   "cell_type": "code",
   "execution_count": 8,
   "metadata": {},
   "outputs": [
    {
     "name": "stdout",
     "output_type": "stream",
     "text": [
      "Number of instances in the dataset: 1520\n",
      "Number of missing values for x attribute: 233\n",
      "Number of missing values for y attribute: 0\n"
     ]
    }
   ],
   "source": [
    "print('Number of instances in the dataset: ' + str(len(static_data)))\n",
    "print('Number of missing values for x attribute: ' + str(static_data[x[0]].isnull().sum()))\n",
    "print('Number of missing values for y attribute: ' + str(static_data[y[0]].isnull().sum()))"
   ]
  },
  {
   "cell_type": "code",
   "execution_count": 9,
   "metadata": {},
   "outputs": [
    {
     "data": {
      "application/vnd.jupyter.widget-view+json": {
       "model_id": "ef45cd51ffb640b6a847ca1e06cb1775",
       "version_major": 2,
       "version_minor": 0
      },
      "text/plain": [
       "interactive(children=(Dropdown(description='x = ', options=('TripID', 'MMSI', 'MeanSOG', 'VesselName', 'IMO', …"
      ]
     },
     "metadata": {},
     "output_type": "display_data"
    },
    {
     "data": {
      "text/plain": [
       "<function __main__.print_missing(x, y)>"
      ]
     },
     "execution_count": 9,
     "metadata": {},
     "output_type": "execute_result"
    }
   ],
   "source": [
    "# For beginner version: hide cell\n",
    "\n",
    "import numpy as np\n",
    "import ipywidgets as widgets\n",
    "from ipywidgets import interact\n",
    "\n",
    "attributes = static_data.columns\n",
    "\n",
    "def print_missing(x, y):\n",
    "    \n",
    "    print('Number of instances in the dataset: ' + str(len(static_data)))\n",
    "    print('Number of missing values for x attribute: ' + str(static_data[x].isnull().sum()))\n",
    "    print('Number of missing values for y attribute: ' + str(static_data[y].isnull().sum()))\n",
    "\n",
    "interact(print_missing,\n",
    "         x = widgets.Dropdown(\n",
    "            options = attributes,\n",
    "            value = attributes[0],\n",
    "            description = 'x = ',\n",
    "            disabled = False,),\n",
    "         y = widgets.Dropdown(\n",
    "            options = attributes,\n",
    "            value = attributes[0],\n",
    "            description = 'y = ',\n",
    "            disabled = False,))"
   ]
  },
  {
   "cell_type": "code",
   "execution_count": 10,
   "metadata": {},
   "outputs": [
    {
     "data": {
      "text/plain": [
       "Text(0.5, 1.0, 'y attribute vs. x attribute with NaN filled with zeros')"
      ]
     },
     "execution_count": 10,
     "metadata": {},
     "output_type": "execute_result"
    },
    {
     "data": {
      "image/png": "[encoded data removed]",
      "text/plain": [
       "<Figure size 864x576 with 1 Axes>"
      ]
     },
     "metadata": {
      "needs_background": "light"
     },
     "output_type": "display_data"
    }
   ],
   "source": [
    "# Missing values filled with zeros\n",
    "\n",
    "import matplotlib.pyplot as plt\n",
    "\n",
    "plt.figure(figsize = (12, 8))\n",
    "plt.plot(static_data.fillna(value = 0)[x[0]], static_data.fillna(value = 0)[y[0]], 'x')\n",
    "plt.xlabel('x attribute')\n",
    "plt.ylabel('y attribute')\n",
    "plt.title('y attribute vs. x attribute with NaN filled with zeros')"
   ]
  },
  {
   "cell_type": "code",
   "execution_count": 11,
   "metadata": {},
   "outputs": [
    {
     "data": {
      "text/plain": [
       "Text(0.5, 1.0, 'y attribute vs. x attribute with NaN dropped')"
      ]
     },
     "execution_count": 11,
     "metadata": {},
     "output_type": "execute_result"
    },
    {
     "data": {
      "image/png": "[encoded data removed]",
      "text/plain": [
       "<Figure size 864x576 with 1 Axes>"
      ]
     },
     "metadata": {
      "needs_background": "light"
     },
     "output_type": "display_data"
    }
   ],
   "source": [
    "# Missing values dropped\n",
    "\n",
    "import matplotlib.pyplot as plt\n",
    "\n",
    "plt.figure(figsize = (12, 8))\n",
    "static_selected = static_data[[x[0], y[0]]].dropna()\n",
    "plt.plot(static_selected[x[0]], static_selected[y[0]], 'x')\n",
    "plt.xlabel('x attribute')\n",
    "plt.ylabel('y attribute')\n",
    "plt.title('y attribute vs. x attribute with NaN dropped')"
   ]
  },
  {
   "cell_type": "markdown",
   "metadata": {},
   "source": [
    "It is kind of hard to draw a conclusion from these two graphs. Let's have a look at the predictions made. __TODO: remove following cell__"
   ]
  },
  {
   "cell_type": "code",
   "execution_count": 12,
   "metadata": {},
   "outputs": [],
   "source": [
    "x = ['VesselType']\n",
    "y = ['MeanSOG']\n",
    "pred1, ytest1 = knn_regression(static_data, x, y)\n",
    "pred2, ytest2 = knn_regression(static_selected, x, y)"
   ]
  },
  {
   "cell_type": "code",
   "execution_count": 13,
   "metadata": {},
   "outputs": [
    {
     "data": {
      "text/plain": [
       "Text(0.5, 1.0, 'Prediction vs. true label with NaN filled with zero values')"
      ]
     },
     "execution_count": 13,
     "metadata": {},
     "output_type": "execute_result"
    },
    {
     "data": {
      "image/png": "[encoded data removed]",
      "text/plain": [
       "<Figure size 864x576 with 1 Axes>"
      ]
     },
     "metadata": {
      "needs_background": "light"
     },
     "output_type": "display_data"
    }
   ],
   "source": [
    "# Missing values filled with zeros\n",
    "pred = []\n",
    "for element in pred1:\n",
    "    pred.append(element[0])\n",
    "\n",
    "plt.figure(figsize = (12, 8))\n",
    "plt.plot(pred, ytest1, 'x')\n",
    "plt.xlabel('Prediction')\n",
    "plt.ylabel('True label')\n",
    "plt.title('Prediction vs. true label with NaN filled with zero values')"
   ]
  },
  {
   "cell_type": "code",
   "execution_count": 14,
   "metadata": {},
   "outputs": [
    {
     "data": {
      "text/plain": [
       "Text(0.5, 1.0, 'Prediction vs. true label with NaN dropped')"
      ]
     },
     "execution_count": 14,
     "metadata": {},
     "output_type": "execute_result"
    },
    {
     "data": {
      "image/png": "[encoded data removed]",
      "text/plain": [
       "<Figure size 864x576 with 1 Axes>"
      ]
     },
     "metadata": {
      "needs_background": "light"
     },
     "output_type": "display_data"
    }
   ],
   "source": [
    "# Missing values dropped\n",
    "pred = []\n",
    "for element in pred2:\n",
    "    pred.append(element[0])\n",
    "\n",
    "plt.figure(figsize = (12, 8))\n",
    "plt.plot(pred, ytest2, 'x')\n",
    "plt.xlabel('Prediction')\n",
    "plt.ylabel('True label')\n",
    "plt.title('Prediction vs. true label with NaN dropped')"
   ]
  },
  {
   "cell_type": "code",
   "execution_count": 15,
   "metadata": {},
   "outputs": [
    {
     "data": {
      "application/vnd.jupyter.widget-view+json": {
       "model_id": "0cda66ce9bd544c3a7e99c66e9d5401d",
       "version_major": 2,
       "version_minor": 0
      },
      "text/plain": [
       "interactive(children=(Dropdown(description='x = ', options=('TripID', 'MMSI', 'MeanSOG', 'VesselName', 'IMO', …"
      ]
     },
     "metadata": {},
     "output_type": "display_data"
    },
    {
     "data": {
      "text/plain": [
       "<function __main__.plot_2att(x, y, mode)>"
      ]
     },
     "execution_count": 15,
     "metadata": {},
     "output_type": "execute_result"
    }
   ],
   "source": [
    "# For beginner version: cell to hide\n",
    "\n",
    "import matplotlib.pyplot as plt\n",
    "import numpy as np\n",
    "import ipywidgets as widgets\n",
    "from ipywidgets import interact\n",
    "\n",
    "modes = ['filled_zeros', 'drop_na']\n",
    "attributes = static_data.columns\n",
    "\n",
    "def plot_2att(x, y, mode):\n",
    "    \n",
    "    static_selected = static_data[[x, y]].dropna()\n",
    "    pred1, ytest1 = knn_regression(static_data, [x], [y])\n",
    "    pred2, ytest2 = knn_regression(static_selected, [x], [y])\n",
    "    \n",
    "    plt.figure(figsize = (12, 8))\n",
    "    \n",
    "    if mode == 'filled_zeros':\n",
    "        pred = []\n",
    "        for element in pred1:\n",
    "            pred.append(element[0])\n",
    "        plt.plot(pred, ytest1, 'x')\n",
    "        title = 'Prediction vs. true label with NaN filled with zero values'\n",
    "    elif mode == 'drop_na':\n",
    "        pred = []\n",
    "        for element in pred2:\n",
    "            pred.append(element[0])\n",
    "        plt.plot(pred, ytest2, 'x')\n",
    "        title = 'Prediction vs. true label with NaN dropped'\n",
    "\n",
    "    plt.xlabel('Prediction')\n",
    "    plt.ylabel('True label')\n",
    "    plt.title(title)\n",
    "\n",
    "interact(plot_2att,\n",
    "         x = widgets.Dropdown(\n",
    "            options = attributes,\n",
    "            value = attributes[0],\n",
    "            description = 'x = ',\n",
    "            disabled = False,),\n",
    "         y = widgets.Dropdown(\n",
    "            options = attributes,\n",
    "            value = attributes[0],\n",
    "            description = 'y = ',\n",
    "            disabled = False,),\n",
    "        mode = widgets.Dropdown(\n",
    "            options = modes,\n",
    "            value = modes[0],\n",
    "            description = 'Mode:',\n",
    "            disabled = False,))"
   ]
  },
  {
   "cell_type": "markdown",
   "metadata": {},
   "source": [
    "From these graphs, we can only see that the predictions are not really good (there are not many points on the diagonal, a perfect diagonal means a perfect match between predictions and true labels). To try to see a bit more, let's look at the distribution of the predictions:"
   ]
  },
  {
   "cell_type": "code",
   "execution_count": 16,
   "metadata": {},
   "outputs": [
    {
     "data": {
      "text/plain": [
       "<matplotlib.axes._subplots.AxesSubplot at 0x29add481128>"
      ]
     },
     "execution_count": 16,
     "metadata": {},
     "output_type": "execute_result"
    },
    {
     "data": {
      "image/png": "[encoded data removed]",
      "text/plain": [
       "<Figure size 432x288 with 1 Axes>"
      ]
     },
     "metadata": {
      "needs_background": "light"
     },
     "output_type": "display_data"
    }
   ],
   "source": [
    "pred = []\n",
    "for element in pred1:\n",
    "    pred.append(element[0])\n",
    "pd.Series(pred).plot.hist()"
   ]
  },
  {
   "cell_type": "code",
   "execution_count": 17,
   "metadata": {},
   "outputs": [
    {
     "data": {
      "text/plain": [
       "<matplotlib.axes._subplots.AxesSubplot at 0x29add82ab38>"
      ]
     },
     "execution_count": 17,
     "metadata": {},
     "output_type": "execute_result"
    },
    {
     "data": {
      "image/png": "[encoded data removed]",
      "text/plain": [
       "<Figure size 432x288 with 1 Axes>"
      ]
     },
     "metadata": {
      "needs_background": "light"
     },
     "output_type": "display_data"
    }
   ],
   "source": [
    "pred = []\n",
    "for element in pred2:\n",
    "    pred.append(element[0])\n",
    "pd.Series(pred).plot.hist()"
   ]
  },
  {
   "cell_type": "code",
   "execution_count": 18,
   "metadata": {},
   "outputs": [
    {
     "data": {
      "application/vnd.jupyter.widget-view+json": {
       "model_id": "d3f650d037924991aa11a61889d456a5",
       "version_major": 2,
       "version_minor": 0
      },
      "text/plain": [
       "interactive(children=(Dropdown(description='x = ', options=('TripID', 'MMSI', 'MeanSOG', 'VesselName', 'IMO', …"
      ]
     },
     "metadata": {},
     "output_type": "display_data"
    },
    {
     "data": {
      "text/plain": [
       "<function __main__.plot_hist(x, y, mode)>"
      ]
     },
     "execution_count": 18,
     "metadata": {},
     "output_type": "execute_result"
    }
   ],
   "source": [
    "# For beginner version: cell to hide\n",
    "\n",
    "import matplotlib.pyplot as plt\n",
    "import numpy as np\n",
    "import ipywidgets as widgets\n",
    "from ipywidgets import interact\n",
    "\n",
    "modes = ['filled_zeros', 'drop_na']\n",
    "attributes = static_data.columns\n",
    "\n",
    "def plot_hist(x, y, mode):\n",
    "    \n",
    "    static_selected = static_data[[x, y]].dropna()\n",
    "    pred1, ytest1 = knn_regression(static_data, [x], [y])\n",
    "    pred2, ytest2 = knn_regression(static_selected, [x], [y])\n",
    "    \n",
    "    if mode == 'filled_zeros':\n",
    "        pred = []\n",
    "        for element in pred1:\n",
    "            pred.append(element[0])\n",
    "    elif mode == 'drop_na':\n",
    "        pred = []\n",
    "        for element in pred2:\n",
    "            pred.append(element[0])\n",
    "\n",
    "    pd.Series(pred).plot.hist()\n",
    "\n",
    "interact(plot_hist,\n",
    "         x = widgets.Dropdown(\n",
    "            options = attributes,\n",
    "            value = attributes[0],\n",
    "            description = 'x = ',\n",
    "            disabled = False,),\n",
    "         y = widgets.Dropdown(\n",
    "            options = attributes,\n",
    "            value = attributes[0],\n",
    "            description = 'y = ',\n",
    "            disabled = False,),\n",
    "        mode = widgets.Dropdown(\n",
    "            options = modes,\n",
    "            value = modes[0],\n",
    "            description = 'Mode:',\n",
    "            disabled = False,))"
   ]
  },
  {
   "cell_type": "markdown",
   "metadata": {},
   "source": [
    "From these two histograms, something gets clearer: when the missing values are filled with zeros, the prediction gives much more low values (close to 0) predictions for the MeanSOG than when the missing values are dropped.\n",
    "\n",
    "The attribute MeanSOG does not contain any missing values, so the only values that are replaced with 0 are the missing values for VesselType. However, we saw when we examined the dataset in the previous part (__TODO: add link to examine part__), that the attribute MeanSOG contains a lot of low values (under 1). We can conclude that a zero value for the VesselType would give a low value prediction for the MeanSOG: and as low values constitute the majority of the MeanSOG attribute, the chance of a zero prediction being close to the true label is high. That is the reason why the error increases when we delete these values.\n",
    "\n",
    "A low MeanSOG value is considered \"normal\" in the dataset, so a dataset that encourages a low prediction will give a better performance."
   ]
  },
  {
   "cell_type": "markdown",
   "metadata": {},
   "source": [
    "## What is the best scenario?"
   ]
  },
  {
   "cell_type": "markdown",
   "metadata": {},
   "source": [
    "We saw that dropping the missing values gives a worse performance because the model predicts less low values for the attribute MeanSOG. Keeping the missing values and replacing them with zero gives a better performance.\n",
    "\n",
    "Now, is this what we want for our model?\n",
    "\n",
    "This question is a bit tricker to solve. Instinctively, we would like a model that has the better performance. But the choice of replacing the missing values with zero values was a standard choice based on no solid thought, and this is not the best way to deal with decisions in problem-solving.\n",
    "\n",
    "The fact that the model gave better performance is not related to the way of solving the task, and some further thoughts are always better to ensure that the model is built on a stable basis."
   ]
  },
  {
   "cell_type": "markdown",
   "metadata": {},
   "source": [
    "## Quiz\n",
    "\n",
    "<iframe src=\"https://h5p.org/h5p/embed/755347\" width=\"694\" height=\"600\" frameborder=\"0\" allowfullscreen=\"allowfullscreen\"></iframe><script src=\"https://h5p.org/sites/all/modules/h5p/library/js/h5p-resizer.js\" charset=\"UTF-8\"></script>"
   ]
  }
 ],
 "metadata": {
  "kernelspec": {
   "display_name": "Python 3",
   "language": "python",
   "name": "python3"
  },
  "language_info": {
   "codemirror_mode": {
    "name": "ipython",
    "version": 3
   },
   "file_extension": ".py",
   "mimetype": "text/x-python",
   "name": "python",
   "nbconvert_exporter": "python",
   "pygments_lexer": "ipython3",
   "version": "3.7.1"
  },
  "varInspector": {
   "cols": {
    "lenName": 16,
    "lenType": 16,
    "lenVar": 40
   },
   "kernels_config": {
    "python": {
     "delete_cmd_postfix": "",
     "delete_cmd_prefix": "del ",
     "library": "var_list.py",
     "varRefreshCmd": "print(var_dic_list())"
    },
    "r": {
     "delete_cmd_postfix": ") ",
     "delete_cmd_prefix": "rm(",
     "library": "var_list.r",
     "varRefreshCmd": "cat(var_dic_list()) "
    }
   },
   "types_to_exclude": [
    "module",
    "function",
    "builtin_function_or_method",
    "instance",
    "_Feature"
   ],
   "window_display": false
  }
 },
 "nbformat": 4,
 "nbformat_minor": 2
}
