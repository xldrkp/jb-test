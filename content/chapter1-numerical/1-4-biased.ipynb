{
 "cells": [
  {
   "cell_type": "raw",
   "metadata": {},
   "source": [
    "---\n",
    "section: \"Biased data\"\n",
    "goal: \"Understand how biased data affect the prediction and how to fix it.\"\n",
    "time: \"x min\"\n",
    "toccontent: \"\"\n",
    "prerequisites: \"AIS data, basics about machine learning\"\n",
    "level: \"Beginner and advanced\"\n",
    "---"
   ]
  },
  {
   "cell_type": "code",
   "execution_count": 1,
   "metadata": {},
   "outputs": [],
   "source": [
    "# Cell to hide - just an option and import other functions\n",
    "\n",
    "import pandas as pd\n",
    "pd.set_option('display.max_columns', 27)\n",
    "\n",
    "%run 1-functions.ipynb"
   ]
  },
  {
   "cell_type": "markdown",
   "metadata": {},
   "source": [
    "__TODO: the whole thing__"
   ]
  },
  {
   "cell_type": "markdown",
   "metadata": {},
   "source": [
    "More ideas\n",
    "+ Try to predict with something that does not make sense (example: using ID attribute as a number)\n",
    "+ or using Length as a category\n",
    "+ mixing regression and classification"
   ]
  },
  {
   "cell_type": "code",
   "execution_count": 2,
   "metadata": {},
   "outputs": [],
   "source": [
    "import pandas as pd\n",
    "\n",
    "static_data = pd.read_csv('./static_data.csv')"
   ]
  },
  {
   "cell_type": "code",
   "execution_count": 16,
   "metadata": {},
   "outputs": [
    {
     "name": "stdout",
     "output_type": "stream",
     "text": [
      "MAE with Length: 2.73451052631579\n",
      "MAE with Length and TripID: 3.8834960526315796\n",
      "MAE with TripID: 7.796980263157895\n",
      "Baseline: mean = 13.10450054884743\n"
     ]
    }
   ],
   "source": [
    "# Prediction of Width from Length or TripID\n",
    "\n",
    "from sklearn.metrics import mean_absolute_error\n",
    "\n",
    "x = ['Length']\n",
    "y = ['Width']\n",
    "pred, ytest = knn_regression(static_data, x, y)\n",
    "print('MAE with Length: ' + str(mean_absolute_error(pred, ytest)))\n",
    "\n",
    "x = ['Length', 'TripID']\n",
    "y = ['Width']\n",
    "pred, ytest = knn_regression(static_data, x, y)\n",
    "print('MAE with Length and TripID: ' + str(mean_absolute_error(pred, ytest)))\n",
    "\n",
    "x = ['TripID']\n",
    "y = ['Width']\n",
    "pred, ytest = knn_regression(static_data, x, y)\n",
    "print('MAE with TripID: ' + str(mean_absolute_error(pred, ytest)))\n",
    "\n",
    "print('Baseline: mean = ' + str(static_data['Width'].mean()))"
   ]
  },
  {
   "cell_type": "code",
   "execution_count": 17,
   "metadata": {},
   "outputs": [
    {
     "name": "stdout",
     "output_type": "stream",
     "text": [
      "MAE with regression: 2.0717238095238097\n",
      "Accuracy with classification: 0.38095238095238093\n"
     ]
    },
    {
     "name": "stderr",
     "output_type": "stream",
     "text": [
      "C:\\Users\\Anna\\Anaconda3\\lib\\site-packages\\ipykernel_launcher.py:14: DataConversionWarning: A column-vector y was passed when a 1d array was expected. Please change the shape of y to (n_samples, ), for example using ravel().\n",
      "  \n"
     ]
    }
   ],
   "source": [
    "# Prediction of Width from Length: comparison regression and classification\n",
    "\n",
    "from sklearn.metrics import accuracy_score\n",
    "from sklearn.metrics import mean_absolute_error\n",
    "\n",
    "x = ['Length']\n",
    "y = ['Width']\n",
    "\n",
    "df = static_data.copy()\n",
    "df = df.dropna()\n",
    "\n",
    "pred, ytest = knn_regression(df, x, y)\n",
    "\n",
    "print('MAE with regression: ' + str(mean_absolute_error(pred, ytest)))\n",
    "\n",
    "df2 = static_data.copy()\n",
    "df2 = df2.dropna()\n",
    "df2['Width'] = df2['Width'].astype('int')\n",
    "df2['Width'] = df2['Width'].astype('category')\n",
    "\n",
    "pred, ytest = knn_classification(df2, x, y)\n",
    "\n",
    "print('Accuracy with classification: ' + str(accuracy_score(pred, ytest)))"
   ]
  }
 ],
 "metadata": {
  "kernelspec": {
   "display_name": "Python 3",
   "language": "python",
   "name": "python3"
  },
  "language_info": {
   "codemirror_mode": {
    "name": "ipython",
    "version": 3
   },
   "file_extension": ".py",
   "mimetype": "text/x-python",
   "name": "python",
   "nbconvert_exporter": "python",
   "pygments_lexer": "ipython3",
   "version": "3.7.1"
  },
  "varInspector": {
   "cols": {
    "lenName": 16,
    "lenType": 16,
    "lenVar": 40
   },
   "kernels_config": {
    "python": {
     "delete_cmd_postfix": "",
     "delete_cmd_prefix": "del ",
     "library": "var_list.py",
     "varRefreshCmd": "print(var_dic_list())"
    },
    "r": {
     "delete_cmd_postfix": ") ",
     "delete_cmd_prefix": "rm(",
     "library": "var_list.r",
     "varRefreshCmd": "cat(var_dic_list()) "
    }
   },
   "types_to_exclude": [
    "module",
    "function",
    "builtin_function_or_method",
    "instance",
    "_Feature"
   ],
   "window_display": false
  }
 },
 "nbformat": 4,
 "nbformat_minor": 2
}
