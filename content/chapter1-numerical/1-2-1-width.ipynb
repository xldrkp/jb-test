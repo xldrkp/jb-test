{
 "cells": [
  {
   "cell_type": "raw",
   "metadata": {},
   "source": [
    "---\n",
    "metadata: true\n",
    "section: \"Predict the width of a ship\"\n",
    "goal: \"Understand how dealing with missing values impact the model, the predictions and the performance.\"\n",
    "time: \"x min\"\n",
    "prerequisites: \"AIS data, basics about machine learning\"\n",
    "level: \"Beginner and advanced\"\n",
    "---"
   ]
  },
  {
   "cell_type": "code",
   "execution_count": 1,
   "metadata": {},
   "outputs": [],
   "source": [
    "# Cell to hide - just an option and import other functions\n",
    "\n",
    "import pandas as pd\n",
    "pd.set_option('display.max_columns', 27)\n",
    "\n",
    "%run 1-functions.ipynb"
   ]
  },
  {
   "cell_type": "markdown",
   "metadata": {},
   "source": [
    "Your customer would like a model that is able to predict the width of a ship, knowing its length. For this first task, the model will take only the length attribute as an input, and predict the width. You can use the static dataset: let's import it first."
   ]
  },
  {
   "cell_type": "code",
   "execution_count": 2,
   "metadata": {},
   "outputs": [],
   "source": [
    "import pandas as pd\n",
    "\n",
    "static_data = pd.read_csv('./static_data.csv')\n",
    "\n",
    "print('Data successfully imported.')"
   ]
  },
  {
   "cell_type": "markdown",
   "metadata": {},
   "source": [
    "## Detect the missing data"
   ]
  },
  {
   "cell_type": "markdown",
   "metadata": {},
   "source": [
    "There are simple ways to detect missing values with Pandas. First, we can see it with the method ``info()`` that we saw earlier:"
   ]
  },
  {
   "cell_type": "code",
   "execution_count": 3,
   "metadata": {},
   "outputs": [
    {
     "name": "stdout",
     "output_type": "stream",
     "text": [
      "<class 'pandas.core.frame.DataFrame'>\n",
      "RangeIndex: 1520 entries, 0 to 1519\n",
      "Data columns (total 22 columns):\n",
      "TripID        1520 non-null int64\n",
      "MMSI          1520 non-null int64\n",
      "MeanSOG       1520 non-null float64\n",
      "VesselName    1442 non-null object\n",
      "IMO           538 non-null object\n",
      "CallSign      1137 non-null object\n",
      "VesselType    1287 non-null float64\n",
      "Length        1220 non-null float64\n",
      "Width         911 non-null float64\n",
      "Draft         496 non-null float64\n",
      "Cargo         378 non-null float64\n",
      "DepTime       1520 non-null object\n",
      "ArrTime       1520 non-null object\n",
      "DepLat        1520 non-null float64\n",
      "DepLon        1520 non-null float64\n",
      "ArrLat        1520 non-null float64\n",
      "ArrLon        1520 non-null float64\n",
      "DepCountry    1520 non-null object\n",
      "DepCity       1520 non-null object\n",
      "ArrCountry    1520 non-null object\n",
      "ArrCity       1520 non-null object\n",
      "Duration      1520 non-null object\n",
      "dtypes: float64(10), int64(2), object(10)\n",
      "memory usage: 261.3+ KB\n"
     ]
    }
   ],
   "source": [
    "static_data.info()"
   ]
  },
  {
   "cell_type": "markdown",
   "metadata": {},
   "source": [
    "We can see that the attributes ``VesselName``, ``IMO``, ``CallSign``, ``VesselType``, ``Length``, ``Width``, ``Draft``, ``Cargo`` contain less than ``1520`` values, meaning some of these values are missing.\n",
    "\n",
    "Another way to detect the missing values in the dataset is with the use of the function [isna()](https://pandas.pydata.org/pandas-docs/stable/reference/api/pandas.DataFrame.isna.html). For example, we can easily get the total number of missing values for the attribute ``Length``:"
   ]
  },
  {
   "cell_type": "code",
   "execution_count": 7,
   "metadata": {},
   "outputs": [
    {
     "data": {
      "text/plain": [
       "300"
      ]
     },
     "execution_count": 7,
     "metadata": {},
     "output_type": "execute_result"
    }
   ],
   "source": [
    "static_data['Length'].isna().sum()"
   ]
  },
  {
   "cell_type": "markdown",
   "metadata": {},
   "source": [
    "## Do the predictions"
   ]
  },
  {
   "cell_type": "markdown",
   "metadata": {},
   "source": [
    "We can put both attribute names in two variables: ``x`` (containing a list of the [predictive variables](./../../introduction/0-2-supervised-learning.html), here only length) and ``y`` (containing a list of the predicted variable). In general, and in the scope of this course, the list ``y`` will always contain only one variable, as we only want to predict one attribute at a time."
   ]
  },
  {
   "cell_type": "code",
   "execution_count": 5,
   "metadata": {},
   "outputs": [],
   "source": [
    "# Prediction of Width from Length\n",
    "\n",
    "x = ['Length']\n",
    "y = ['Width']\n",
    "\n",
    "print('x and y have been updated.')"
   ]
  },
  {
   "cell_type": "markdown",
   "metadata": {},
   "source": [
    "As the prediction of the width of a ship is a [regression problem](./../../introduction/0-2-supervised-learning.html), we use the function [knn_regression()](./../../appendix/A-1-2-algorithms.html) to make the prediction. Then we can calculate the [MAE](./../../introduction/0-2-supervised-learning.html) with the method [mean_absolute_error()](https://scikit-learn.org/stable/modules/generated/sklearn.metrics.mean_absolute_error.html) from the ``sklearn`` library."
   ]
  },
  {
   "cell_type": "code",
   "execution_count": 8,
   "metadata": {},
   "outputs": [
    {
     "name": "stdout",
     "output_type": "stream",
     "text": [
      "MAE with all data: 2.73451052631579\n"
     ]
    }
   ],
   "source": [
    "from sklearn.metrics import mean_absolute_error\n",
    "\n",
    "pred1, ytest1 = knn_regression(static_data, x, y)\n",
    "print('MAE with all data: ' + str(mean_absolute_error(pred1, ytest1)))"
   ]
  },
  {
   "cell_type": "markdown",
   "metadata": {},
   "source": [
    "In the previous part, we already identified that the length and width attributes contain some missing values. We can try to make a prediction on a selected part of the dataset, that doesn't contain missing values. For that, we use the method [dropna()](https://pandas.pydata.org/pandas-docs/stable/reference/api/pandas.DataFrame.dropna.html) on the dataframe. This method simply removes from the dataset the rows that contain missing values. We use it only on the columns that we use for the prediction, to avoid the drop or rows that contain missing values for other attributes but not for length or width.\n",
    "\n",
    "Then, we make a new prediction on the selected dataset and print the MAE."
   ]
  },
  {
   "cell_type": "code",
   "execution_count": 9,
   "metadata": {},
   "outputs": [
    {
     "name": "stdout",
     "output_type": "stream",
     "text": [
      "MAE without NaN: 1.3051934065934065\n"
     ]
    }
   ],
   "source": [
    "static_selected = static_data[[x[0], y[0]]].dropna()\n",
    "\n",
    "pred2, ytest2 = knn_regression(static_selected, x, y)\n",
    "print('MAE without NaN: ' + str(mean_absolute_error(pred2, ytest2)))"
   ]
  },
  {
   "cell_type": "markdown",
   "metadata": {},
   "source": [
    "The error dropped (this means that the performance of the model increased when we removed the missing data). Before coming to any conclusion, we need to analyze in details the reason of this increase of performance."
   ]
  },
  {
   "cell_type": "markdown",
   "metadata": {},
   "source": [
    "## Analyze the results"
   ]
  },
  {
   "cell_type": "markdown",
   "metadata": {},
   "source": [
    "Originally, the [KNN algorithm](./../../appendix/A-1-2-algorithms.html) cannot handle missing values. This means that, in the function ``knn_regression()``, an additional step has been taken to ensure that the prediction was not made on a dataset containing missing values. The basic action that we chose here is to replace every missing value with ``0``.\n",
    "\n",
    "Let's have a look at the number of missing values for each attribute, to get an idea on how much of the dataset was replaced by ``0`` value:"
   ]
  },
  {
   "cell_type": "code",
   "execution_count": 6,
   "metadata": {},
   "outputs": [
    {
     "name": "stdout",
     "output_type": "stream",
     "text": [
      "Number of instances in the dataset: 1520\n",
      "Number of missing values for Length: 300\n",
      "Number of missing values for Width: 609\n"
     ]
    }
   ],
   "source": [
    "print('Number of instances in the dataset: ' + str(len(static_data)))\n",
    "print('Number of missing values for Length: ' + str(static_data['Length'].isnull().sum()))\n",
    "print('Number of missing values for Width: ' + str(static_data['Width'].isnull().sum()))"
   ]
  },
  {
   "cell_type": "markdown",
   "metadata": {},
   "source": [
    "As we can see, for the predicted attribute ``Width``, more than a third of the dataset was containing missing values, that were replaced by zero value.\n",
    "\n",
    "To go further, we can compare the distribution of the dataset with missing values, and the one with replaced 0 values. To replace all missing values in the dataset, we use the function [fillna()](https://pandas.pydata.org/pandas-docs/stable/reference/api/pandas.DataFrame.fillna.html), with the parameter ``value = 0``. This parameter can be changed to any value, for example, we could decide to fill the missing values with the mean value of the rest of the Series.\n",
    "\n",
    "We plot the two considered attributes together (see [this page](./../../introduction/python/0-5-7-plot.html) for more information about plotting with Python). This allows us to understand how the KNN algorithm makes predictions according to the value of the Length attribute."
   ]
  },
  {
   "cell_type": "code",
   "execution_count": 6,
   "metadata": {},
   "outputs": [
    {
     "data": {
      "text/plain": [
       "Text(0.5, 1.0, 'Width vs. Length with NaN dropped (blue) or filled with zeros (orange)')"
      ]
     },
     "execution_count": 6,
     "metadata": {},
     "output_type": "execute_result"
    },
    {
     "data": {
      "image/png": "[encoded data removed]",
      "text/plain": [
       "<Figure size 864x576 with 1 Axes>"
      ]
     },
     "metadata": {
      "needs_background": "light"
     },
     "output_type": "display_data"
    }
   ],
   "source": [
    "import matplotlib.pyplot as plt\n",
    "\n",
    "plt.figure(figsize = (12, 8))\n",
    "\n",
    "# missing values dropped (blue)\n",
    "static_selected = static_data[[x[0], y[0]]].dropna()\n",
    "plt.plot(static_selected['Length'], static_selected['Width'], 'x', color = 'blue')\n",
    "\n",
    "# missing values filled with zeros (orange)\n",
    "static_zeros = static_data.fillna(value = 0)\n",
    "static_zeros = static_zeros.loc[static_zeros['Length'] == 0].append(static_zeros.loc[static_zeros['Width'] == 0])\n",
    "plt.plot(static_zeros['Length'], static_zeros['Width'], 'x', color = 'orange')\n",
    "\n",
    "plt.xlabel('Length')\n",
    "plt.ylabel('Width')\n",
    "plt.title('Width vs. Length with NaN dropped (blue) or filled with zeros (orange)')"
   ]
  },
  {
   "cell_type": "code",
   "execution_count": 8,
   "metadata": {
    "tags": [
     "interactive"
    ]
   },
   "outputs": [
    {
     "data": {
      "application/vnd.jupyter.widget-view+json": {
       "model_id": "f9864b7258554f65b0abda27742ccb26",
       "version_major": 2,
       "version_minor": 0
      },
      "text/plain": [
       "interactive(children=(Dropdown(description='Mode:', options=('filled_zeros', 'drop_na'), value='filled_zeros')…"
      ]
     },
     "metadata": {},
     "output_type": "display_data"
    },
    {
     "data": {
      "text/plain": [
       "<function __main__.plot_2att(mode)>"
      ]
     },
     "execution_count": 8,
     "metadata": {},
     "output_type": "execute_result"
    }
   ],
   "source": [
    "# For beginner version: cell to hide\n",
    "\n",
    "import matplotlib.pyplot as plt\n",
    "import numpy as np\n",
    "import ipywidgets as widgets\n",
    "from ipywidgets import interact\n",
    "\n",
    "modes = ['filled_zeros', 'drop_na']\n",
    "\n",
    "def plot_2att(mode):\n",
    "    if mode == 'filled_zeros':\n",
    "        df = static_data.fillna(value = 0)\n",
    "        title = 'Width vs. Length with NaN filled with zero values'\n",
    "    elif mode == 'drop_na':\n",
    "        df = static_data[[x[0], y[0]]].dropna()\n",
    "        title = 'Width vs. Length with NaN dropped'\n",
    "    \n",
    "    plt.figure(figsize = (12, 8))\n",
    "    plt.plot(df['Length'], df['Width'], 'x')\n",
    "    plt.xlabel('Length')\n",
    "    plt.ylabel('Width')\n",
    "    plt.title(title)\n",
    "\n",
    "interact(plot_2att,\n",
    "         mode = widgets.Dropdown(options = modes,\n",
    "                                 value = modes[0],\n",
    "                                 description = 'Mode:',\n",
    "                                 disabled = False,))"
   ]
  },
  {
   "cell_type": "markdown",
   "metadata": {},
   "source": [
    "We can see that the attribute ``Width`` contains more zero values than the attribute ``Length``: for the prediction, as the KNN algorithm bases its results on the value of the attribute ``Length``, the predictions will stay on the diagonal more than predict 0 values. This will lead to a greater error, as we will see now."
   ]
  },
  {
   "cell_type": "markdown",
   "metadata": {},
   "source": [
    "Now we can have a look at the predictions made by the KNN algorithms, for both cases: we plot the predictions versus the true values (we got these lists when we used the function ``knn_regression()``): the more the plot shows a diagonal, the better the prediction was. The line of perfect prediction has been plotted as a black diagonal (to understand more about this prediction graph, see [this page](./../../introduction/0-3-graphs.html))."
   ]
  },
  {
   "cell_type": "code",
   "execution_count": 10,
   "metadata": {},
   "outputs": [
    {
     "data": {
      "text/plain": [
       "Text(0.5, 1.0, 'Prediction vs. true label with NaN dropped (blue) filled with zeros (orange)')"
      ]
     },
     "execution_count": 10,
     "metadata": {},
     "output_type": "execute_result"
    },
    {
     "data": {
      "image/png": "[encoded data removed]",
      "text/plain": [
       "<Figure size 864x576 with 1 Axes>"
      ]
     },
     "metadata": {
      "needs_background": "light"
     },
     "output_type": "display_data"
    }
   ],
   "source": [
    "plt.figure(figsize = (12, 8))\n",
    "\n",
    "# Missing values dropped\n",
    "pred = []\n",
    "for element in pred2:\n",
    "    pred.append(element[0])\n",
    "plt.plot(pred, ytest2, 'x', color = 'blue')\n",
    "\n",
    "# Missing values filled with zeros\n",
    "pred = []\n",
    "for element in pred1:\n",
    "    pred.append(element[0])\n",
    "plt.plot(pred, ytest1, 'x', color = 'orange')\n",
    "\n",
    "x = np.linspace(0, 50, 50)\n",
    "plt.plot(x, x, color = 'black')\n",
    "\n",
    "plt.xlabel('Prediction')\n",
    "plt.ylabel('True label')\n",
    "plt.title('Prediction vs. true label with NaN dropped (blue) filled with zeros (orange)')"
   ]
  },
  {
   "cell_type": "code",
   "execution_count": 11,
   "metadata": {
    "tags": [
     "interactive"
    ]
   },
   "outputs": [
    {
     "data": {
      "application/vnd.jupyter.widget-view+json": {
       "model_id": "9b632282b5c749f3892ca8778e44caa0",
       "version_major": 2,
       "version_minor": 0
      },
      "text/plain": [
       "interactive(children=(Dropdown(description='Mode:', options=('filled_zeros', 'drop_na'), value='filled_zeros')…"
      ]
     },
     "metadata": {},
     "output_type": "display_data"
    },
    {
     "data": {
      "text/plain": [
       "<function __main__.plot_2att(mode)>"
      ]
     },
     "execution_count": 11,
     "metadata": {},
     "output_type": "execute_result"
    }
   ],
   "source": [
    "# For beginner version: cell to hide\n",
    "\n",
    "import matplotlib.pyplot as plt\n",
    "import numpy as np\n",
    "import ipywidgets as widgets\n",
    "from ipywidgets import interact\n",
    "\n",
    "modes = ['filled_zeros', 'drop_na']\n",
    "x = ['Length']\n",
    "y = ['Width']\n",
    "pred1, ytest1 = knn_regression(static_data, x, y)\n",
    "pred2, ytest2 = knn_regression(static_selected, x, y)\n",
    "\n",
    "def plot_2att(mode):\n",
    "    \n",
    "    plt.figure(figsize = (12, 8))\n",
    "    \n",
    "    if mode == 'filled_zeros':\n",
    "        pred = []\n",
    "        for element in pred1:\n",
    "            pred.append(element[0])\n",
    "        plt.plot(pred, ytest1, 'x')\n",
    "        title = 'Prediction vs. true label with NaN filled with zero values'\n",
    "    elif mode == 'drop_na':\n",
    "        pred = []\n",
    "        for element in pred2:\n",
    "            pred.append(element[0])\n",
    "        plt.plot(pred, ytest2, 'x')\n",
    "        title = 'Prediction vs. true label with NaN dropped'\n",
    "        \n",
    "    x = np.linspace(0, 50, 50)\n",
    "    plt.plot(x, x, color = 'black')\n",
    "\n",
    "    plt.xlabel('Prediction')\n",
    "    plt.ylabel('True label')\n",
    "    plt.title(title)\n",
    "\n",
    "interact(plot_2att,\n",
    "         mode = widgets.Dropdown(options = modes,\n",
    "                                 value = modes[0],\n",
    "                                 description = 'Mode:',\n",
    "                                 disabled = False,))"
   ]
  },
  {
   "cell_type": "markdown",
   "metadata": {},
   "source": [
    "From this visualization, it is clear that in the case where the missing values were filled with zeros, the model didn't give much zero predictions. It is then understandable that the error was greater in the case were the missing values were replaced with zeros: the prediction gave \"normal\" values, following the diagonal of the distribution of the attributes length vs. width, instead of giving zero values, which are considered as the true values.\n",
    "\n",
    "As a reminder, the mean absolute error is the average of the difference between the prediction and the actual value. If the actual value is 0, the error is the value of the prediction, which tends to increase the error easily."
   ]
  },
  {
   "cell_type": "markdown",
   "metadata": {},
   "source": [
    "## What is the best scenario?"
   ]
  },
  {
   "cell_type": "markdown",
   "metadata": {},
   "source": [
    "To make a choice on how to deal with missing values in that case, we have to connect our analysis to the meaning of the problem: if we choose to replace the missing values with zero values, this implies that we have zero values in our test set. The test set is the dataset that is compared with the data we would have in the real world, and we would make predictions on.\n",
    "\n",
    "A zero value for the length or width of a ship is not a natural value: you will never find a ship with a length of 0 meters. So in that case, replacing missing values with zero does not make much sense and we can think that dropping the missing values is the best solution for creating a model that comes closest to a real-world situation."
   ]
  },
  {
   "cell_type": "markdown",
   "metadata": {},
   "source": [
    "## Quiz\n",
    "\n",
    "<iframe src=\"https://h5p.org/h5p/embed/755089\" width=\"694\" height=\"600\" frameborder=\"0\" allowfullscreen=\"allowfullscreen\"></iframe><script src=\"https://h5p.org/sites/all/modules/h5p/library/js/h5p-resizer.js\" charset=\"UTF-8\"></script>"
   ]
  }
 ],
 "metadata": {
  "celltoolbar": "Éditer les Méta-Données",
  "kernelspec": {
   "display_name": "Python 3",
   "language": "python",
   "name": "python3"
  },
  "language_info": {
   "codemirror_mode": {
    "name": "ipython",
    "version": 3
   },
   "file_extension": ".py",
   "mimetype": "text/x-python",
   "name": "python",
   "nbconvert_exporter": "python",
   "pygments_lexer": "ipython3",
   "version": "3.7.1"
  },
  "varInspector": {
   "cols": {
    "lenName": 16,
    "lenType": 16,
    "lenVar": 40
   },
   "kernels_config": {
    "python": {
     "delete_cmd_postfix": "",
     "delete_cmd_prefix": "del ",
     "library": "var_list.py",
     "varRefreshCmd": "print(var_dic_list())"
    },
    "r": {
     "delete_cmd_postfix": ") ",
     "delete_cmd_prefix": "rm(",
     "library": "var_list.r",
     "varRefreshCmd": "cat(var_dic_list()) "
    }
   },
   "types_to_exclude": [
    "module",
    "function",
    "builtin_function_or_method",
    "instance",
    "_Feature"
   ],
   "window_display": false
  }
 },
 "nbformat": 4,
 "nbformat_minor": 2
}
