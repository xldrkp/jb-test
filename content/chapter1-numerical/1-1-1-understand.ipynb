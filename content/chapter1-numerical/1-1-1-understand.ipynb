{
 "cells": [
  {
   "cell_type": "raw",
   "metadata": {},
   "source": [
    "---\n",
    "metadata: true\n",
    "section: \"Understand the data\"\n",
    "goal: \"Understand the attributes of the AIS data.\"\n",
    "time: \"x min\"\n",
    "prerequisites: \"None\"\n",
    "level: \"Beginner and advanced\"\n",
    "---"
   ]
  },
  {
   "cell_type": "code",
   "execution_count": 1,
   "metadata": {},
   "outputs": [],
   "source": [
    "# Cell to hide - just an option\n",
    "\n",
    "import pandas as pd\n",
    "pd.set_option('display.max_columns', 27)"
   ]
  },
  {
   "cell_type": "markdown",
   "metadata": {},
   "source": [
    "## Import the data <a class=\"anchor\" id=\"import-data\"></a>"
   ]
  },
  {
   "cell_type": "markdown",
   "metadata": {},
   "source": [
    "Before anything else, we will take a look at the data we will work with in this section. Let's start by importing the datasets, using the function [read_csv()](https://pandas.pydata.org/pandas-docs/stable/reference/api/pandas.read_csv.html) from the library [Pandas](https://pandas.pydata.org/). We will use two datasets containing AIS data."
   ]
  },
  {
   "cell_type": "code",
   "execution_count": 3,
   "metadata": {},
   "outputs": [
    {
     "name": "stdout",
     "output_type": "stream",
     "text": [
      "Data successfully imported.\n"
     ]
    }
   ],
   "source": [
    "import pandas as pd\n",
    "\n",
    "dynamic_data = pd.read_csv('./dynamic_data.csv')\n",
    "static_data = pd.read_csv('./static_data.csv')\n",
    "\n",
    "print('Data successfully imported.')"
   ]
  },
  {
   "cell_type": "markdown",
   "metadata": {},
   "source": [
    "These data have been imported from the U.S. Marine Cadastre website and are publicly available here: https://marinecadastre.gov/ais/. The datasets used here are a slightly modified version of the raw datasets available on the website, to match the needs of this course. For more information about the modifications done to these datasets, visit [this page](./../../appendix/A-1-1-AIS-modifications.html)."
   ]
  },
  {
   "cell_type": "markdown",
   "metadata": {},
   "source": [
    "When dealing with any data related problem, the first step is to fully understand the data we are using. This means knowing what the data represent and understand the meaning of each attribute.\n",
    "\n",
    "In addition, some important points must be known by the scientist using the data for a problem, specifically:\n",
    "* where the data come from: which open organism, company, person, collected the data in the first place.\n",
    "* when the data have been collected: most data can vary over time (for example, the number of passengers using a transportation service will vary over the years in an expanding city).\n",
    "* the range of the data: for example, for geographical data, the area of collection has to be known.\n",
    "* how the data have been acquired: the data might have been recorded with sensors or hand tools, collected by person through forms, automatically created with a software, ...\n",
    "* if the data have been previously modified: the organism that collected the data in the first place might have done a work of preprocessing before handing them over to further partners."
   ]
  },
  {
   "cell_type": "markdown",
   "metadata": {},
   "source": [
    "## AIS data in general <a class=\"anchor\" id=\"ais-data\"></a>"
   ]
  },
  {
   "cell_type": "markdown",
   "metadata": {},
   "source": [
    "Most navigating vessel today in the world must be equipped with an AIS (Automatic Identification System) transponder which sends information about the ship's status and position at regular intervals of time (every 1 to 3 minutes). The data is collected by coastal stations and other ships, message after message. A message is sent at a certain timestamp by a certain ship, and can contain either static or dynamic information about the ship and the trip it is currently on.\n",
    "\n",
    "The dynamic information are information that may change every time a new message is sent, such as the speed of the ship, its heading, or its position (latitude and longitude). The static information stay the same for the whole trip of one ship, for example the identification of the ship (MMSI), the destination information, the type of the ship, ...\n",
    "\n",
    "<iframe width=\"560\" height=\"315\" src=\"https://www.youtube.com/embed/LQyGorGLYGU\" frameborder=\"0\" allow=\"accelerometer; autoplay; encrypted-media; gyroscope; picture-in-picture\" allowfullscreen></iframe>"
   ]
  },
  {
   "cell_type": "markdown",
   "metadata": {},
   "source": [
    "In this part, you have the role of a data scientist in charge of examining and working with AIS data collected from a coastal station next to Seattle (United States). The data you are using have been collected by the U.S. Marine Cadastre on the 1st of January 2017, on the area [UTM10](https://marinecadastre.gov/AIS/AIS%20Documents/UTMZoneMap2014.png) (west coast of the United States and Canada). The exact latitude range is ``[32.20937 ; 49.89074]`` and the longitude range is ``[-125.99859 ; -120.00242]``, which is comprised in this area:"
   ]
  },
  {
   "cell_type": "markdown",
   "metadata": {},
   "source": [
    "![text](1-1-data_area.JPG)"
   ]
  },
  {
   "cell_type": "markdown",
   "metadata": {},
   "source": [
    "This area, being on the coast, contains several harbors, which makes it interesting for our use."
   ]
  },
  {
   "cell_type": "markdown",
   "metadata": {},
   "source": [
    "## Dynamic data <a class=\"anchor\" id=\"dynamic-data\"></a>"
   ]
  },
  {
   "cell_type": "markdown",
   "metadata": {},
   "source": [
    "The function [head()](https://pandas.pydata.org/pandas-docs/stable/reference/api/pandas.DataFrame.head.html) allows you to print the first elements of a pandas DataFrame. The data you have to work with look like this:"
   ]
  },
  {
   "cell_type": "code",
   "execution_count": 3,
   "metadata": {},
   "outputs": [
    {
     "data": {
      "text/html": [
       "<div>\n",
       "<style scoped>\n",
       "    .dataframe tbody tr th:only-of-type {\n",
       "        vertical-align: middle;\n",
       "    }\n",
       "\n",
       "    .dataframe tbody tr th {\n",
       "        vertical-align: top;\n",
       "    }\n",
       "\n",
       "    .dataframe thead th {\n",
       "        text-align: right;\n",
       "    }\n",
       "</style>\n",
       "<table border=\"1\" class=\"dataframe\">\n",
       "  <thead>\n",
       "    <tr style=\"text-align: right;\">\n",
       "      <th></th>\n",
       "      <th>MMSI</th>\n",
       "      <th>BaseDateTime</th>\n",
       "      <th>LAT</th>\n",
       "      <th>LON</th>\n",
       "      <th>SOG</th>\n",
       "      <th>COG</th>\n",
       "      <th>Heading</th>\n",
       "      <th>VesselName</th>\n",
       "      <th>IMO</th>\n",
       "      <th>CallSign</th>\n",
       "      <th>...</th>\n",
       "      <th>DepTime</th>\n",
       "      <th>ArrTime</th>\n",
       "      <th>DepLat</th>\n",
       "      <th>DepLon</th>\n",
       "      <th>ArrLat</th>\n",
       "      <th>ArrLon</th>\n",
       "      <th>DepCountry</th>\n",
       "      <th>DepCity</th>\n",
       "      <th>ArrCountry</th>\n",
       "      <th>ArrCity</th>\n",
       "    </tr>\n",
       "  </thead>\n",
       "  <tbody>\n",
       "    <tr>\n",
       "      <th>0</th>\n",
       "      <td>367114690</td>\n",
       "      <td>2017-01-01 00:00:06</td>\n",
       "      <td>48.51094</td>\n",
       "      <td>-122.60705</td>\n",
       "      <td>0.0</td>\n",
       "      <td>-49.6</td>\n",
       "      <td>511.0</td>\n",
       "      <td>NaN</td>\n",
       "      <td>NaN</td>\n",
       "      <td>NaN</td>\n",
       "      <td>...</td>\n",
       "      <td>2017-01-01 00:00:06</td>\n",
       "      <td>2017-01-01 02:40:45</td>\n",
       "      <td>48.51094</td>\n",
       "      <td>-122.60705</td>\n",
       "      <td>48.51095</td>\n",
       "      <td>-122.60705</td>\n",
       "      <td>US</td>\n",
       "      <td>Anacortes</td>\n",
       "      <td>US</td>\n",
       "      <td>Anacortes</td>\n",
       "    </tr>\n",
       "    <tr>\n",
       "      <th>1</th>\n",
       "      <td>367479990</td>\n",
       "      <td>2017-01-01 00:00:03</td>\n",
       "      <td>48.15891</td>\n",
       "      <td>-122.67268</td>\n",
       "      <td>0.1</td>\n",
       "      <td>10.1</td>\n",
       "      <td>353.0</td>\n",
       "      <td>WSF KENNEWICK</td>\n",
       "      <td>IMO9618331</td>\n",
       "      <td>WDF6991</td>\n",
       "      <td>...</td>\n",
       "      <td>2017-01-01 00:00:03</td>\n",
       "      <td>2017-01-01 02:40:44</td>\n",
       "      <td>48.15891</td>\n",
       "      <td>-122.67268</td>\n",
       "      <td>48.11099</td>\n",
       "      <td>-122.75885</td>\n",
       "      <td>US</td>\n",
       "      <td>Coupeville</td>\n",
       "      <td>US</td>\n",
       "      <td>Port Townsend</td>\n",
       "    </tr>\n",
       "    <tr>\n",
       "      <th>2</th>\n",
       "      <td>368319000</td>\n",
       "      <td>2017-01-01 00:00:08</td>\n",
       "      <td>43.34576</td>\n",
       "      <td>-124.32142</td>\n",
       "      <td>0.0</td>\n",
       "      <td>32.8</td>\n",
       "      <td>173.0</td>\n",
       "      <td>NaN</td>\n",
       "      <td>NaN</td>\n",
       "      <td>NaN</td>\n",
       "      <td>...</td>\n",
       "      <td>2017-01-01 00:00:08</td>\n",
       "      <td>2017-01-01 02:44:48</td>\n",
       "      <td>43.34576</td>\n",
       "      <td>-124.32142</td>\n",
       "      <td>43.34578</td>\n",
       "      <td>-124.32141</td>\n",
       "      <td>US</td>\n",
       "      <td>Barview</td>\n",
       "      <td>US</td>\n",
       "      <td>Barview</td>\n",
       "    </tr>\n",
       "    <tr>\n",
       "      <th>3</th>\n",
       "      <td>367154100</td>\n",
       "      <td>2017-01-01 00:00:15</td>\n",
       "      <td>46.74264</td>\n",
       "      <td>-124.93125</td>\n",
       "      <td>6.8</td>\n",
       "      <td>6.0</td>\n",
       "      <td>352.0</td>\n",
       "      <td>NaN</td>\n",
       "      <td>NaN</td>\n",
       "      <td>NaN</td>\n",
       "      <td>...</td>\n",
       "      <td>2017-01-01 00:00:15</td>\n",
       "      <td>2017-01-01 02:33:28</td>\n",
       "      <td>46.74264</td>\n",
       "      <td>-124.93125</td>\n",
       "      <td>47.02928</td>\n",
       "      <td>-124.95153</td>\n",
       "      <td>US</td>\n",
       "      <td>Ocean Shores</td>\n",
       "      <td>US</td>\n",
       "      <td>Ocean Shores</td>\n",
       "    </tr>\n",
       "    <tr>\n",
       "      <th>4</th>\n",
       "      <td>367446870</td>\n",
       "      <td>2017-01-01 00:00:59</td>\n",
       "      <td>48.51320</td>\n",
       "      <td>-122.60718</td>\n",
       "      <td>0.0</td>\n",
       "      <td>23.2</td>\n",
       "      <td>511.0</td>\n",
       "      <td>NaN</td>\n",
       "      <td>NaN</td>\n",
       "      <td>NaN</td>\n",
       "      <td>...</td>\n",
       "      <td>2017-01-01 00:00:59</td>\n",
       "      <td>2017-01-01 02:42:54</td>\n",
       "      <td>48.51320</td>\n",
       "      <td>-122.60718</td>\n",
       "      <td>48.51318</td>\n",
       "      <td>-122.60699</td>\n",
       "      <td>US</td>\n",
       "      <td>Anacortes</td>\n",
       "      <td>US</td>\n",
       "      <td>Anacortes</td>\n",
       "    </tr>\n",
       "  </tbody>\n",
       "</table>\n",
       "<p>5 rows × 26 columns</p>\n",
       "</div>"
      ],
      "text/plain": [
       "        MMSI         BaseDateTime       LAT        LON  SOG   COG  Heading  \\\n",
       "0  367114690  2017-01-01 00:00:06  48.51094 -122.60705  0.0 -49.6    511.0   \n",
       "1  367479990  2017-01-01 00:00:03  48.15891 -122.67268  0.1  10.1    353.0   \n",
       "2  368319000  2017-01-01 00:00:08  43.34576 -124.32142  0.0  32.8    173.0   \n",
       "3  367154100  2017-01-01 00:00:15  46.74264 -124.93125  6.8   6.0    352.0   \n",
       "4  367446870  2017-01-01 00:00:59  48.51320 -122.60718  0.0  23.2    511.0   \n",
       "\n",
       "      VesselName         IMO CallSign  ...              DepTime  \\\n",
       "0            NaN         NaN      NaN  ...  2017-01-01 00:00:06   \n",
       "1  WSF KENNEWICK  IMO9618331  WDF6991  ...  2017-01-01 00:00:03   \n",
       "2            NaN         NaN      NaN  ...  2017-01-01 00:00:08   \n",
       "3            NaN         NaN      NaN  ...  2017-01-01 00:00:15   \n",
       "4            NaN         NaN      NaN  ...  2017-01-01 00:00:59   \n",
       "\n",
       "               ArrTime    DepLat     DepLon    ArrLat     ArrLon DepCountry  \\\n",
       "0  2017-01-01 02:40:45  48.51094 -122.60705  48.51095 -122.60705         US   \n",
       "1  2017-01-01 02:40:44  48.15891 -122.67268  48.11099 -122.75885         US   \n",
       "2  2017-01-01 02:44:48  43.34576 -124.32142  43.34578 -124.32141         US   \n",
       "3  2017-01-01 02:33:28  46.74264 -124.93125  47.02928 -124.95153         US   \n",
       "4  2017-01-01 02:42:54  48.51320 -122.60718  48.51318 -122.60699         US   \n",
       "\n",
       "        DepCity  ArrCountry        ArrCity  \n",
       "0     Anacortes          US      Anacortes  \n",
       "1    Coupeville          US  Port Townsend  \n",
       "2       Barview          US        Barview  \n",
       "3  Ocean Shores          US   Ocean Shores  \n",
       "4     Anacortes          US      Anacortes  \n",
       "\n",
       "[5 rows x 26 columns]"
      ]
     },
     "execution_count": 3,
     "metadata": {},
     "output_type": "execute_result"
    }
   ],
   "source": [
    "dynamic_data.head()"
   ]
  },
  {
   "cell_type": "markdown",
   "metadata": {},
   "source": [
    "This dataset contains a mix of dynamic and static attributes, as explained earlier. The mention _artificially created from original data_ means that this attribute was added by us to the data downloaded.\n",
    "\n",
    "Static attributes:\n",
    "\n",
    "+ __MMSI__: unique 9-digit [identification code](https://www.navcen.uscg.gov/?pageName=mtMmsi) of the ship - numeric\n",
    "+ __VesselName__: name of the ship - string\n",
    "+ __IMO__: unique 7-digit [international identification number](https://imonumbers.lrfairplay.com/), that remains unchanged after the transfer of the ship's registration to another country - numeric\n",
    "+ __CallSign__: unique callsign of the ship - string\n",
    "+ __VesselType__: type of the ship, numerically coded, see [here](https://coast.noaa.gov/data/marinecadastre/ais/VesselTypeCodes2018.pdf) for details - numeric\n",
    "+ __Length__: length of the ship, in meters - numeric\n",
    "+ __Width__: width of the ship, in meters - numeric\n",
    "+ __Draft__: vertical distance between the waterline and the bottom of the hull of the ship, in meters. For one ship, varies with the load of the ship and the density of the water - numeric\n",
    "+ __TripID__: (_artificially created from original data_) unique ID for the trip - numeric\n",
    "+ __DepTime__: (_artificially created from original data_) departure time for the trip - datetime\n",
    "+ __ArrTime__: (_artificially created from original data_) arrival time for the trip - datetime\n",
    "+ __DepLat__: (_artificially created from original data_) departure latitude for the trip - numeric\n",
    "+ __DepLon__: (_artificially created from original data_) departure longitude for the trip - numeric\n",
    "+ __ArrLat__: (_artificially created from original data_) arrival latitude for the trip - numeric\n",
    "+ __ArrLon__: (_artificially created from original data_) arrival longitude for the trip - numeric\n",
    "+ __DepCountry__: (_artificially created from original data_) departure country for the trip - string\n",
    "+ __DepCity__: (_artificially created from original data_) departure city for the trip - string\n",
    "+ __ArrCountry__: (_artificially created from original data_) arrival country for the trip - string\n",
    "+ __ArrCity__: (_artificially created from original data_) arrival city for the trip - string\n",
    "\n",
    "Dynamic attributes:\n",
    "\n",
    "+ __BaseDateTime__: timestamp of the AIS message - datetime\n",
    "+ __LAT__: latitude of the ship (in degree: [-90 ; 90], negative value represents South, 91 indicates 'not available') - numeric\n",
    "+ __LON__: longitude of the ship (in degree: [-180 ; 180], negative value represents West, 181 indicates 'not available') - numeric\n",
    "+ __SOG__: speed over ground, in knots - numeric\n",
    "+ __COG__: course over ground, direction relative to the absolute North (in degree: [0 ; 359]) - numeric\n",
    "+ __Heading__: heading of the ship (in degree: [0 ; 359], 511 indicates 'not available') - numeric\n",
    "+ __Status__: status of the ship - string\n",
    "\n",
    "<iframe width=\"560\" height=\"315\" src=\"https://www.youtube.com/embed/3M7mxBimT70\" frameborder=\"0\" allow=\"accelerometer; autoplay; encrypted-media; gyroscope; picture-in-picture\" allowfullscreen></iframe>"
   ]
  },
  {
   "cell_type": "markdown",
   "metadata": {},
   "source": [
    "## Static data <a class=\"anchor\" id=\"static-data\"></a>"
   ]
  },
  {
   "cell_type": "markdown",
   "metadata": {},
   "source": [
    "From the AIS data collected on the Marine Cadastre Website, we have created a smaller dataset containing only the static data of the trips. This will allow you to compare and analyze the trips as entities. Let's have a look at these data."
   ]
  },
  {
   "cell_type": "code",
   "execution_count": 4,
   "metadata": {},
   "outputs": [
    {
     "data": {
      "text/html": [
       "<div>\n",
       "<style scoped>\n",
       "    .dataframe tbody tr th:only-of-type {\n",
       "        vertical-align: middle;\n",
       "    }\n",
       "\n",
       "    .dataframe tbody tr th {\n",
       "        vertical-align: top;\n",
       "    }\n",
       "\n",
       "    .dataframe thead th {\n",
       "        text-align: right;\n",
       "    }\n",
       "</style>\n",
       "<table border=\"1\" class=\"dataframe\">\n",
       "  <thead>\n",
       "    <tr style=\"text-align: right;\">\n",
       "      <th></th>\n",
       "      <th>TripID</th>\n",
       "      <th>MMSI</th>\n",
       "      <th>MeanSOG</th>\n",
       "      <th>VesselName</th>\n",
       "      <th>IMO</th>\n",
       "      <th>CallSign</th>\n",
       "      <th>VesselType</th>\n",
       "      <th>Length</th>\n",
       "      <th>Width</th>\n",
       "      <th>Draft</th>\n",
       "      <th>...</th>\n",
       "      <th>ArrTime</th>\n",
       "      <th>DepLat</th>\n",
       "      <th>DepLon</th>\n",
       "      <th>ArrLat</th>\n",
       "      <th>ArrLon</th>\n",
       "      <th>DepCountry</th>\n",
       "      <th>DepCity</th>\n",
       "      <th>ArrCountry</th>\n",
       "      <th>ArrCity</th>\n",
       "      <th>Duration</th>\n",
       "    </tr>\n",
       "  </thead>\n",
       "  <tbody>\n",
       "    <tr>\n",
       "      <th>0</th>\n",
       "      <td>1</td>\n",
       "      <td>367114690</td>\n",
       "      <td>0.000000</td>\n",
       "      <td>NaN</td>\n",
       "      <td>NaN</td>\n",
       "      <td>NaN</td>\n",
       "      <td>NaN</td>\n",
       "      <td>NaN</td>\n",
       "      <td>NaN</td>\n",
       "      <td>NaN</td>\n",
       "      <td>...</td>\n",
       "      <td>2017-01-01 02:40:45</td>\n",
       "      <td>48.51094</td>\n",
       "      <td>-122.60705</td>\n",
       "      <td>48.51095</td>\n",
       "      <td>-122.60705</td>\n",
       "      <td>US</td>\n",
       "      <td>Anacortes</td>\n",
       "      <td>US</td>\n",
       "      <td>Anacortes</td>\n",
       "      <td>0 days 02:40:39</td>\n",
       "    </tr>\n",
       "    <tr>\n",
       "      <th>1</th>\n",
       "      <td>2</td>\n",
       "      <td>367479990</td>\n",
       "      <td>6.536585</td>\n",
       "      <td>WSF KENNEWICK</td>\n",
       "      <td>IMO9618331</td>\n",
       "      <td>WDF6991</td>\n",
       "      <td>1012.0</td>\n",
       "      <td>83.39</td>\n",
       "      <td>19.5</td>\n",
       "      <td>3.2</td>\n",
       "      <td>...</td>\n",
       "      <td>2017-01-01 02:40:44</td>\n",
       "      <td>48.15891</td>\n",
       "      <td>-122.67268</td>\n",
       "      <td>48.11099</td>\n",
       "      <td>-122.75885</td>\n",
       "      <td>US</td>\n",
       "      <td>Coupeville</td>\n",
       "      <td>US</td>\n",
       "      <td>Port Townsend</td>\n",
       "      <td>0 days 02:40:41</td>\n",
       "    </tr>\n",
       "    <tr>\n",
       "      <th>2</th>\n",
       "      <td>3</td>\n",
       "      <td>368319000</td>\n",
       "      <td>0.000758</td>\n",
       "      <td>NaN</td>\n",
       "      <td>NaN</td>\n",
       "      <td>NaN</td>\n",
       "      <td>NaN</td>\n",
       "      <td>NaN</td>\n",
       "      <td>NaN</td>\n",
       "      <td>NaN</td>\n",
       "      <td>...</td>\n",
       "      <td>2017-01-01 02:44:48</td>\n",
       "      <td>43.34576</td>\n",
       "      <td>-124.32142</td>\n",
       "      <td>43.34578</td>\n",
       "      <td>-124.32141</td>\n",
       "      <td>US</td>\n",
       "      <td>Barview</td>\n",
       "      <td>US</td>\n",
       "      <td>Barview</td>\n",
       "      <td>0 days 02:44:40</td>\n",
       "    </tr>\n",
       "    <tr>\n",
       "      <th>3</th>\n",
       "      <td>4</td>\n",
       "      <td>367154100</td>\n",
       "      <td>6.871111</td>\n",
       "      <td>NaN</td>\n",
       "      <td>NaN</td>\n",
       "      <td>NaN</td>\n",
       "      <td>NaN</td>\n",
       "      <td>NaN</td>\n",
       "      <td>NaN</td>\n",
       "      <td>NaN</td>\n",
       "      <td>...</td>\n",
       "      <td>2017-01-01 02:33:28</td>\n",
       "      <td>46.74264</td>\n",
       "      <td>-124.93125</td>\n",
       "      <td>47.02928</td>\n",
       "      <td>-124.95153</td>\n",
       "      <td>US</td>\n",
       "      <td>Ocean Shores</td>\n",
       "      <td>US</td>\n",
       "      <td>Ocean Shores</td>\n",
       "      <td>0 days 02:33:13</td>\n",
       "    </tr>\n",
       "    <tr>\n",
       "      <th>4</th>\n",
       "      <td>5</td>\n",
       "      <td>367446870</td>\n",
       "      <td>0.000000</td>\n",
       "      <td>NaN</td>\n",
       "      <td>NaN</td>\n",
       "      <td>NaN</td>\n",
       "      <td>NaN</td>\n",
       "      <td>NaN</td>\n",
       "      <td>NaN</td>\n",
       "      <td>NaN</td>\n",
       "      <td>...</td>\n",
       "      <td>2017-01-01 02:42:54</td>\n",
       "      <td>48.51320</td>\n",
       "      <td>-122.60718</td>\n",
       "      <td>48.51318</td>\n",
       "      <td>-122.60699</td>\n",
       "      <td>US</td>\n",
       "      <td>Anacortes</td>\n",
       "      <td>US</td>\n",
       "      <td>Anacortes</td>\n",
       "      <td>0 days 02:41:55</td>\n",
       "    </tr>\n",
       "  </tbody>\n",
       "</table>\n",
       "<p>5 rows × 22 columns</p>\n",
       "</div>"
      ],
      "text/plain": [
       "   TripID       MMSI   MeanSOG     VesselName         IMO CallSign  \\\n",
       "0       1  367114690  0.000000            NaN         NaN      NaN   \n",
       "1       2  367479990  6.536585  WSF KENNEWICK  IMO9618331  WDF6991   \n",
       "2       3  368319000  0.000758            NaN         NaN      NaN   \n",
       "3       4  367154100  6.871111            NaN         NaN      NaN   \n",
       "4       5  367446870  0.000000            NaN         NaN      NaN   \n",
       "\n",
       "   VesselType  Length  Width  Draft  ...              ArrTime    DepLat  \\\n",
       "0         NaN     NaN    NaN    NaN  ...  2017-01-01 02:40:45  48.51094   \n",
       "1      1012.0   83.39   19.5    3.2  ...  2017-01-01 02:40:44  48.15891   \n",
       "2         NaN     NaN    NaN    NaN  ...  2017-01-01 02:44:48  43.34576   \n",
       "3         NaN     NaN    NaN    NaN  ...  2017-01-01 02:33:28  46.74264   \n",
       "4         NaN     NaN    NaN    NaN  ...  2017-01-01 02:42:54  48.51320   \n",
       "\n",
       "      DepLon    ArrLat     ArrLon  DepCountry       DepCity ArrCountry  \\\n",
       "0 -122.60705  48.51095 -122.60705          US     Anacortes         US   \n",
       "1 -122.67268  48.11099 -122.75885          US    Coupeville         US   \n",
       "2 -124.32142  43.34578 -124.32141          US       Barview         US   \n",
       "3 -124.93125  47.02928 -124.95153          US  Ocean Shores         US   \n",
       "4 -122.60718  48.51318 -122.60699          US     Anacortes         US   \n",
       "\n",
       "         ArrCity         Duration  \n",
       "0      Anacortes  0 days 02:40:39  \n",
       "1  Port Townsend  0 days 02:40:41  \n",
       "2        Barview  0 days 02:44:40  \n",
       "3   Ocean Shores  0 days 02:33:13  \n",
       "4      Anacortes  0 days 02:41:55  \n",
       "\n",
       "[5 rows x 22 columns]"
      ]
     },
     "execution_count": 4,
     "metadata": {},
     "output_type": "execute_result"
    }
   ],
   "source": [
    "static_data.head()"
   ]
  },
  {
   "cell_type": "markdown",
   "metadata": {},
   "source": [
    "As you can see, most of the attributes are the same as for the dynamic data, only the dynamic attributes (like timestamp, latitude, longitude, speed and heading) have disappeared.\n",
    "\n",
    "Two attributes are new here:\n",
    "+ __MeanSOG__: the mean of the value of the SOG attribute for all the points in the trip - numeric\n",
    "+ __Duration__: the total duration of the tracked trip - numeric"
   ]
  },
  {
   "cell_type": "markdown",
   "metadata": {},
   "source": [
    "## Comparison of dynamic and static datasets <a class=\"anchor\" id=\"compare-data\"></a>"
   ]
  },
  {
   "cell_type": "markdown",
   "metadata": {},
   "source": [
    "This dataset is built from the same data as the dynamic dataset and therefore contains the same data.\n",
    "\n",
    "We can verify that by comparing the MMSIs of the ships tracked in both datasets. For that, we collect the unique values of the attribute MMSI in both datasets with the function [unique()](https://pandas.pydata.org/pandas-docs/stable/reference/api/pandas.Series.unique.html).\n",
    "\n",
    "We could then print the two lists and visually compare them, but they both contain 1520 values and it would be a long work. Instead, we will check the difference between both by using two loops and printing the elements that are present in one list and not in the other.\n",
    "\n",
    "We do that two times: ``diff1`` contains the elements present in the dynamic dataset but not in the static one, and ``diff2`` contains the elements present in the static dataset but not in the dynamic one."
   ]
  },
  {
   "cell_type": "code",
   "execution_count": 5,
   "metadata": {},
   "outputs": [
    {
     "name": "stdout",
     "output_type": "stream",
     "text": [
      "dynamic: [367114690 367479990 368319000 ... 367417230 316021258 316021259]\n",
      "static: [367114690 367479990 368319000 ... 367417230 316021258 316021259]\n",
      "diff1: []\n",
      "diff2: []\n"
     ]
    }
   ],
   "source": [
    "# Get the unique MMSI values in both datasets\n",
    "dynamic_mmsi = dynamic_data['MMSI'].unique()\n",
    "static_mmsi = static_data['MMSI'].unique()\n",
    "\n",
    "# Print the two lists\n",
    "print('dynamic: ' + str(dynamic_mmsi))\n",
    "print('static: ' + str(static_mmsi))\n",
    "\n",
    "# Check for elements in dynamic_mmsi that are not in static_mmsi\n",
    "diff1 = []\n",
    "for element in dynamic_mmsi:\n",
    "    if element not in static_mmsi:\n",
    "        diff1.append(element)\n",
    "print('diff1: ' + str(diff1))\n",
    "        \n",
    "# Check for elements in static_mmsi that are not in dynamic_mmsi\n",
    "diff2 = []\n",
    "for element in static_mmsi:\n",
    "    if element not in dynamic_mmsi:\n",
    "        diff2.append(element)\n",
    "print('diff2: ' + str(diff2))"
   ]
  },
  {
   "cell_type": "markdown",
   "metadata": {},
   "source": [
    "As we see, the two lists containing the differences are empty, meaning both the dynamic and static lists are identical.\n",
    "\n",
    "To easily understand the difference between the datasets, let's have a look at their lengths with the function [len()](https://docs.python.org/3/library/functions.html#len)."
   ]
  },
  {
   "cell_type": "code",
   "execution_count": 6,
   "metadata": {},
   "outputs": [
    {
     "data": {
      "text/plain": [
       "100000"
      ]
     },
     "execution_count": 6,
     "metadata": {},
     "output_type": "execute_result"
    }
   ],
   "source": [
    "len(dynamic_data)"
   ]
  },
  {
   "cell_type": "code",
   "execution_count": 7,
   "metadata": {},
   "outputs": [
    {
     "data": {
      "text/plain": [
       "1520"
      ]
     },
     "execution_count": 7,
     "metadata": {},
     "output_type": "execute_result"
    }
   ],
   "source": [
    "len(static_data)"
   ]
  },
  {
   "cell_type": "markdown",
   "metadata": {},
   "source": [
    "Finally, we can understand that each element in the static dataset contains the information of one trip in the dynamic data by printing the number of different MMSI values in the dynamic dataset:"
   ]
  },
  {
   "cell_type": "code",
   "execution_count": 8,
   "metadata": {},
   "outputs": [
    {
     "data": {
      "text/plain": [
       "1520"
      ]
     },
     "execution_count": 8,
     "metadata": {},
     "output_type": "execute_result"
    }
   ],
   "source": [
    "len(dynamic_data['MMSI'].unique())"
   ]
  },
  {
   "cell_type": "markdown",
   "metadata": {},
   "source": [
    "We have the same number of unique MMSIs in the dynamic dataset than the number of instances in the static dataset."
   ]
  },
  {
   "cell_type": "markdown",
   "metadata": {},
   "source": [
    "## More information and quiz <a class=\"anchor\" id=\"quiz\"></a>"
   ]
  },
  {
   "cell_type": "markdown",
   "metadata": {},
   "source": [
    "For more information about AIS data:\n",
    "* [US coast guard page about AIS](https://www.navcen.uscg.gov/?pageName=AISmain)\n",
    "* [all about AIS](http://www.allaboutais.com/index.php/en/)\n",
    "* [official report on AIS data](https://www.itu.int/dms_pubrec/itu-r/rec/m/R-REC-M.1371-5-201402-I!!PDF-E.pdf)\n",
    "\n",
    "<iframe src=\"https://h5p.org/h5p/embed/741872\" width=\"694\" height=\"600\" frameborder=\"0\" allowfullscreen=\"allowfullscreen\"></iframe><script src=\"https://h5p.org/sites/all/modules/h5p/library/js/h5p-resizer.js\" charset=\"UTF-8\"></script>"
   ]
  }
 ],
 "metadata": {
  "kernelspec": {
   "display_name": "Python 3",
   "language": "python",
   "name": "python3"
  },
  "language_info": {
   "codemirror_mode": {
    "name": "ipython",
    "version": 3
   },
   "file_extension": ".py",
   "mimetype": "text/x-python",
   "name": "python",
   "nbconvert_exporter": "python",
   "pygments_lexer": "ipython3",
   "version": "3.7.1"
  },
  "varInspector": {
   "cols": {
    "lenName": 16,
    "lenType": 16,
    "lenVar": 40
   },
   "kernels_config": {
    "python": {
     "delete_cmd_postfix": "",
     "delete_cmd_prefix": "del ",
     "library": "var_list.py",
     "varRefreshCmd": "print(var_dic_list())"
    },
    "r": {
     "delete_cmd_postfix": ") ",
     "delete_cmd_prefix": "rm(",
     "library": "var_list.r",
     "varRefreshCmd": "cat(var_dic_list()) "
    }
   },
   "types_to_exclude": [
    "module",
    "function",
    "builtin_function_or_method",
    "instance",
    "_Feature"
   ],
   "window_display": false
  }
 },
 "nbformat": 4,
 "nbformat_minor": 2
}
