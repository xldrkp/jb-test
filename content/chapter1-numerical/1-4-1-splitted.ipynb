{
 "cells": [
  {
   "cell_type": "raw",
   "metadata": {},
   "source": [
    "---\n",
    "section: \"Prediction from all data vs. splitted dataset\"\n",
    "goal: \"Understand how splitting the dataset can give better predictions and when to do that.\"\n",
    "time: \"x min\"\n",
    "toccontent: \"\"\n",
    "prerequisites: \"AIS data, basics about machine learning\"\n",
    "level: \"Beginner and advanced\"\n",
    "---"
   ]
  },
  {
   "cell_type": "code",
   "execution_count": 5,
   "metadata": {},
   "outputs": [],
   "source": [
    "# Cell to hide - just an option and import other functions\n",
    "\n",
    "import pandas as pd\n",
    "pd.set_option('display.max_columns', 27)\n",
    "\n",
    "%run 1-functions.ipynb"
   ]
  },
  {
   "cell_type": "markdown",
   "metadata": {},
   "source": [
    "Your customer would like to have a model that can predict the mean speed of a vessel based on its type and size. As we will see together, this task is not the easiest with the dataset we have, as it contains a lot of different ships with different goals at sea."
   ]
  },
  {
   "cell_type": "code",
   "execution_count": 6,
   "metadata": {},
   "outputs": [],
   "source": [
    "import pandas as pd\n",
    "\n",
    "static_data = pd.read_csv('./static_data.csv')"
   ]
  },
  {
   "cell_type": "markdown",
   "metadata": {},
   "source": [
    "## Prediction using the whole dataset"
   ]
  },
  {
   "cell_type": "markdown",
   "metadata": {},
   "source": [
    "We will start by predicting simply the ``MeanSOG`` using the ``VesselType``, ``Length``, ``Width`` and ``Draft``. Let's add the attribute names into the variables ``x`` and ``y``."
   ]
  },
  {
   "cell_type": "code",
   "execution_count": 7,
   "metadata": {},
   "outputs": [],
   "source": [
    "x = ['VesselType', 'Length', 'Width', 'Draft']\n",
    "y = ['MeanSOG']"
   ]
  },
  {
   "cell_type": "markdown",
   "metadata": {},
   "source": [
    "Now we can use the function ``knn_regression()`` to make predictions."
   ]
  },
  {
   "cell_type": "code",
   "execution_count": 8,
   "metadata": {},
   "outputs": [
    {
     "name": "stdout",
     "output_type": "stream",
     "text": [
      "MAE: 1.2733923934326852\n"
     ]
    }
   ],
   "source": [
    "from sklearn.metrics import mean_absolute_error\n",
    "\n",
    "predictions, y_test = knn_regression(static_data, x, y)\n",
    "print('MAE: ' + str(mean_absolute_error(predictions, y_test)))"
   ]
  },
  {
   "cell_type": "markdown",
   "metadata": {},
   "source": [
    "To better undestand if the MAE is good, we need to know the distribution, the max and min values of the attribute we are trying to predict:"
   ]
  },
  {
   "cell_type": "code",
   "execution_count": 9,
   "metadata": {},
   "outputs": [
    {
     "data": {
      "text/plain": [
       "count    1520.000000\n",
       "mean        1.034825\n",
       "std         2.936439\n",
       "min        -0.100000\n",
       "25%         0.000000\n",
       "50%         0.012633\n",
       "75%         0.072000\n",
       "max        20.360811\n",
       "Name: MeanSOG, dtype: float64"
      ]
     },
     "execution_count": 9,
     "metadata": {},
     "output_type": "execute_result"
    }
   ],
   "source": [
    "static_data['MeanSOG'].describe()"
   ]
  },
  {
   "cell_type": "markdown",
   "metadata": {},
   "source": [
    "The mean value of ``MeanSOG`` is ``1.03`` knots, so we can imagine that our MAE of ``1.27`` is not a very good performance. To try to understand why we get this performance, let's visually analyze the distribution of the attribute and the predictions made by the model."
   ]
  },
  {
   "cell_type": "code",
   "execution_count": 10,
   "metadata": {},
   "outputs": [
    {
     "data": {
      "text/plain": [
       "<matplotlib.axes._subplots.AxesSubplot at 0x1fd4fa7d5c0>"
      ]
     },
     "execution_count": 10,
     "metadata": {},
     "output_type": "execute_result"
    }
   ],
   "source": [
    "static_data['MeanSOG'].plot.hist()"
   ]
  },
  {
   "cell_type": "markdown",
   "metadata": {},
   "source": [
    "First, we see that the dataset contains a lot of low values for the attribute ``MeanSOG``. Let's look at the predictions made:"
   ]
  },
  {
   "cell_type": "code",
   "execution_count": 11,
   "metadata": {},
   "outputs": [
    {
     "data": {
      "text/plain": [
       "<matplotlib.axes._subplots.AxesSubplot at 0x1fd51ca82b0>"
      ]
     },
     "execution_count": 11,
     "metadata": {},
     "output_type": "execute_result"
    },
    {
     "data": {
      "image/png": "[encoded data removed]",
      "text/plain": [
       "<Figure size 432x288 with 1 Axes>"
      ]
     },
     "metadata": {
      "needs_background": "light"
     },
     "output_type": "display_data"
    }
   ],
   "source": [
    "# We need to rearrange the list predictions to be able to use the function hist()\n",
    "pred = []\n",
    "for element in predictions:\n",
    "    pred.append(element[0])\n",
    "    \n",
    "pd.Series(pred).plot.hist()"
   ]
  },
  {
   "cell_type": "markdown",
   "metadata": {},
   "source": [
    "Let's compare this histogram with the one of the real values:"
   ]
  },
  {
   "cell_type": "code",
   "execution_count": 12,
   "metadata": {},
   "outputs": [
    {
     "data": {
      "text/plain": [
       "<matplotlib.axes._subplots.AxesSubplot at 0x1fd51d2a550>"
      ]
     },
     "execution_count": 12,
     "metadata": {},
     "output_type": "execute_result"
    },
    {
     "data": {
      "image/png": "[encoded data removed]",
      "text/plain": [
       "<Figure size 432x288 with 1 Axes>"
      ]
     },
     "metadata": {
      "needs_background": "light"
     },
     "output_type": "display_data"
    }
   ],
   "source": [
    "pd.Series(y_test['MeanSOG']).plot.hist()"
   ]
  },
  {
   "cell_type": "markdown",
   "metadata": {},
   "source": [
    "We see that the model gives much more predictions of low value, but there is still a big difference between predictions and true labels.\n",
    "\n",
    "How could we try to build a model that gives good predictions for the mean speed of ships with such an unbalanced dataset?\n",
    "\n",
    "One solution could be to split the dataset between low speed ships and \"normal\" speed ships. When the customer wants to make a prediction, they should be able to tell if the ship they want to predict the speed is mobile or not, and then be able to select the right model: for mobile or immobile ships. Let's have a look at this idea."
   ]
  },
  {
   "cell_type": "markdown",
   "metadata": {},
   "source": [
    "## Split the dataset"
   ]
  },
  {
   "cell_type": "markdown",
   "metadata": {},
   "source": [
    "According to the distribution of the data we saw before, we can tell that most low values are under 1. So, let's split the dataset into mobile and immobile ships, taking the value 1 of mean speed for the threshold. For the selection of the data, we use the function [loc()](https://pandas.pydata.org/pandas-docs/stable/reference/api/pandas.DataFrame.loc.html).\n",
    "\n",
    "We will do the analysis on the mobile ships only, as it doesn't seem interesting to predict the mean speed of an immobile ship."
   ]
  },
  {
   "cell_type": "code",
   "execution_count": 13,
   "metadata": {},
   "outputs": [],
   "source": [
    "mobile = static_data.loc[static_data['MeanSOG'] >= 1]"
   ]
  },
  {
   "cell_type": "markdown",
   "metadata": {},
   "source": [
    "Now let's try to make predictions for the new dataset and analyze the performance."
   ]
  },
  {
   "cell_type": "code",
   "execution_count": 14,
   "metadata": {},
   "outputs": [
    {
     "name": "stdout",
     "output_type": "stream",
     "text": [
      "MAE: 2.8503720152323386\n"
     ]
    }
   ],
   "source": [
    "# Prediction for mobile ships\n",
    "\n",
    "predictions2, y_test2 = knn_regression(mobile, x, y)\n",
    "print('MAE: ' + str(mean_absolute_error(predictions2, y_test2)))"
   ]
  },
  {
   "cell_type": "code",
   "execution_count": 15,
   "metadata": {},
   "outputs": [
    {
     "data": {
      "text/plain": [
       "7.006852415734686"
      ]
     },
     "execution_count": 15,
     "metadata": {},
     "output_type": "execute_result"
    }
   ],
   "source": [
    "mobile['MeanSOG'].mean()"
   ]
  },
  {
   "cell_type": "markdown",
   "metadata": {},
   "source": [
    "Without looking at the histograms, we can already get an idea of the performance of the model."
   ]
  },
  {
   "cell_type": "markdown",
   "metadata": {},
   "source": [
    "## Compare the results"
   ]
  },
  {
   "cell_type": "markdown",
   "metadata": {},
   "source": [
    "The model for mobile ships seems to be giving better results compared to the mean value of the dataset. Of course, the MAE in general is much higher than the one of the model with the whole dataset, but we saw that the model seemed to be only good for predicting the low values of MeanSOG.\n",
    "Let's check this out."
   ]
  },
  {
   "cell_type": "code",
   "execution_count": 16,
   "metadata": {},
   "outputs": [
    {
     "name": "stdout",
     "output_type": "stream",
     "text": [
      "3.950739471015331\n"
     ]
    }
   ],
   "source": [
    "pred = []\n",
    "for element in predictions:\n",
    "    pred.append(element[0])\n",
    "\n",
    "# Create two lists to collect true labels with MeanSOG >= 1 and the corresponding predictions\n",
    "pred_sup1 = []\n",
    "y_test_sup1 = []\n",
    "\n",
    "i = 0\n",
    "for value in y_test['MeanSOG']:\n",
    "    if value >= 1:\n",
    "        y_test_sup1.append(value)\n",
    "        pred_sup1.append(pred[i])\n",
    "    i = i + 1\n",
    "    \n",
    "print(mean_absolute_error(pred_sup1, y_test_sup1))"
   ]
  },
  {
   "cell_type": "markdown",
   "metadata": {},
   "source": [
    "The mean absolute error on the mobile ships with the first model (the one using the whole dataset) is higher than the one we got with the new model when splitting the data. This is a good sign that splitting the data helped to create a better model for the moving ships."
   ]
  },
  {
   "cell_type": "markdown",
   "metadata": {},
   "source": [
    "To go further, we can have a look at the boxplots of the predictions of both models. This is another type of visualization of the data which can instantly inform us on the state of the prediction and the possible need to build several models for several cases."
   ]
  },
  {
   "cell_type": "code",
   "execution_count": 18,
   "metadata": {},
   "outputs": [
    {
     "data": {
      "text/plain": [
       "{'whiskers': [<matplotlib.lines.Line2D at 0x1fd51e0a320>,\n",
       "  <matplotlib.lines.Line2D at 0x1fd51e0a668>],\n",
       " 'caps': [<matplotlib.lines.Line2D at 0x1fd51e0a9b0>,\n",
       "  <matplotlib.lines.Line2D at 0x1fd51e0acf8>],\n",
       " 'boxes': [<matplotlib.lines.Line2D at 0x1fd51dfdef0>],\n",
       " 'medians': [<matplotlib.lines.Line2D at 0x1fd51e0add8>],\n",
       " 'fliers': [<matplotlib.lines.Line2D at 0x1fd51e133c8>],\n",
       " 'means': []}"
      ]
     },
     "execution_count": 18,
     "metadata": {},
     "output_type": "execute_result"
    },
    {
     "data": {
      "image/png": "[encoded data removed]",
      "text/plain": [
       "<Figure size 432x288 with 1 Axes>"
      ]
     },
     "metadata": {
      "needs_background": "light"
     },
     "output_type": "display_data"
    }
   ],
   "source": [
    "import matplotlib.pyplot as plt\n",
    "\n",
    "# Boxplot of the predictions with the first model\n",
    "plt.boxplot(predictions)"
   ]
  },
  {
   "cell_type": "markdown",
   "metadata": {},
   "source": [
    "We can see with this boxplot that most predicted values are low, and the highest values are considered as outliers. Let's compare it with the boxplot of the predictions made by the second model."
   ]
  },
  {
   "cell_type": "code",
   "execution_count": 19,
   "metadata": {},
   "outputs": [
    {
     "data": {
      "text/plain": [
       "{'whiskers': [<matplotlib.lines.Line2D at 0x1fd51e54e48>,\n",
       "  <matplotlib.lines.Line2D at 0x1fd51e664a8>],\n",
       " 'caps': [<matplotlib.lines.Line2D at 0x1fd51e667f0>,\n",
       "  <matplotlib.lines.Line2D at 0x1fd51e66b38>],\n",
       " 'boxes': [<matplotlib.lines.Line2D at 0x1fd51e54cf8>],\n",
       " 'medians': [<matplotlib.lines.Line2D at 0x1fd51e66e80>],\n",
       " 'fliers': [<matplotlib.lines.Line2D at 0x1fd51e66f60>],\n",
       " 'means': []}"
      ]
     },
     "execution_count": 19,
     "metadata": {},
     "output_type": "execute_result"
    },
    {
     "data": {
      "image/png": "[encoded data removed]",
      "text/plain": [
       "<Figure size 432x288 with 1 Axes>"
      ]
     },
     "metadata": {
      "needs_background": "light"
     },
     "output_type": "display_data"
    }
   ],
   "source": [
    "# Boxplot of the predictions with the second model\n",
    "plt.boxplot(predictions2)"
   ]
  },
  {
   "cell_type": "markdown",
   "metadata": {},
   "source": [
    "Here, the predictions are much more homogeneous. This seems more acceptable for a predictive model, as we want a model that can generalize on new data."
   ]
  },
  {
   "cell_type": "markdown",
   "metadata": {},
   "source": [
    "## Generalization"
   ]
  },
  {
   "cell_type": "markdown",
   "metadata": {},
   "source": [
    "What this experiment taught us is that sometimes, the data used to build a model are too heterogeneous and should be splitted, if they could. In our case, it makes sense to split the data between mobile and immobile ships, as it is an easy feature to verify before using a model to predict the speed. Also, predicting the speed of a ship that is actually moving seems much more interesting than predicting the speed of a ship that doesn't move.\n",
    "\n",
    "In general, it is important to check that the data used for training a model are a good representation of the environment in which the model will be in use later."
   ]
  },
  {
   "cell_type": "markdown",
   "metadata": {},
   "source": [
    "## Quiz\n",
    "\n",
    "__TODO: make quiz__"
   ]
  }
 ],
 "metadata": {
  "kernelspec": {
   "display_name": "Python 3",
   "language": "python",
   "name": "python3"
  },
  "language_info": {
   "codemirror_mode": {
    "name": "ipython",
    "version": 3
   },
   "file_extension": ".py",
   "mimetype": "text/x-python",
   "name": "python",
   "nbconvert_exporter": "python",
   "pygments_lexer": "ipython3",
   "version": "3.7.1"
  },
  "varInspector": {
   "cols": {
    "lenName": 16,
    "lenType": 16,
    "lenVar": 40
   },
   "kernels_config": {
    "python": {
     "delete_cmd_postfix": "",
     "delete_cmd_prefix": "del ",
     "library": "var_list.py",
     "varRefreshCmd": "print(var_dic_list())"
    },
    "r": {
     "delete_cmd_postfix": ") ",
     "delete_cmd_prefix": "rm(",
     "library": "var_list.r",
     "varRefreshCmd": "cat(var_dic_list()) "
    }
   },
   "types_to_exclude": [
    "module",
    "function",
    "builtin_function_or_method",
    "instance",
    "_Feature"
   ],
   "window_display": false
  }
 },
 "nbformat": 4,
 "nbformat_minor": 2
}
