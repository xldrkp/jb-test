{
 "cells": [
  {
   "cell_type": "raw",
   "metadata": {},
   "source": [
    "---\n",
    "metadata: true\n",
    "section: \"Practical task\"\n",
    "goal: \"Practice the content that was covered in this chapter, in Python.\"\n",
    "time: \"x min\"\n",
    "prerequisites: \"Chapter 1 - Numerical data\"\n",
    "level: \"Advanced\"\n",
    "---"
   ]
  },
  {
   "cell_type": "markdown",
   "metadata": {},
   "source": [
    "You will now have the possibility to practice all we have seen in this chapter, on a new dataset.\n",
    "\n",
    "The dataset is called \"Wine quality\" and has been found and downloaded here: http://archive.ics.uci.edu/ml/datasets/Wine+Quality.\n",
    "\n",
    "It contains the characteristics of 6497 wines, and their ``quality``, a grade between 0 and 10 given by 3 wine experts. On the website, the data is separated between white and red wine, but we have grouped them together for the purpose of the exercise. We added an additional attribute ``type``, containing the type of wine (red or white).\n",
    "\n",
    "For the purpose of the exercise, and to train with missing values, some values have been deleted or modified from the original dataset."
   ]
  },
  {
   "cell_type": "markdown",
   "metadata": {},
   "source": [
    "1. Import the dataset, it is called ``wine.csv``.\n",
    "2. Get to know the dataset: how it looks like, the different attributes, their distribution.\n",
    "3. Detect the missing values and think about how to deal with them.\n",
    "4. Use the dataset with all the attributes to predict the attribute ``quality`` with a regression model (you can use the functions we used along the chapter).\n",
    "5. Get the MAE and plot the predictions vs. the true labels.\n",
    "6. Build other models with different attributes. Try to find the combination of attributes which gives the best performance.\n",
    "7. Predict the attribute ``quality`` with a classification model, get the MAE and plot the results.\n",
    "8. Split the dataset on a well chosen attribute, and predict the attribute ``quality`` with the new datasets."
   ]
  },
  {
   "cell_type": "code",
   "execution_count": null,
   "metadata": {},
   "outputs": [],
   "source": []
  },
  {
   "cell_type": "markdown",
   "metadata": {},
   "source": [
    "Open questions:\n",
    "+ _What can we do with the missing values?_\n",
    "+ _How is the performance of the regression model?_\n",
    "+ _Explain the difference of performance between the regression and the classification models._\n",
    "+ _Explain the performance we obtain by splitting the dataset._"
   ]
  }
 ],
 "metadata": {
  "kernelspec": {
   "display_name": "Python 3",
   "language": "python",
   "name": "python3"
  },
  "language_info": {
   "codemirror_mode": {
    "name": "ipython",
    "version": 3
   },
   "file_extension": ".py",
   "mimetype": "text/x-python",
   "name": "python",
   "nbconvert_exporter": "python",
   "pygments_lexer": "ipython3",
   "version": "3.7.1"
  },
  "varInspector": {
   "cols": {
    "lenName": 16,
    "lenType": 16,
    "lenVar": 40
   },
   "kernels_config": {
    "python": {
     "delete_cmd_postfix": "",
     "delete_cmd_prefix": "del ",
     "library": "var_list.py",
     "varRefreshCmd": "print(var_dic_list())"
    },
    "r": {
     "delete_cmd_postfix": ") ",
     "delete_cmd_prefix": "rm(",
     "library": "var_list.r",
     "varRefreshCmd": "cat(var_dic_list()) "
    }
   },
   "types_to_exclude": [
    "module",
    "function",
    "builtin_function_or_method",
    "instance",
    "_Feature"
   ],
   "window_display": false
  }
 },
 "nbformat": 4,
 "nbformat_minor": 2
}
