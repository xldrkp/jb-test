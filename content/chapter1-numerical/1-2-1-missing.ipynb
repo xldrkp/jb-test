{
 "cells": [
  {
   "cell_type": "raw",
   "metadata": {},
   "source": [
    "---\n",
    "section: \"Missing data\"\n",
    "goal: \"Understand how missing data affect the prediction and how to fox it.\"\n",
    "time: \"x min\"\n",
    "toccontent: \"\"\n",
    "prerequisites: \"AIS data, basics about machine learning\"\n",
    "level: \"Beginner and advanced\"\n",
    "---"
   ]
  },
  {
   "cell_type": "code",
   "execution_count": 7,
   "metadata": {},
   "outputs": [],
   "source": [
    "# Cell to hide - just an option and import other functions\n",
    "\n",
    "import pandas as pd\n",
    "pd.set_option('display.max_columns', 27)\n",
    "\n",
    "%run 1-functions.ipynb"
   ]
  },
  {
   "cell_type": "markdown",
   "metadata": {},
   "source": [
    "## Predict the width of a ship <a class=\"anchor\" id=\"width\"></a>"
   ]
  },
  {
   "cell_type": "markdown",
   "metadata": {},
   "source": [
    "You customer would like a model that is able to predict the width of a ship, knowing its length. For this first task, the model will take only the length attribute as an input, and predict the width. For this task, you can use the static dataset."
   ]
  },
  {
   "cell_type": "code",
   "execution_count": 4,
   "metadata": {},
   "outputs": [],
   "source": [
    "import pandas as pd\n",
    "\n",
    "static_data = pd.read_csv('./static_data.csv')"
   ]
  },
  {
   "cell_type": "markdown",
   "metadata": {},
   "source": [
    "We can put both attribute names in two variables: ``x`` (containing a list of the predictive variables, here only length) and ``y`` (containing a list of the predicted variable)."
   ]
  },
  {
   "cell_type": "code",
   "execution_count": 5,
   "metadata": {},
   "outputs": [],
   "source": [
    "# Prediction of Width from Length\n",
    "\n",
    "x = ['Length']\n",
    "y = ['Width']"
   ]
  },
  {
   "cell_type": "markdown",
   "metadata": {},
   "source": [
    "As the prediction of the width of a ship is a regression problem, we use the function ``knn_regression()`` __TODO: add link to functions page when it is made__ to make the prediction. Then we can calculate the MAE with the method [mean_absolute_error](https://scikit-learn.org/stable/modules/generated/sklearn.metrics.mean_absolute_error.html) from the ``sklearn`` library."
   ]
  },
  {
   "cell_type": "code",
   "execution_count": 8,
   "metadata": {},
   "outputs": [
    {
     "name": "stdout",
     "output_type": "stream",
     "text": [
      "MAE with all data: 2.73451052631579\n"
     ]
    }
   ],
   "source": [
    "from sklearn.metrics import mean_absolute_error\n",
    "\n",
    "pred1, ytest1 = knn_regression(static_data, x, y)\n",
    "\n",
    "print('MAE with all data: ' + str(mean_absolute_error(pred1, ytest1)))"
   ]
  },
  {
   "cell_type": "markdown",
   "metadata": {},
   "source": [
    "In the previous part, we already identified that the length and width attributes contain some missing values. We can try to make a prediction on a selected part of the dataset, that doesn't contain missing values. For that, we use the method [dropna()](https://pandas.pydata.org/pandas-docs/stable/reference/api/pandas.DataFrame.dropna.html) on the dataframe. Then, we make a new prediction on the selected dataset and print the MAE."
   ]
  },
  {
   "cell_type": "code",
   "execution_count": 9,
   "metadata": {},
   "outputs": [
    {
     "name": "stdout",
     "output_type": "stream",
     "text": [
      "MAE without NaN: 2.0717238095238097\n"
     ]
    }
   ],
   "source": [
    "static_selected = static_data.dropna()\n",
    "pred2, ytest2 = knn_regression(static_selected, x, y)\n",
    "print('MAE without NaN: ' + str(mean_absolute_error(pred2, ytest2)))"
   ]
  },
  {
   "cell_type": "markdown",
   "metadata": {},
   "source": [
    "The error dropped (this means that the performance of the model increased when we removed the missing data). Before coming to any conclusion, we need to analyze in details the reason of this drop of performance, and think if it is really what we want."
   ]
  },
  {
   "cell_type": "markdown",
   "metadata": {},
   "source": [
    "__TODO: explanation: depends how missing values are treated in prediction > if length is here but width is missing, what does the MAE return? How to compare prediction with NaN? A length of 0 might lower the error.__"
   ]
  },
  {
   "cell_type": "markdown",
   "metadata": {},
   "source": [
    "## Predict the mean speed from the type of vessel <a class=\"anchor\" id=\"meansog\"></a>"
   ]
  },
  {
   "cell_type": "markdown",
   "metadata": {},
   "source": [
    "Your customer now would like to be able to predict the mean SOG of a ship, knowing the type of ship. This can be useful to predict when a particular ship would arrive at a lock, for example. The static dataset is again used in this case."
   ]
  },
  {
   "cell_type": "markdown",
   "metadata": {},
   "source": [
    "Solve these two widgets to determine the values of the ``x`` and ``y`` variables and the appropriate function to use (if the problem is regression or classification).\n",
    "\n",
    "<iframe src=\"https://h5p.org/h5p/embed/753577\" width=\"694\" height=\"600\" frameborder=\"0\" allowfullscreen=\"allowfullscreen\"></iframe><script src=\"https://h5p.org/sites/all/modules/h5p/library/js/h5p-resizer.js\" charset=\"UTF-8\"></script>\n",
    "\n",
    "<iframe src=\"https://h5p.org/h5p/embed/753637\" width=\"694\" height=\"300\" frameborder=\"0\" allowfullscreen=\"allowfullscreen\"></iframe><script src=\"https://h5p.org/sites/all/modules/h5p/library/js/h5p-resizer.js\" charset=\"UTF-8\"></script>"
   ]
  },
  {
   "cell_type": "markdown",
   "metadata": {},
   "source": [
    "Start with filling the ``x`` and ``y`` variables with the appropriate attributes."
   ]
  },
  {
   "cell_type": "code",
   "execution_count": null,
   "metadata": {},
   "outputs": [],
   "source": [
    "# Prediction of MeanSOG from VesselType\n",
    "x = []\n",
    "y = []"
   ]
  },
  {
   "cell_type": "markdown",
   "metadata": {},
   "source": [
    "Make the predictions with the right prediction function (replace the ``xxx`` with the appropriate name: ``classification`` or ``regression``)."
   ]
  },
  {
   "cell_type": "code",
   "execution_count": null,
   "metadata": {},
   "outputs": [],
   "source": [
    "static_selected = static_data.dropna()\n",
    "\n",
    "pred1, ytest1 = knn_xxx(static_data, x, y)\n",
    "pred2, ytest2 = knn_xxx(static_selected, x, y)\n",
    "\n",
    "print('MAE with all data: ' + str(mean_absolute_error(pred1, ytest1)))\n",
    "print('MAE without NaN: ' + str(mean_absolute_error(pred2, ytest2)))"
   ]
  },
  {
   "cell_type": "code",
   "execution_count": 10,
   "metadata": {},
   "outputs": [
    {
     "data": {
      "application/vnd.jupyter.widget-view+json": {
       "model_id": "8754ccb4dd3241af92ca8856b7e9f46b",
       "version_major": 2,
       "version_minor": 0
      },
      "text/plain": [
       "interactive(children=(Dropdown(description='x = ', options=('TripID', 'MMSI', 'MeanSOG', 'VesselName', 'IMO', …"
      ]
     },
     "metadata": {},
     "output_type": "display_data"
    },
    {
     "data": {
      "text/plain": [
       "<function __main__.make_prediction(x, y, function)>"
      ]
     },
     "execution_count": 10,
     "metadata": {},
     "output_type": "execute_result"
    }
   ],
   "source": [
    "# For beginner version: hide cell\n",
    "\n",
    "import numpy as np\n",
    "import ipywidgets as widgets\n",
    "from ipywidgets import interact\n",
    "from sklearn.metrics import mean_absolute_error\n",
    "from sklearn.metrics import accuracy_score\n",
    "\n",
    "functions = ['not chosen', 'classification', 'regression']\n",
    "attributes = static_data.columns\n",
    "\n",
    "def make_prediction(x, y, function):\n",
    "    static_selected = static_data.dropna()\n",
    "    \n",
    "    if function == 'regression' and static_data[y].dtype.name in ['object', 'int64', 'float64']:\n",
    "        pred1, ytest1 = knn_regression(static_data, [x], [y])\n",
    "        pred2, ytest2 = knn_regression(static_selected, [x], [y])\n",
    "        \n",
    "        print('MAE with all data: ' + str(mean_absolute_error(pred1, ytest1)))\n",
    "        print('MAE without NaN: ' + str(mean_absolute_error(pred2, ytest2)))\n",
    "    \n",
    "    elif function == 'classification' and static_data[y].dtype.name == ['category']:\n",
    "        pred1, ytest1 = knn_classification(static_data, [x], [y])\n",
    "        pred2, ytest2 = knn_classification(static_selected, [x], [y])\n",
    "        \n",
    "        print('Accuracy with all data: ' + str(accuracy_score(pred1, ytest1)))\n",
    "        print('Accuracy without NaN: ' + str(accuracy_score(pred2, ytest2)))\n",
    "\n",
    "interact(make_prediction,\n",
    "         x = widgets.Dropdown(\n",
    "            options = attributes,\n",
    "            value = attributes[0],\n",
    "            description = 'x = ',\n",
    "            disabled = False,),\n",
    "         y = widgets.Dropdown(\n",
    "            options = attributes,\n",
    "            value = attributes[0],\n",
    "            description = 'y = ',\n",
    "            disabled = False,),\n",
    "         function = widgets.Dropdown(\n",
    "            options = functions,\n",
    "            value = functions[0],\n",
    "            description = 'Type: ',\n",
    "            disabled = False,))"
   ]
  },
  {
   "cell_type": "markdown",
   "metadata": {},
   "source": [
    "This time, we see that the performance decreased without the missing data."
   ]
  },
  {
   "cell_type": "markdown",
   "metadata": {},
   "source": [
    "__TODO: explanation: MeanSOG has a lot of missing values that are replaced with 0. Check the missing values of VesselType.__"
   ]
  },
  {
   "cell_type": "markdown",
   "metadata": {},
   "source": [
    "## How to deal with missing values"
   ]
  },
  {
   "cell_type": "markdown",
   "metadata": {},
   "source": [
    "__TODO__\n",
    "+ recover by guessing or predicting\n",
    "+ set up a neutral / constant value\n",
    "+ drop the columns or rows with missing values"
   ]
  }
 ],
 "metadata": {
  "kernelspec": {
   "display_name": "Python 3",
   "language": "python",
   "name": "python3"
  },
  "language_info": {
   "codemirror_mode": {
    "name": "ipython",
    "version": 3
   },
   "file_extension": ".py",
   "mimetype": "text/x-python",
   "name": "python",
   "nbconvert_exporter": "python",
   "pygments_lexer": "ipython3",
   "version": "3.7.1"
  },
  "varInspector": {
   "cols": {
    "lenName": 16,
    "lenType": 16,
    "lenVar": 40
   },
   "kernels_config": {
    "python": {
     "delete_cmd_postfix": "",
     "delete_cmd_prefix": "del ",
     "library": "var_list.py",
     "varRefreshCmd": "print(var_dic_list())"
    },
    "r": {
     "delete_cmd_postfix": ") ",
     "delete_cmd_prefix": "rm(",
     "library": "var_list.r",
     "varRefreshCmd": "cat(var_dic_list()) "
    }
   },
   "types_to_exclude": [
    "module",
    "function",
    "builtin_function_or_method",
    "instance",
    "_Feature"
   ],
   "window_display": false
  }
 },
 "nbformat": 4,
 "nbformat_minor": 2
}
