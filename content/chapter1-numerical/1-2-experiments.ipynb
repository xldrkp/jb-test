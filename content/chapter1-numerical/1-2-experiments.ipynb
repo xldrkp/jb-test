{
 "cells": [
  {
   "cell_type": "markdown",
   "metadata": {},
   "source": [
    "Contents __TODO: remove when done (only for development purpose)__\n",
    "\n",
    "+ [Basic prediction pattern used in this lecture](#prediction)\n",
    "+ [Incomplete / missing data](#missing-data)\n",
    "+ [Incorrect data](#incorrect-data)\n",
    "+ [Biased data](#biased-data)\n",
    "+ [More ideas](#more-ideas)"
   ]
  },
  {
   "cell_type": "code",
   "execution_count": null,
   "metadata": {},
   "outputs": [],
   "source": [
    "# Cell to hide - just an option\n",
    "\n",
    "import pandas as pd\n",
    "pd.set_option('display.max_columns', 27)"
   ]
  },
  {
   "cell_type": "markdown",
   "metadata": {},
   "source": [
    "In this section, we want to try out a few experiments with the 2 datasets we have. You will perform some simple prediction tasks from the data, predicting for example the length of a ship, or its future trajectory.\n",
    "\n",
    "For now, you should only focus on the prediction task, using the raw data as you received them."
   ]
  },
  {
   "cell_type": "markdown",
   "metadata": {},
   "source": [
    "## Basic prediction pattern used in this lecture <a class=\"anchor\" id=\"prediction\"></a>"
   ]
  },
  {
   "cell_type": "markdown",
   "metadata": {},
   "source": [
    "__TODO: probably move this part and the corresponding functions to either the intro or the appendix. I think it's better if the students can use just knn_regression or rf_trajectory without caring too much about what's going on in there.__\n",
    "\n",
    "This lecture is about data quality, so we do not want to focus too much on the task of prediction, but more on the data themselves. For this reason, the prediction functions have been simplified as much as possible, and we will use some simple algorithms from some Python libraries.\n",
    "\n",
    "To understand how a simple task of supervised learning is led, refer to the introductory part (link) __TODO: link to the introduction about supervised learning__.\n",
    "\n",
    "We will now quickly go through the prediction task."
   ]
  },
  {
   "cell_type": "markdown",
   "metadata": {},
   "source": [
    "There are 2 kinds of supervised prediction tasks: classification and regression. Here, they will be tackled the same way, only the algorithm used and the way of measuring the performance change. We will explore together the regression "
   ]
  },
  {
   "cell_type": "code",
   "execution_count": 2,
   "metadata": {},
   "outputs": [],
   "source": [
    "# KNN regression\n",
    "def knn_regression(df, x,  y):\n",
    "    from sklearn.model_selection import train_test_split\n",
    "    from sklearn.neighbors import KNeighborsRegressor\n",
    "    from sklearn.metrics import mean_absolute_error\n",
    "    \n",
    "    x_train, x_test, y_train, y_test = train_test_split(df[x], df[y], test_size = 0.2, random_state = 0)\n",
    "    \n",
    "    x_train = x_train.fillna(value = 0)\n",
    "    x_test = x_test.fillna(value = 0)\n",
    "    y_train = y_train.fillna(value = 0)\n",
    "    y_test = y_test.fillna(value = 0)\n",
    "    \n",
    "    knn = KNeighborsRegressor(n_neighbors = 25)\n",
    "    knn.fit(x_train, y_train)\n",
    "    predictions = knn.predict(x_test)\n",
    "    \n",
    "    return mean_absolute_error(predictions, y_test)"
   ]
  },
  {
   "cell_type": "code",
   "execution_count": 3,
   "metadata": {},
   "outputs": [],
   "source": [
    "# KNN classification\n",
    "def knn_classification(df, x,  y):\n",
    "    from sklearn.model_selection import train_test_split\n",
    "    from sklearn.neighbors import KNeighborsClassifier\n",
    "    from sklearn.metrics import accuracy_score\n",
    "    \n",
    "    x_train, x_test, y_train, y_test = train_test_split(df[x], df[y], test_size = 0.2, random_state = 0)\n",
    "    \n",
    "    x_train = x_train.fillna(value = 0)\n",
    "    x_test = x_test.fillna(value = 0)\n",
    "    y_train = y_train.fillna(value = 0)\n",
    "    y_test = y_test.fillna(value = 0)\n",
    "    \n",
    "    knn = KNeighborsClassifier(n_neighbors = 25)\n",
    "    knn.fit(x_train, y_train)\n",
    "    predictions = knn.predict(x_test)\n",
    "    \n",
    "    return accuracy_score(predictions, y_test)"
   ]
  },
  {
   "cell_type": "code",
   "execution_count": 89,
   "metadata": {},
   "outputs": [],
   "source": [
    "def rf_trajectory(df, split, clas):\n",
    "    '''\n",
    "    Do time series prediction on df\n",
    "    in:\n",
    "    df: pandas DataFrame\n",
    "    split: integer, between 0 and 1, percentage of train/test split\n",
    "    clas: string, the name of the attribute to predict (do it separatly for latitude and longitude)\n",
    "    '''\n",
    "    import numpy as np\n",
    "    from sklearn.metrics import mean_absolute_error\n",
    "    from sklearn.ensemble import RandomForestRegressor\n",
    "    \n",
    "    # First, we create a new dataset with 2 additional columns for prediction:\n",
    "    # - previous_clas: contains the value of the class attribute of the previous row (example: previous latitude value)\n",
    "    # - diff_clas: the difference between the previous value and the current value for the class attribute\n",
    "    \n",
    "    df2 = pd.DataFrame(columns = ['TripID', 'BaseDateTime', clas, 'previous_clas', 'diff_clas'])\n",
    "    \n",
    "    df2['TripID'] = df['TripID']\n",
    "    df2['BaseDateTime'] = df['BaseDateTime']\n",
    "    df2[clas] = df[clas]\n",
    "    \n",
    "    previous_tripid = 'first'\n",
    "    \n",
    "    for index, row in df2.sort_values(['TripID', 'BaseDateTime']).iterrows():\n",
    "        if previous_tripid != row['TripID']: # new trip\n",
    "            previous_tripid = row['TripID']\n",
    "            previous_clas = row[clas]\n",
    "        \n",
    "        df2.loc[index, 'previous_clas'] = previous_clas\n",
    "        previous_clas = row[clas]\n",
    "        \n",
    "    df2['diff_clas'] = df2[clas] - df2['previous_clas']\n",
    "    \n",
    "    df2['previous_clas'] = pd.to_numeric(df2['previous_clas'])\n",
    "    df2['diff_clas'] = pd.to_numeric(df2['diff_clas'])\n",
    "    \n",
    "    # Split training and testing sets: the training set is the first part of the data in the chronological order\n",
    "    nb_train = int(split * len(df2))\n",
    "    nb_test = int(len(df2) - nb_train)\n",
    "    train = df2.head(nb_train)\n",
    "    test = df2.tail(nb_test)\n",
    "    \n",
    "    # Baseline prediction: always predicts the last position\n",
    "    baseline = mean_absolute_error(test[clas], test['previous_clas'])\n",
    "    #print('Baseline: mean absolute error = %.5f' % baseline)\n",
    "    \n",
    "    # Random Forest prediction\n",
    "    # Drop the timestamp columns because they cannot be processed by the random forest algorithm\n",
    "    x_train, x_test = train.drop(columns = [clas, 'BaseDateTime'], axis = 1), test.drop(columns = [clas, 'BaseDateTime'], axis = 1)\n",
    "    y_train, y_test = train[clas].values, test[clas].values\n",
    "\n",
    "    rf = RandomForestRegressor(n_estimators = 1000, n_jobs = -1, random_state = 0)\n",
    "    rf.fit(x_train, y_train)\n",
    "    predictions = rf.predict(x_test)\n",
    "    error = mean_absolute_error(predictions, y_test)\n",
    "    \n",
    "    #print('Random Forest: mean absolute error = %.5f' % error)\n",
    "    \n",
    "    return train, test, predictions, baseline, error"
   ]
  },
  {
   "cell_type": "markdown",
   "metadata": {},
   "source": [
    "## Incomplete / missing data <a class=\"anchor\" id=\"missing-data\"></a>"
   ]
  },
  {
   "cell_type": "markdown",
   "metadata": {},
   "source": [
    "### 1\n",
    "Exercise of prediction with and without NaN:\n",
    "+ once it gives better results, example for prediction of Width from Length > because 0 Length might lower the mean value. Compare length and width values, plot graphs, compare NaN in both columns\n",
    "+ once it gives worse results, identify why (because more NaN than non-NaN so prediction error is calculated on an easy problem (0 > 0)). Example, predict MeanSOG from DepLat, ArrLat, DepLon, ArrLon or from VesselType"
   ]
  },
  {
   "cell_type": "code",
   "execution_count": 1,
   "metadata": {},
   "outputs": [],
   "source": [
    "import pandas as pd\n",
    "\n",
    "static_data = pd.read_csv('./static_data.csv')"
   ]
  },
  {
   "cell_type": "code",
   "execution_count": 5,
   "metadata": {},
   "outputs": [
    {
     "name": "stdout",
     "output_type": "stream",
     "text": [
      "MAE with all data: 2.73451052631579\n",
      "MAE without NaN: 2.0717238095238097\n"
     ]
    }
   ],
   "source": [
    "# Prediction of Length from Width\n",
    "x = ['Length']\n",
    "y = ['Width']\n",
    "\n",
    "static_selected = static_data.dropna()\n",
    "\n",
    "mae_alldata = knn_regression(static_data, x, y)\n",
    "mae_nona = knn_regression(static_selected, x, y)\n",
    "\n",
    "print('MAE with all data: ' + str(mae_alldata))\n",
    "print('MAE without NaN: ' + str(mae_nona))"
   ]
  },
  {
   "cell_type": "code",
   "execution_count": 6,
   "metadata": {},
   "outputs": [
    {
     "name": "stdout",
     "output_type": "stream",
     "text": [
      "MAE with all data: 0.9136499460275772\n",
      "MAE without NaN: 1.9541572056893803\n"
     ]
    }
   ],
   "source": [
    "# Prediction of MeanSOG from start and end positions\n",
    "x = ['DepLat', 'ArrLat', 'DepLon', 'ArrLon']\n",
    "y = ['MeanSOG']\n",
    "\n",
    "static_selected = static_data.dropna()\n",
    "\n",
    "mae_alldata = knn_regression(static_data, x, y)\n",
    "mae_nona = knn_regression(static_selected, x, y)\n",
    "\n",
    "print('MAE with all data: ' + str(mae_alldata))\n",
    "print('MAE without NaN: ' + str(mae_nona))"
   ]
  },
  {
   "cell_type": "code",
   "execution_count": 7,
   "metadata": {},
   "outputs": [
    {
     "name": "stdout",
     "output_type": "stream",
     "text": [
      "MAE with all data: 0.9494952790387338\n",
      "MAE without NaN: 3.0201554291315684\n"
     ]
    }
   ],
   "source": [
    "# Prediction of MeanSOG from VesselType\n",
    "x = ['VesselType']\n",
    "y = ['MeanSOG']\n",
    "\n",
    "static_selected = static_data.dropna()\n",
    "\n",
    "mae_alldata = knn_regression(static_data, x, y)\n",
    "mae_nona = knn_regression(static_selected, x, y)\n",
    "\n",
    "print('MAE with all data: ' + str(mae_alldata))\n",
    "print('MAE without NaN: ' + str(mae_nona))"
   ]
  },
  {
   "cell_type": "markdown",
   "metadata": {},
   "source": [
    "### 2\n",
    "Exercise of trajectory prediction from one trip with and without gap of missing data"
   ]
  },
  {
   "cell_type": "code",
   "execution_count": 9,
   "metadata": {},
   "outputs": [],
   "source": [
    "import pandas as pd\n",
    "\n",
    "dynamic_data = pd.read_csv('./dynamic_data.csv')"
   ]
  },
  {
   "cell_type": "code",
   "execution_count": 79,
   "metadata": {},
   "outputs": [
    {
     "name": "stdout",
     "output_type": "stream",
     "text": [
      "Baseline: mean absolute error = 0.00136\n",
      "Random Forest: mean absolute error = 0.00136\n",
      "Baseline: mean absolute error = 0.00337\n",
      "Random Forest: mean absolute error = 0.06779\n"
     ]
    }
   ],
   "source": [
    "# Choose the trip to do the prediction on, and do the prediction twice: for latitude and longitude separately\n",
    "\n",
    "tripid = 221\n",
    "\n",
    "df = dynamic_data.loc[dynamic_data['TripID'] == tripid].sort_values('BaseDateTime')\n",
    "train_lat, test_lat, prediction_lat, baseline_lat, error_lat = rf_trajectory(df, 0.75, 'LAT')\n",
    "train_lon, test_lon, prediction_lon, baseline_lon, error_lon = rf_trajectory(df, 0.75, 'LON')"
   ]
  },
  {
   "cell_type": "code",
   "execution_count": 80,
   "metadata": {},
   "outputs": [
    {
     "data": {
      "text/plain": [
       "<matplotlib.legend.Legend at 0x1fecfedeac8>"
      ]
     },
     "execution_count": 80,
     "metadata": {},
     "output_type": "execute_result"
    },
    {
     "data": {
      "image/png": "[encoded data removed]",
      "text/plain": [
       "<Figure size 864x576 with 1 Axes>"
      ]
     },
     "metadata": {
      "needs_background": "light"
     },
     "output_type": "display_data"
    }
   ],
   "source": [
    "# Plot the result\n",
    "\n",
    "import matplotlib.pyplot as plt\n",
    "\n",
    "plt.figure(figsize=(12,8))\n",
    "plt.plot(np.asarray(train_lon['LON']), np.asarray(train_lat['LAT']), 'x', label = 'train')\n",
    "plt.plot(np.asarray(test_lon['LON']), np.asarray(test_lat['LAT']), 'x', label = 'test')\n",
    "plt.plot(np.asarray(prediction_lon), np.asarray(prediction_lat), 'x', label = 'prediction')\n",
    "plt.legend(loc = 'upper left')"
   ]
  },
  {
   "cell_type": "code",
   "execution_count": 86,
   "metadata": {
    "scrolled": false
   },
   "outputs": [],
   "source": [
    "# Do the prediction on the same trip but with a gap of missing values\n",
    "\n",
    "df = dynamic_data.loc[dynamic_data['TripID'] == tripid].sort_values('BaseDateTime')\n",
    "\n",
    "# Drop 25% of the trip information, between 25 and 50% chronogically\n",
    "df = df.reset_index().drop(columns = ['index']) # reindex to be able to make actions on the index value\n",
    "index_start = df.index[int(0.25 * len(df))]\n",
    "index_end = df.index[int(0.50 * len(df))]\n",
    "\n",
    "gap_df = df.loc[df.index < index_start]\n",
    "gap_df = gap_df.append(df.loc[df.index > index_end])"
   ]
  },
  {
   "cell_type": "code",
   "execution_count": 85,
   "metadata": {},
   "outputs": [
    {
     "name": "stdout",
     "output_type": "stream",
     "text": [
      "Baseline: mean absolute error = 0.00138\n",
      "Random Forest: mean absolute error = 0.00208\n",
      "Baseline: mean absolute error = 0.00336\n",
      "Random Forest: mean absolute error = 0.06603\n"
     ]
    },
    {
     "data": {
      "text/plain": [
       "<matplotlib.legend.Legend at 0x1fecffaffd0>"
      ]
     },
     "execution_count": 85,
     "metadata": {},
     "output_type": "execute_result"
    },
    {
     "data": {
      "image/png": "[encoded data removed]",
      "text/plain": [
       "<Figure size 864x576 with 1 Axes>"
      ]
     },
     "metadata": {
      "needs_background": "light"
     },
     "output_type": "display_data"
    }
   ],
   "source": [
    "# Prediction and result\n",
    "\n",
    "train_lat, test_lat, prediction_lat, baseline_lat, error_lat = rf_trajectory(gap_df, 0.67, 'LAT')\n",
    "train_lon, test_lon, prediction_lon, baseline_lon, error_lon = rf_trajectory(gap_df, 0.67, 'LON')\n",
    "\n",
    "plt.figure(figsize=(12,8))\n",
    "plt.plot(np.asarray(train_lon['LON']), np.asarray(train_lat['LAT']), 'x', label = 'train')\n",
    "plt.plot(np.asarray(test_lon['LON']), np.asarray(test_lat['LAT']), 'x', label = 'test')\n",
    "plt.plot(np.asarray(prediction_lon), np.asarray(prediction_lat), 'x', label = 'prediction')\n",
    "plt.legend(loc = 'upper left')"
   ]
  },
  {
   "cell_type": "code",
   "execution_count": 99,
   "metadata": {},
   "outputs": [
    {
     "data": {
      "application/vnd.jupyter.widget-view+json": {
       "model_id": "7edac9e1057b4f07a6801486aded9cd1",
       "version_major": 2,
       "version_minor": 0
      },
      "text/plain": [
       "interactive(children=(BoundedIntText(value=1, description='TripID [1 ; 1520]:', max=1520, min=1), Output()), _…"
      ]
     },
     "metadata": {},
     "output_type": "display_data"
    },
    {
     "data": {
      "text/plain": [
       "<function __main__.compare_pred(tripid)>"
      ]
     },
     "execution_count": 99,
     "metadata": {},
     "output_type": "execute_result"
    }
   ],
   "source": [
    "# compare for other trip\n",
    "\n",
    "import numpy as np\n",
    "import matplotlib.pyplot as plt\n",
    "import ipywidgets as widgets\n",
    "from ipywidgets import interact\n",
    "\n",
    "def compare_pred(tripid):\n",
    "\n",
    "    df = dynamic_data.loc[dynamic_data['TripID'] == tripid].sort_values('BaseDateTime')\n",
    "    train_lat, test_lat, prediction_lat, baseline_lat, error_lat = rf_trajectory(df, 0.75, 'LAT')\n",
    "    train_lon, test_lon, prediction_lon, baseline_lon, error_lon = rf_trajectory(df, 0.75, 'LON')\n",
    "\n",
    "    mean_baseline = (baseline_lat + baseline_lon)/2\n",
    "    mean_rf = (error_lat + error_lon)/2\n",
    "    print('Mean baseline: %.5f' % mean_baseline)\n",
    "    print('Mean RF: %.5f' % mean_rf)\n",
    "\n",
    "    plt.figure(figsize=(12,8))\n",
    "    plt.plot(np.asarray(train_lon['LON']), np.asarray(train_lat['LAT']), 'x', label = 'train')\n",
    "    plt.plot(np.asarray(test_lon['LON']), np.asarray(test_lat['LAT']), 'x', label = 'test')\n",
    "    plt.plot(np.asarray(prediction_lon), np.asarray(prediction_lat), 'x', label = 'prediction')\n",
    "    plt.legend(loc = 'upper left')\n",
    "\n",
    "    df = dynamic_data.loc[dynamic_data['TripID'] == tripid].sort_values('BaseDateTime')\n",
    "    df = df.reset_index().drop(columns = ['index']) # reindex to be able to make actions on the index value\n",
    "    index_start = df.index[int(0.25 * len(df))]\n",
    "    index_end = df.index[int(0.50 * len(df))]\n",
    "\n",
    "    gap_df = df.loc[df.index < index_start]\n",
    "    gap_df = gap_df.append(df.loc[df.index > index_end])\n",
    "\n",
    "    train_lat, test_lat, prediction_lat, baseline_lat, error_lat = rf_trajectory(gap_df, 0.67, 'LAT')\n",
    "    train_lon, test_lon, prediction_lon, baseline_lon, error_lon = rf_trajectory(gap_df, 0.67, 'LON')\n",
    "\n",
    "    mean_baseline = (baseline_lat + baseline_lon)/2\n",
    "    mean_rf = (error_lat + error_lon)/2\n",
    "    print('Mean baseline: %.5f' % mean_baseline)\n",
    "    print('Mean RF: %.5f' % mean_rf)\n",
    "\n",
    "    plt.figure(figsize=(12,8))\n",
    "    plt.plot(np.asarray(train_lon['LON']), np.asarray(train_lat['LAT']), 'x', label = 'train')\n",
    "    plt.plot(np.asarray(test_lon['LON']), np.asarray(test_lat['LAT']), 'x', label = 'test')\n",
    "    plt.plot(np.asarray(prediction_lon), np.asarray(prediction_lat), 'x', label = 'prediction')\n",
    "    plt.legend(loc = 'upper left')\n",
    "    \n",
    "interact(compare_pred,\n",
    "         tripid = widgets.BoundedIntText(value = 1,\n",
    "                                         min = 1,\n",
    "                                         max = 1520,\n",
    "                                         step = 1,\n",
    "                                         description = 'TripID [1 ; 1520]:',\n",
    "                                         disabled = False,))"
   ]
  },
  {
   "cell_type": "markdown",
   "metadata": {},
   "source": [
    "## Incorrect data <a class=\"anchor\" id=\"incorrect-data\"></a>"
   ]
  },
  {
   "cell_type": "markdown",
   "metadata": {},
   "source": [
    "Exercise of prediction with wrong data\n",
    "+ wrong unit of measurement for, for example, length or width\n",
    "+ try misusing latitude and longitude values, and get for example cities from it"
   ]
  },
  {
   "cell_type": "markdown",
   "metadata": {},
   "source": [
    "## Biased data <a class=\"anchor\" id=\"biased-data\"></a>"
   ]
  },
  {
   "cell_type": "markdown",
   "metadata": {},
   "source": [
    "### 1\n",
    "Exercise of prediction using immobile / mobile trips"
   ]
  },
  {
   "cell_type": "markdown",
   "metadata": {},
   "source": [
    "### 2\n",
    "Exercise of prediction with a lot of identical data vs. normal dataset (error in copy)"
   ]
  },
  {
   "cell_type": "markdown",
   "metadata": {},
   "source": [
    "## More ideas <a class=\"anchor\" id=\"more-ideas\"></a>"
   ]
  },
  {
   "cell_type": "markdown",
   "metadata": {},
   "source": [
    "+ Try to predict with something that does not make sense (example: using ID attribute as a number)\n",
    "+ or using Length as a category\n",
    "+ mixing regression and classification"
   ]
  }
 ],
 "metadata": {
  "kernelspec": {
   "display_name": "Python 3",
   "language": "python",
   "name": "python3"
  },
  "language_info": {
   "codemirror_mode": {
    "name": "ipython",
    "version": 3
   },
   "file_extension": ".py",
   "mimetype": "text/x-python",
   "name": "python",
   "nbconvert_exporter": "python",
   "pygments_lexer": "ipython3",
   "version": "3.7.1"
  },
  "varInspector": {
   "cols": {
    "lenName": 16,
    "lenType": 16,
    "lenVar": 40
   },
   "kernels_config": {
    "python": {
     "delete_cmd_postfix": "",
     "delete_cmd_prefix": "del ",
     "library": "var_list.py",
     "varRefreshCmd": "print(var_dic_list())"
    },
    "r": {
     "delete_cmd_postfix": ") ",
     "delete_cmd_prefix": "rm(",
     "library": "var_list.r",
     "varRefreshCmd": "cat(var_dic_list()) "
    }
   },
   "types_to_exclude": [
    "module",
    "function",
    "builtin_function_or_method",
    "instance",
    "_Feature"
   ],
   "window_display": false
  }
 },
 "nbformat": 4,
 "nbformat_minor": 2
}
