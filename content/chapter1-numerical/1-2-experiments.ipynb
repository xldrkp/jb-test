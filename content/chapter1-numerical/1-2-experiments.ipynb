{
 "cells": [
  {
   "cell_type": "raw",
   "metadata": {},
   "source": [
    "---\n",
    "section: \"Let's start with a few experiments\"\n",
    "goal: \"Create a few simple ML experiments with the AIS datasets and gauge their performances.\"\n",
    "time: \"x min\"\n",
    "toccontent: \"\"\n",
    "prerequisites: \"AIS data, basics about machine learning\"\n",
    "level: \"Beginner and expert\"\n",
    "---"
   ]
  },
  {
   "cell_type": "markdown",
   "metadata": {},
   "source": [
    "Contents __TODO: remove when done (only for development purpose)__\n",
    "\n",
    "+ [Prediction algorithms used in this lecture](#prediction)\n",
    "+ [Incomplete / missing data](#missing-data)\n",
    "+ [Incorrect data](#incorrect-data)\n",
    "+ [Biased data](#biased-data)\n",
    "+ [More ideas](#more-ideas)"
   ]
  },
  {
   "cell_type": "code",
   "execution_count": 1,
   "metadata": {},
   "outputs": [],
   "source": [
    "# Cell to hide - just an option\n",
    "\n",
    "import pandas as pd\n",
    "pd.set_option('display.max_columns', 27)"
   ]
  },
  {
   "cell_type": "markdown",
   "metadata": {},
   "source": [
    "In this section, we want to try out a few experiments with the 2 datasets we have. You will perform some simple prediction tasks from the data, predicting for example the length of a ship, or its future trajectory.\n",
    "\n",
    "For now, you should only focus on the prediction task, using the raw data as you received them."
   ]
  },
  {
   "cell_type": "markdown",
   "metadata": {},
   "source": [
    "## Prediction algorithms used in this lecture <a class=\"anchor\" id=\"prediction\"></a>"
   ]
  },
  {
   "cell_type": "markdown",
   "metadata": {},
   "source": [
    "__TODO: probably move this part and the corresponding functions to either the intro or the appendix. I think it's better if the students can use just knn_regression or rf_trajectory without caring too much about what's going on in there.__\n",
    "\n",
    "This lecture is about data quality, so we do not want to focus too much on the task of prediction, but more on the data themselves. For this reason, the prediction functions have been simplified as much as possible, and we will use some simple algorithms from some Python libraries.\n",
    "\n",
    "To understand how a simple task of supervised learning is led, refer to the introductory part (link) __TODO: link to the introduction about supervised learning__.\n",
    "\n",
    "We will now quickly go through the prediction task."
   ]
  },
  {
   "cell_type": "markdown",
   "metadata": {},
   "source": [
    "There are 2 kinds of supervised prediction tasks: classification and regression. Here, they will be tackled the same way, only the algorithm used and the way of measuring the performance change. We will explore together the regression "
   ]
  },
  {
   "cell_type": "code",
   "execution_count": 2,
   "metadata": {},
   "outputs": [],
   "source": [
    "# KNN regression\n",
    "def knn_regression(df, x,  y):\n",
    "    from sklearn.model_selection import train_test_split\n",
    "    from sklearn.neighbors import KNeighborsRegressor\n",
    "    \n",
    "    x_train, x_test, y_train, y_test = train_test_split(df[x], df[y], test_size = 0.2, random_state = 0)\n",
    "    \n",
    "    x_train = x_train.fillna(value = 0)\n",
    "    x_test = x_test.fillna(value = 0)\n",
    "    y_train = y_train.fillna(value = 0)\n",
    "    y_test = y_test.fillna(value = 0)\n",
    "    \n",
    "    knn = KNeighborsRegressor(n_neighbors = 25)\n",
    "    knn.fit(x_train, y_train)\n",
    "    predictions = knn.predict(x_test)\n",
    "    \n",
    "    return predictions, y_test"
   ]
  },
  {
   "cell_type": "code",
   "execution_count": 3,
   "metadata": {},
   "outputs": [],
   "source": [
    "# KNN classification\n",
    "def knn_classification(df, x,  y):\n",
    "    from sklearn.model_selection import train_test_split\n",
    "    from sklearn.neighbors import KNeighborsClassifier\n",
    "    \n",
    "    x_train, x_test, y_train, y_test = train_test_split(df[x], df[y], test_size = 0.2, random_state = 0)\n",
    "    \n",
    "    #x_train = x_train.fillna(value = 0)\n",
    "    #x_test = x_test.fillna(value = 0)\n",
    "    #y_train = y_train.fillna(value = 0)\n",
    "    #y_test = y_test.fillna(value = 0)\n",
    "    \n",
    "    knn = KNeighborsClassifier(n_neighbors = 25)\n",
    "    knn.fit(x_train, y_train)\n",
    "    predictions = knn.predict(x_test)\n",
    "    \n",
    "    return predictions, y_test"
   ]
  },
  {
   "cell_type": "code",
   "execution_count": 4,
   "metadata": {},
   "outputs": [],
   "source": [
    "def rf_trajectory(df, split, clas):\n",
    "    '''\n",
    "    Do time series prediction on df\n",
    "    in:\n",
    "    df: pandas DataFrame\n",
    "    split: integer, between 0 and 1, percentage of train/test split\n",
    "    clas: string, the name of the attribute to predict (do it separatly for latitude and longitude)\n",
    "    '''\n",
    "    import numpy as np\n",
    "    from sklearn.metrics import mean_absolute_error\n",
    "    from sklearn.ensemble import RandomForestRegressor\n",
    "    \n",
    "    # First, we create a new dataset with 2 additional columns for prediction:\n",
    "    # - previous_clas: contains the value of the class attribute of the previous row (example: previous latitude value)\n",
    "    # - diff_clas: the difference between the previous value and the current value for the class attribute\n",
    "    \n",
    "    df2 = pd.DataFrame(columns = ['TripID', 'BaseDateTime', clas, 'previous_clas', 'diff_clas'])\n",
    "    \n",
    "    df2['TripID'] = df['TripID']\n",
    "    df2['BaseDateTime'] = df['BaseDateTime']\n",
    "    df2[clas] = df[clas]\n",
    "    \n",
    "    previous_tripid = 'first'\n",
    "    \n",
    "    for index, row in df2.sort_values(['TripID', 'BaseDateTime']).iterrows():\n",
    "        if previous_tripid != row['TripID']: # new trip\n",
    "            previous_tripid = row['TripID']\n",
    "            previous_clas = row[clas]\n",
    "        \n",
    "        df2.loc[index, 'previous_clas'] = previous_clas\n",
    "        previous_clas = row[clas]\n",
    "        \n",
    "    df2['diff_clas'] = df2[clas] - df2['previous_clas']\n",
    "    \n",
    "    df2['previous_clas'] = pd.to_numeric(df2['previous_clas'])\n",
    "    df2['diff_clas'] = pd.to_numeric(df2['diff_clas'])\n",
    "    \n",
    "    # Split training and testing sets: the training set is the first part of the data in the chronological order\n",
    "    nb_train = int(split * len(df2))\n",
    "    nb_test = int(len(df2) - nb_train)\n",
    "    train = df2.head(nb_train)\n",
    "    test = df2.tail(nb_test)\n",
    "    \n",
    "    # Baseline prediction: always predicts the last position\n",
    "    baseline = mean_absolute_error(test[clas], test['previous_clas'])\n",
    "    #print('Baseline: mean absolute error = %.5f' % baseline)\n",
    "    \n",
    "    # Random Forest prediction\n",
    "    # Drop the timestamp columns because they cannot be processed by the random forest algorithm\n",
    "    x_train, x_test = train.drop(columns = [clas, 'BaseDateTime'], axis = 1), test.drop(columns = [clas, 'BaseDateTime'], axis = 1)\n",
    "    y_train, y_test = train[clas].values, test[clas].values\n",
    "\n",
    "    rf = RandomForestRegressor(n_estimators = 1000, n_jobs = -1, random_state = 0)\n",
    "    rf.fit(x_train, y_train)\n",
    "    predictions = rf.predict(x_test)\n",
    "    error = mean_absolute_error(predictions, y_test)\n",
    "    \n",
    "    #print('Random Forest: mean absolute error = %.5f' % error)\n",
    "    \n",
    "    return train, test, predictions, baseline, error"
   ]
  },
  {
   "cell_type": "markdown",
   "metadata": {},
   "source": [
    "## Incomplete / missing data <a class=\"anchor\" id=\"missing-data\"></a>"
   ]
  },
  {
   "cell_type": "markdown",
   "metadata": {},
   "source": [
    "### 1\n",
    "Exercise of prediction with and without NaN:\n",
    "+ once it gives better results, example for prediction of Width from Length > because 0 Length might lower the mean value. Compare length and width values, plot graphs, compare NaN in both columns\n",
    "+ once it gives worse results, identify why (because more NaN than non-NaN so prediction error is calculated on an easy problem (0 > 0)). Example, predict MeanSOG from DepLat, ArrLat, DepLon, ArrLon or from VesselType"
   ]
  },
  {
   "cell_type": "code",
   "execution_count": 5,
   "metadata": {},
   "outputs": [],
   "source": [
    "import pandas as pd\n",
    "\n",
    "static_data = pd.read_csv('./static_data.csv')"
   ]
  },
  {
   "cell_type": "code",
   "execution_count": 6,
   "metadata": {},
   "outputs": [
    {
     "name": "stdout",
     "output_type": "stream",
     "text": [
      "MAE with all data: 2.73451052631579\n",
      "MAE without NaN: 2.0717238095238097\n"
     ]
    }
   ],
   "source": [
    "# Prediction of Width from Length\n",
    "\n",
    "from sklearn.metrics import mean_absolute_error\n",
    "\n",
    "x = ['Length']\n",
    "y = ['Width']\n",
    "\n",
    "static_selected = static_data.dropna()\n",
    "\n",
    "pred1, ytest1 = knn_regression(static_data, x, y)\n",
    "pred2, ytest2 = knn_regression(static_selected, x, y)\n",
    "\n",
    "print('MAE with all data: ' + str(mean_absolute_error(pred1, ytest1)))\n",
    "print('MAE without NaN: ' + str(mean_absolute_error(pred2, ytest2)))"
   ]
  },
  {
   "cell_type": "code",
   "execution_count": 7,
   "metadata": {},
   "outputs": [
    {
     "name": "stdout",
     "output_type": "stream",
     "text": [
      "MAE with all data: 0.9136499460275772\n",
      "MAE without NaN: 1.9541572056893803\n"
     ]
    }
   ],
   "source": [
    "# Prediction of MeanSOG from start and end positions\n",
    "x = ['DepLat', 'ArrLat', 'DepLon', 'ArrLon']\n",
    "y = ['MeanSOG']\n",
    "\n",
    "static_selected = static_data.dropna()\n",
    "\n",
    "pred1, ytest1 = knn_regression(static_data, x, y)\n",
    "pred2, ytest2 = knn_regression(static_selected, x, y)\n",
    "\n",
    "print('MAE with all data: ' + str(mean_absolute_error(pred1, ytest1)))\n",
    "print('MAE without NaN: ' + str(mean_absolute_error(pred2, ytest2)))"
   ]
  },
  {
   "cell_type": "code",
   "execution_count": 8,
   "metadata": {},
   "outputs": [
    {
     "name": "stdout",
     "output_type": "stream",
     "text": [
      "MAE with all data: 0.9494952790387338\n",
      "MAE without NaN: 3.0201554291315684\n"
     ]
    }
   ],
   "source": [
    "# Prediction of MeanSOG from VesselType\n",
    "x = ['VesselType']\n",
    "y = ['MeanSOG']\n",
    "\n",
    "static_selected = static_data.dropna()\n",
    "\n",
    "pred1, ytest1 = knn_regression(static_data, x, y)\n",
    "pred2, ytest2 = knn_regression(static_selected, x, y)\n",
    "\n",
    "print('MAE with all data: ' + str(mean_absolute_error(pred1, ytest1)))\n",
    "print('MAE without NaN: ' + str(mean_absolute_error(pred2, ytest2)))"
   ]
  },
  {
   "cell_type": "markdown",
   "metadata": {},
   "source": [
    "### 2\n",
    "Exercise of trajectory prediction from one trip with and without gap of missing data"
   ]
  },
  {
   "cell_type": "code",
   "execution_count": 9,
   "metadata": {},
   "outputs": [],
   "source": [
    "import pandas as pd\n",
    "\n",
    "dynamic_data = pd.read_csv('./dynamic_data.csv')"
   ]
  },
  {
   "cell_type": "code",
   "execution_count": 10,
   "metadata": {},
   "outputs": [],
   "source": [
    "# Choose the trip to do the prediction on, and do the prediction twice: for latitude and longitude separately\n",
    "\n",
    "tripid = 221\n",
    "\n",
    "df = dynamic_data.loc[dynamic_data['TripID'] == tripid].sort_values('BaseDateTime')\n",
    "train_lat, test_lat, prediction_lat, baseline_lat, error_lat = rf_trajectory(df, 0.75, 'LAT')\n",
    "train_lon, test_lon, prediction_lon, baseline_lon, error_lon = rf_trajectory(df, 0.75, 'LON')"
   ]
  },
  {
   "cell_type": "code",
   "execution_count": 11,
   "metadata": {},
   "outputs": [
    {
     "data": {
      "text/plain": [
       "<matplotlib.legend.Legend at 0x22113c1ab38>"
      ]
     },
     "execution_count": 11,
     "metadata": {},
     "output_type": "execute_result"
    }
   ],
   "source": [
    "# Plot the result\n",
    "\n",
    "import matplotlib.pyplot as plt\n",
    "\n",
    "plt.figure(figsize=(12,8))\n",
    "plt.plot(np.asarray(train_lon['LON']), np.asarray(train_lat['LAT']), 'x', label = 'train')\n",
    "plt.plot(np.asarray(test_lon['LON']), np.asarray(test_lat['LAT']), 'x', label = 'test')\n",
    "plt.plot(np.asarray(prediction_lon), np.asarray(prediction_lat), 'x', label = 'prediction')\n",
    "plt.legend(loc = 'upper left')"
   ]
  },
  {
   "cell_type": "code",
   "execution_count": 12,
   "metadata": {
    "scrolled": false
   },
   "outputs": [],
   "source": [
    "# Do the prediction on the same trip but with a gap of missing values\n",
    "\n",
    "df = dynamic_data.loc[dynamic_data['TripID'] == tripid].sort_values('BaseDateTime')\n",
    "\n",
    "# Drop 25% of the trip information, between 25 and 50% chronogically\n",
    "df = df.reset_index().drop(columns = ['index']) # reindex to be able to make actions on the index value\n",
    "index_start = df.index[int(0.25 * len(df))]\n",
    "index_end = df.index[int(0.50 * len(df))]\n",
    "\n",
    "gap_df = df.loc[df.index < index_start]\n",
    "gap_df = gap_df.append(df.loc[df.index > index_end])"
   ]
  },
  {
   "cell_type": "code",
   "execution_count": 13,
   "metadata": {},
   "outputs": [
    {
     "data": {
      "text/plain": [
       "<matplotlib.legend.Legend at 0x22113cc4e48>"
      ]
     },
     "execution_count": 13,
     "metadata": {},
     "output_type": "execute_result"
    },
    {
     "data": {
      "image/png": "[encoded data removed]",
      "text/plain": [
       "<Figure size 864x576 with 1 Axes>"
      ]
     },
     "metadata": {
      "needs_background": "light"
     },
     "output_type": "display_data"
    }
   ],
   "source": [
    "# Prediction and result\n",
    "\n",
    "train_lat, test_lat, prediction_lat, baseline_lat, error_lat = rf_trajectory(gap_df, 0.67, 'LAT')\n",
    "train_lon, test_lon, prediction_lon, baseline_lon, error_lon = rf_trajectory(gap_df, 0.67, 'LON')\n",
    "\n",
    "plt.figure(figsize=(12,8))\n",
    "plt.plot(np.asarray(train_lon['LON']), np.asarray(train_lat['LAT']), 'x', label = 'train')\n",
    "plt.plot(np.asarray(test_lon['LON']), np.asarray(test_lat['LAT']), 'x', label = 'test')\n",
    "plt.plot(np.asarray(prediction_lon), np.asarray(prediction_lat), 'x', label = 'prediction')\n",
    "plt.legend(loc = 'upper left')"
   ]
  },
  {
   "cell_type": "code",
   "execution_count": 14,
   "metadata": {},
   "outputs": [
    {
     "data": {
      "application/vnd.jupyter.widget-view+json": {
       "model_id": "e2780f94b6b34a8d8dd9a5dc129f9620",
       "version_major": 2,
       "version_minor": 0
      },
      "text/plain": [
       "interactive(children=(BoundedIntText(value=1, description='TripID [1 ; 1520]:', max=1520, min=1), Output()), _…"
      ]
     },
     "metadata": {},
     "output_type": "display_data"
    },
    {
     "data": {
      "text/plain": [
       "<function __main__.compare_pred(tripid)>"
      ]
     },
     "execution_count": 14,
     "metadata": {},
     "output_type": "execute_result"
    }
   ],
   "source": [
    "# compare for other trip\n",
    "\n",
    "import numpy as np\n",
    "import matplotlib.pyplot as plt\n",
    "import ipywidgets as widgets\n",
    "from ipywidgets import interact\n",
    "\n",
    "def compare_pred(tripid):\n",
    "\n",
    "    df = dynamic_data.loc[dynamic_data['TripID'] == tripid].sort_values('BaseDateTime')\n",
    "    train_lat, test_lat, prediction_lat, baseline_lat, error_lat = rf_trajectory(df, 0.75, 'LAT')\n",
    "    train_lon, test_lon, prediction_lon, baseline_lon, error_lon = rf_trajectory(df, 0.75, 'LON')\n",
    "\n",
    "    mean_baseline = (baseline_lat + baseline_lon)/2\n",
    "    mean_rf = (error_lat + error_lon)/2\n",
    "    print('Mean baseline: %.5f' % mean_baseline)\n",
    "    print('Mean RF: %.5f' % mean_rf)\n",
    "\n",
    "    plt.figure(figsize=(12,8))\n",
    "    plt.plot(np.asarray(train_lon['LON']), np.asarray(train_lat['LAT']), 'x', label = 'train')\n",
    "    plt.plot(np.asarray(test_lon['LON']), np.asarray(test_lat['LAT']), 'x', label = 'test')\n",
    "    plt.plot(np.asarray(prediction_lon), np.asarray(prediction_lat), 'x', label = 'prediction')\n",
    "    plt.legend(loc = 'upper left')\n",
    "\n",
    "    df = dynamic_data.loc[dynamic_data['TripID'] == tripid].sort_values('BaseDateTime')\n",
    "    df = df.reset_index().drop(columns = ['index']) # reindex to be able to make actions on the index value\n",
    "    index_start = df.index[int(0.25 * len(df))]\n",
    "    index_end = df.index[int(0.50 * len(df))]\n",
    "\n",
    "    gap_df = df.loc[df.index < index_start]\n",
    "    gap_df = gap_df.append(df.loc[df.index > index_end])\n",
    "\n",
    "    train_lat, test_lat, prediction_lat, baseline_lat, error_lat = rf_trajectory(gap_df, 0.67, 'LAT')\n",
    "    train_lon, test_lon, prediction_lon, baseline_lon, error_lon = rf_trajectory(gap_df, 0.67, 'LON')\n",
    "\n",
    "    mean_baseline = (baseline_lat + baseline_lon)/2\n",
    "    mean_rf = (error_lat + error_lon)/2\n",
    "    print('Mean baseline: %.5f' % mean_baseline)\n",
    "    print('Mean RF: %.5f' % mean_rf)\n",
    "\n",
    "    plt.figure(figsize=(12,8))\n",
    "    plt.plot(np.asarray(train_lon['LON']), np.asarray(train_lat['LAT']), 'x', label = 'train')\n",
    "    plt.plot(np.asarray(test_lon['LON']), np.asarray(test_lat['LAT']), 'x', label = 'test')\n",
    "    plt.plot(np.asarray(prediction_lon), np.asarray(prediction_lat), 'x', label = 'prediction')\n",
    "    plt.legend(loc = 'upper left')\n",
    "    \n",
    "interact(compare_pred,\n",
    "         tripid = widgets.BoundedIntText(value = 1,\n",
    "                                         min = 1,\n",
    "                                         max = 1520,\n",
    "                                         step = 1,\n",
    "                                         description = 'TripID [1 ; 1520]:',\n",
    "                                         disabled = False,))"
   ]
  },
  {
   "cell_type": "markdown",
   "metadata": {},
   "source": [
    "## Incorrect data <a class=\"anchor\" id=\"incorrect-data\"></a>"
   ]
  },
  {
   "cell_type": "markdown",
   "metadata": {},
   "source": [
    "Exercise of prediction with wrong data\n",
    "+ wrong unit of measurement for, for example, length or width\n",
    "+ try misusing latitude and longitude values, and get for example cities from it\n",
    "\n",
    "Length and width seem to have only correct or missing values. No wrong unit of measurement, maybe artificially add it?\n",
    "For misusing latitude and longitude, it doesn't seem like a very interesting task."
   ]
  },
  {
   "cell_type": "code",
   "execution_count": 15,
   "metadata": {},
   "outputs": [],
   "source": [
    "import pandas as pd\n",
    "\n",
    "static_data = pd.read_csv('./static_data.csv')"
   ]
  },
  {
   "cell_type": "code",
   "execution_count": 16,
   "metadata": {},
   "outputs": [
    {
     "data": {
      "text/plain": [
       "count    1220.000000\n",
       "mean       56.769590\n",
       "std        74.739358\n",
       "min         6.710000\n",
       "25%        14.840000\n",
       "50%        22.340000\n",
       "75%        41.277500\n",
       "max       349.000000\n",
       "Name: Length, dtype: float64"
      ]
     },
     "execution_count": 16,
     "metadata": {},
     "output_type": "execute_result"
    }
   ],
   "source": [
    "static_data['Length'].describe()"
   ]
  },
  {
   "cell_type": "code",
   "execution_count": 17,
   "metadata": {},
   "outputs": [
    {
     "data": {
      "text/plain": [
       "count    911.000000\n",
       "mean      13.104501\n",
       "std       10.903338\n",
       "min        0.000000\n",
       "25%        5.500000\n",
       "50%        8.000000\n",
       "75%       16.350000\n",
       "max       50.000000\n",
       "Name: Width, dtype: float64"
      ]
     },
     "execution_count": 17,
     "metadata": {},
     "output_type": "execute_result"
    }
   ],
   "source": [
    "static_data['Width'].describe()"
   ]
  },
  {
   "cell_type": "code",
   "execution_count": 18,
   "metadata": {},
   "outputs": [
    {
     "data": {
      "text/plain": [
       "<matplotlib.axes._subplots.AxesSubplot at 0x22113b94d68>"
      ]
     },
     "execution_count": 18,
     "metadata": {},
     "output_type": "execute_result"
    },
    {
     "data": {
      "image/png": "[encoded data removed]",
      "text/plain": [
       "<Figure size 432x288 with 1 Axes>"
      ]
     },
     "metadata": {
      "needs_background": "light"
     },
     "output_type": "display_data"
    }
   ],
   "source": [
    "static_data['MeanSOG'].plot.hist()"
   ]
  },
  {
   "cell_type": "code",
   "execution_count": 19,
   "metadata": {},
   "outputs": [
    {
     "name": "stdout",
     "output_type": "stream",
     "text": [
      "48.51094000000001\n",
      "-122.60705\n",
      "Loading formatted geocoded file...\n",
      "Anacortes\n",
      "US\n",
      "Punta Arenas\n",
      "CL\n",
      "Port-aux-Francais\n",
      "TF\n",
      "Shalkar\n",
      "KZ\n"
     ]
    }
   ],
   "source": [
    "import pandas as pd\n",
    "import reverse_geocoder as rg\n",
    "\n",
    "def reverseGeocode(lat, lon):\n",
    "    \n",
    "    coordinates = (lat, lon)\n",
    "    result = rg.search(coordinates)\n",
    "    \n",
    "    # result[0] is an OrderedDict containing 'lat', 'lon', 'name', 'admin1', 'admin2', 'cc'\n",
    "    return result[0]\n",
    "\n",
    "print(static_data.loc[0, 'DepLat'])\n",
    "print(static_data.loc[0, 'DepLon'])\n",
    "\n",
    "geo = reverseGeocode(static_data.loc[0, 'DepLat'], static_data.loc[0, 'DepLon'])\n",
    "print(geo['name'])\n",
    "print(geo['cc'])\n",
    "\n",
    "geo = reverseGeocode(static_data.loc[0, 'DepLon'], static_data.loc[0, 'DepLon'])\n",
    "print(geo['name'])\n",
    "print(geo['cc'])\n",
    "\n",
    "geo = reverseGeocode(static_data.loc[0, 'DepLon'], static_data.loc[0, 'DepLat'])\n",
    "print(geo['name'])\n",
    "print(geo['cc'])\n",
    "\n",
    "geo = reverseGeocode(static_data.loc[0, 'DepLat'], static_data.loc[0, 'DepLat'])\n",
    "print(geo['name'])\n",
    "print(geo['cc'])"
   ]
  },
  {
   "cell_type": "markdown",
   "metadata": {},
   "source": [
    "## Biased data <a class=\"anchor\" id=\"biased-data\"></a>"
   ]
  },
  {
   "cell_type": "markdown",
   "metadata": {},
   "source": [
    "### 1\n",
    "Exercise of prediction using immobile / mobile trips"
   ]
  },
  {
   "cell_type": "code",
   "execution_count": 20,
   "metadata": {},
   "outputs": [],
   "source": [
    "import pandas as pd\n",
    "\n",
    "static_data = pd.read_csv('./static_data.csv')"
   ]
  },
  {
   "cell_type": "code",
   "execution_count": 21,
   "metadata": {},
   "outputs": [
    {
     "name": "stdout",
     "output_type": "stream",
     "text": [
      "1.2733923934326852\n"
     ]
    },
    {
     "data": {
      "image/png": "[encoded data removed]",
      "text/plain": [
       "<Figure size 432x288 with 1 Axes>"
      ]
     },
     "metadata": {
      "needs_background": "light"
     },
     "output_type": "display_data"
    },
    {
     "data": {
      "image/png": "[encoded data removed]",
      "text/plain": [
       "<Figure size 432x288 with 1 Axes>"
      ]
     },
     "metadata": {
      "needs_background": "light"
     },
     "output_type": "display_data"
    }
   ],
   "source": [
    "# Predict MeanSOG from all the data (including a lot of immobile ships)\n",
    "\n",
    "from sklearn.metrics import mean_absolute_error\n",
    "import numpy as np\n",
    "import matplotlib.pyplot as plt\n",
    "\n",
    "x = ['VesselType', 'Length', 'Width', 'Draft']\n",
    "y = ['MeanSOG']\n",
    "\n",
    "predictions, y_test = knn_regression(static_data, x, y)\n",
    "\n",
    "pred = []\n",
    "for element in predictions:\n",
    "    pred.append(element[0])\n",
    "\n",
    "print(mean_absolute_error(predictions, y_test))\n",
    "plt.bar(np.arange(len(pred)), pred)\n",
    "plt.show()\n",
    "\n",
    "plt.boxplot(predictions)\n",
    "plt.show()"
   ]
  },
  {
   "cell_type": "code",
   "execution_count": 22,
   "metadata": {},
   "outputs": [
    {
     "name": "stdout",
     "output_type": "stream",
     "text": [
      "2.8503720152323386\n"
     ]
    },
    {
     "data": {
      "image/png": "[encoded data removed]",
      "text/plain": [
       "<Figure size 432x288 with 1 Axes>"
      ]
     },
     "metadata": {
      "needs_background": "light"
     },
     "output_type": "display_data"
    },
    {
     "data": {
      "image/png": "[encoded data removed]",
      "text/plain": [
       "<Figure size 432x288 with 1 Axes>"
      ]
     },
     "metadata": {
      "needs_background": "light"
     },
     "output_type": "display_data"
    }
   ],
   "source": [
    "# Predict MeanSOG from only ships with MeanSOG > 1\n",
    "\n",
    "from sklearn.metrics import mean_absolute_error\n",
    "import numpy as np\n",
    "import matplotlib.pyplot as plt\n",
    "\n",
    "x = ['VesselType', 'Length', 'Width', 'Draft']\n",
    "y = ['MeanSOG']\n",
    "\n",
    "df = static_data.loc[static_data['MeanSOG'] >= 1]\n",
    "\n",
    "predictions, y_test = knn_regression(df, x, y)\n",
    "\n",
    "pred = []\n",
    "for element in predictions:\n",
    "    pred.append(element[0])\n",
    "\n",
    "print(mean_absolute_error(predictions, y_test))\n",
    "plt.bar(np.arange(len(pred)), pred)\n",
    "plt.show()\n",
    "\n",
    "plt.boxplot(predictions)\n",
    "plt.show()"
   ]
  },
  {
   "cell_type": "code",
   "execution_count": 23,
   "metadata": {},
   "outputs": [
    {
     "name": "stdout",
     "output_type": "stream",
     "text": [
      "0.04326256486970714\n"
     ]
    },
    {
     "data": {
      "image/png": "[encoded data removed]",
      "text/plain": [
       "<Figure size 432x288 with 1 Axes>"
      ]
     },
     "metadata": {
      "needs_background": "light"
     },
     "output_type": "display_data"
    },
    {
     "data": {
      "image/png": "[encoded data removed]",
      "text/plain": [
       "<Figure size 432x288 with 1 Axes>"
      ]
     },
     "metadata": {
      "needs_background": "light"
     },
     "output_type": "display_data"
    }
   ],
   "source": [
    "# Predict MeanSOG from only ships with MeanSOG < 1\n",
    "\n",
    "from sklearn.metrics import mean_absolute_error\n",
    "import numpy as np\n",
    "import matplotlib.pyplot as plt\n",
    "\n",
    "x = ['VesselType', 'Length', 'Width', 'Draft']\n",
    "y = ['MeanSOG']\n",
    "\n",
    "df = static_data.loc[static_data['MeanSOG'] < 1]\n",
    "\n",
    "predictions, y_test = knn_regression(df, x, y)\n",
    "\n",
    "pred = []\n",
    "for element in predictions:\n",
    "    pred.append(element[0])\n",
    "\n",
    "print(mean_absolute_error(predictions, y_test))\n",
    "plt.bar(np.arange(len(pred)), pred)\n",
    "plt.show()\n",
    "\n",
    "plt.boxplot(predictions)\n",
    "plt.show()"
   ]
  },
  {
   "cell_type": "markdown",
   "metadata": {},
   "source": [
    "### 2\n",
    "Exercise of prediction with a lot of identical data vs. normal dataset (error in copy)"
   ]
  },
  {
   "cell_type": "code",
   "execution_count": 24,
   "metadata": {},
   "outputs": [],
   "source": [
    "import pandas as pd\n",
    "\n",
    "static_data = pd.read_csv('./static_data.csv')"
   ]
  },
  {
   "cell_type": "markdown",
   "metadata": {},
   "source": [
    "We choose a row without a lot of missing values."
   ]
  },
  {
   "cell_type": "code",
   "execution_count": 25,
   "metadata": {},
   "outputs": [
    {
     "data": {
      "text/html": [
       "<div>\n",
       "<style scoped>\n",
       "    .dataframe tbody tr th:only-of-type {\n",
       "        vertical-align: middle;\n",
       "    }\n",
       "\n",
       "    .dataframe tbody tr th {\n",
       "        vertical-align: top;\n",
       "    }\n",
       "\n",
       "    .dataframe thead th {\n",
       "        text-align: right;\n",
       "    }\n",
       "</style>\n",
       "<table border=\"1\" class=\"dataframe\">\n",
       "  <thead>\n",
       "    <tr style=\"text-align: right;\">\n",
       "      <th></th>\n",
       "      <th>TripID</th>\n",
       "      <th>MMSI</th>\n",
       "      <th>MeanSOG</th>\n",
       "      <th>VesselName</th>\n",
       "      <th>IMO</th>\n",
       "      <th>CallSign</th>\n",
       "      <th>VesselType</th>\n",
       "      <th>Length</th>\n",
       "      <th>Width</th>\n",
       "      <th>Draft</th>\n",
       "      <th>Cargo</th>\n",
       "      <th>DepTime</th>\n",
       "      <th>ArrTime</th>\n",
       "      <th>DepLat</th>\n",
       "      <th>DepLon</th>\n",
       "      <th>ArrLat</th>\n",
       "      <th>ArrLon</th>\n",
       "      <th>DepCountry</th>\n",
       "      <th>DepCity</th>\n",
       "      <th>ArrCountry</th>\n",
       "      <th>ArrCity</th>\n",
       "      <th>Duration</th>\n",
       "    </tr>\n",
       "  </thead>\n",
       "  <tbody>\n",
       "    <tr>\n",
       "      <th>0</th>\n",
       "      <td>1</td>\n",
       "      <td>367114690</td>\n",
       "      <td>0.000000</td>\n",
       "      <td>NaN</td>\n",
       "      <td>NaN</td>\n",
       "      <td>NaN</td>\n",
       "      <td>NaN</td>\n",
       "      <td>NaN</td>\n",
       "      <td>NaN</td>\n",
       "      <td>NaN</td>\n",
       "      <td>NaN</td>\n",
       "      <td>2017-01-01 00:00:06</td>\n",
       "      <td>2017-01-01 02:40:45</td>\n",
       "      <td>48.51094</td>\n",
       "      <td>-122.60705</td>\n",
       "      <td>48.51095</td>\n",
       "      <td>-122.60705</td>\n",
       "      <td>US</td>\n",
       "      <td>Anacortes</td>\n",
       "      <td>US</td>\n",
       "      <td>Anacortes</td>\n",
       "      <td>0 days 02:40:39</td>\n",
       "    </tr>\n",
       "    <tr>\n",
       "      <th>1</th>\n",
       "      <td>2</td>\n",
       "      <td>367479990</td>\n",
       "      <td>6.536585</td>\n",
       "      <td>WSF KENNEWICK</td>\n",
       "      <td>IMO9618331</td>\n",
       "      <td>WDF6991</td>\n",
       "      <td>1012.0</td>\n",
       "      <td>83.39</td>\n",
       "      <td>19.5</td>\n",
       "      <td>3.2</td>\n",
       "      <td>NaN</td>\n",
       "      <td>2017-01-01 00:00:03</td>\n",
       "      <td>2017-01-01 02:40:44</td>\n",
       "      <td>48.15891</td>\n",
       "      <td>-122.67268</td>\n",
       "      <td>48.11099</td>\n",
       "      <td>-122.75885</td>\n",
       "      <td>US</td>\n",
       "      <td>Coupeville</td>\n",
       "      <td>US</td>\n",
       "      <td>Port Townsend</td>\n",
       "      <td>0 days 02:40:41</td>\n",
       "    </tr>\n",
       "    <tr>\n",
       "      <th>2</th>\n",
       "      <td>3</td>\n",
       "      <td>368319000</td>\n",
       "      <td>0.000758</td>\n",
       "      <td>NaN</td>\n",
       "      <td>NaN</td>\n",
       "      <td>NaN</td>\n",
       "      <td>NaN</td>\n",
       "      <td>NaN</td>\n",
       "      <td>NaN</td>\n",
       "      <td>NaN</td>\n",
       "      <td>NaN</td>\n",
       "      <td>2017-01-01 00:00:08</td>\n",
       "      <td>2017-01-01 02:44:48</td>\n",
       "      <td>43.34576</td>\n",
       "      <td>-124.32142</td>\n",
       "      <td>43.34578</td>\n",
       "      <td>-124.32141</td>\n",
       "      <td>US</td>\n",
       "      <td>Barview</td>\n",
       "      <td>US</td>\n",
       "      <td>Barview</td>\n",
       "      <td>0 days 02:44:40</td>\n",
       "    </tr>\n",
       "    <tr>\n",
       "      <th>3</th>\n",
       "      <td>4</td>\n",
       "      <td>367154100</td>\n",
       "      <td>6.871111</td>\n",
       "      <td>NaN</td>\n",
       "      <td>NaN</td>\n",
       "      <td>NaN</td>\n",
       "      <td>NaN</td>\n",
       "      <td>NaN</td>\n",
       "      <td>NaN</td>\n",
       "      <td>NaN</td>\n",
       "      <td>NaN</td>\n",
       "      <td>2017-01-01 00:00:15</td>\n",
       "      <td>2017-01-01 02:33:28</td>\n",
       "      <td>46.74264</td>\n",
       "      <td>-124.93125</td>\n",
       "      <td>47.02928</td>\n",
       "      <td>-124.95153</td>\n",
       "      <td>US</td>\n",
       "      <td>Ocean Shores</td>\n",
       "      <td>US</td>\n",
       "      <td>Ocean Shores</td>\n",
       "      <td>0 days 02:33:13</td>\n",
       "    </tr>\n",
       "    <tr>\n",
       "      <th>4</th>\n",
       "      <td>5</td>\n",
       "      <td>367446870</td>\n",
       "      <td>0.000000</td>\n",
       "      <td>NaN</td>\n",
       "      <td>NaN</td>\n",
       "      <td>NaN</td>\n",
       "      <td>NaN</td>\n",
       "      <td>NaN</td>\n",
       "      <td>NaN</td>\n",
       "      <td>NaN</td>\n",
       "      <td>NaN</td>\n",
       "      <td>2017-01-01 00:00:59</td>\n",
       "      <td>2017-01-01 02:42:54</td>\n",
       "      <td>48.51320</td>\n",
       "      <td>-122.60718</td>\n",
       "      <td>48.51318</td>\n",
       "      <td>-122.60699</td>\n",
       "      <td>US</td>\n",
       "      <td>Anacortes</td>\n",
       "      <td>US</td>\n",
       "      <td>Anacortes</td>\n",
       "      <td>0 days 02:41:55</td>\n",
       "    </tr>\n",
       "  </tbody>\n",
       "</table>\n",
       "</div>"
      ],
      "text/plain": [
       "   TripID       MMSI   MeanSOG     VesselName         IMO CallSign  \\\n",
       "0       1  367114690  0.000000            NaN         NaN      NaN   \n",
       "1       2  367479990  6.536585  WSF KENNEWICK  IMO9618331  WDF6991   \n",
       "2       3  368319000  0.000758            NaN         NaN      NaN   \n",
       "3       4  367154100  6.871111            NaN         NaN      NaN   \n",
       "4       5  367446870  0.000000            NaN         NaN      NaN   \n",
       "\n",
       "   VesselType  Length  Width  Draft  Cargo              DepTime  \\\n",
       "0         NaN     NaN    NaN    NaN    NaN  2017-01-01 00:00:06   \n",
       "1      1012.0   83.39   19.5    3.2    NaN  2017-01-01 00:00:03   \n",
       "2         NaN     NaN    NaN    NaN    NaN  2017-01-01 00:00:08   \n",
       "3         NaN     NaN    NaN    NaN    NaN  2017-01-01 00:00:15   \n",
       "4         NaN     NaN    NaN    NaN    NaN  2017-01-01 00:00:59   \n",
       "\n",
       "               ArrTime    DepLat     DepLon    ArrLat     ArrLon DepCountry  \\\n",
       "0  2017-01-01 02:40:45  48.51094 -122.60705  48.51095 -122.60705         US   \n",
       "1  2017-01-01 02:40:44  48.15891 -122.67268  48.11099 -122.75885         US   \n",
       "2  2017-01-01 02:44:48  43.34576 -124.32142  43.34578 -124.32141         US   \n",
       "3  2017-01-01 02:33:28  46.74264 -124.93125  47.02928 -124.95153         US   \n",
       "4  2017-01-01 02:42:54  48.51320 -122.60718  48.51318 -122.60699         US   \n",
       "\n",
       "        DepCity ArrCountry        ArrCity         Duration  \n",
       "0     Anacortes         US      Anacortes  0 days 02:40:39  \n",
       "1    Coupeville         US  Port Townsend  0 days 02:40:41  \n",
       "2       Barview         US        Barview  0 days 02:44:40  \n",
       "3  Ocean Shores         US   Ocean Shores  0 days 02:33:13  \n",
       "4     Anacortes         US      Anacortes  0 days 02:41:55  "
      ]
     },
     "execution_count": 25,
     "metadata": {},
     "output_type": "execute_result"
    }
   ],
   "source": [
    "static_data.head()"
   ]
  },
  {
   "cell_type": "markdown",
   "metadata": {},
   "source": [
    "We create a few different datasets by copying this row 10 times, 100 times, 1000 times, 10000 times, 100000 times."
   ]
  },
  {
   "cell_type": "code",
   "execution_count": 26,
   "metadata": {},
   "outputs": [
    {
     "name": "stdout",
     "output_type": "stream",
     "text": [
      "Wall time: 65 ms\n"
     ]
    }
   ],
   "source": [
    "%%time\n",
    "line = static_data.loc[1]\n",
    "df10 = static_data.append(line)\n",
    "df10.name = 'df10'\n",
    "for i in range(9):\n",
    "    df10 = df10.append(line)"
   ]
  },
  {
   "cell_type": "code",
   "execution_count": 27,
   "metadata": {},
   "outputs": [
    {
     "name": "stdout",
     "output_type": "stream",
     "text": [
      "Wall time: 442 ms\n"
     ]
    }
   ],
   "source": [
    "%%time\n",
    "line = static_data.loc[1]\n",
    "df100 = df10.append(line)\n",
    "df100.name = 'df100'\n",
    "for i in range(89):\n",
    "    df100 = df100.append(line)"
   ]
  },
  {
   "cell_type": "code",
   "execution_count": 28,
   "metadata": {},
   "outputs": [
    {
     "name": "stdout",
     "output_type": "stream",
     "text": [
      "Wall time: 4.98 s\n"
     ]
    }
   ],
   "source": [
    "%%time\n",
    "line = static_data.loc[1]\n",
    "df1000 = df100.append(line)\n",
    "df1000.name = 'df1000'\n",
    "for i in range(889):\n",
    "    df1000 = df1000.append(line)"
   ]
  },
  {
   "cell_type": "code",
   "execution_count": 29,
   "metadata": {},
   "outputs": [
    {
     "name": "stdout",
     "output_type": "stream",
     "text": [
      "Wall time: 1min\n"
     ]
    }
   ],
   "source": [
    "%%time\n",
    "line = static_data.loc[1]\n",
    "df10000 = df1000.append(line)\n",
    "df10000.name = 'df10000'\n",
    "for i in range(8889):\n",
    "    df10000 = df10000.append(line)"
   ]
  },
  {
   "cell_type": "code",
   "execution_count": 30,
   "metadata": {},
   "outputs": [
    {
     "data": {
      "text/html": [
       "<div>\n",
       "<style scoped>\n",
       "    .dataframe tbody tr th:only-of-type {\n",
       "        vertical-align: middle;\n",
       "    }\n",
       "\n",
       "    .dataframe tbody tr th {\n",
       "        vertical-align: top;\n",
       "    }\n",
       "\n",
       "    .dataframe thead th {\n",
       "        text-align: right;\n",
       "    }\n",
       "</style>\n",
       "<table border=\"1\" class=\"dataframe\">\n",
       "  <thead>\n",
       "    <tr style=\"text-align: right;\">\n",
       "      <th></th>\n",
       "      <th>TripID</th>\n",
       "      <th>MMSI</th>\n",
       "      <th>MeanSOG</th>\n",
       "      <th>VesselType</th>\n",
       "      <th>Length</th>\n",
       "      <th>Width</th>\n",
       "      <th>Draft</th>\n",
       "      <th>Cargo</th>\n",
       "      <th>DepLat</th>\n",
       "      <th>DepLon</th>\n",
       "      <th>ArrLat</th>\n",
       "      <th>ArrLon</th>\n",
       "    </tr>\n",
       "  </thead>\n",
       "  <tbody>\n",
       "    <tr>\n",
       "      <th>count</th>\n",
       "      <td>1520.000000</td>\n",
       "      <td>1.520000e+03</td>\n",
       "      <td>1520.000000</td>\n",
       "      <td>1287.000000</td>\n",
       "      <td>1220.000000</td>\n",
       "      <td>911.000000</td>\n",
       "      <td>496.000000</td>\n",
       "      <td>378.000000</td>\n",
       "      <td>1520.000000</td>\n",
       "      <td>1520.000000</td>\n",
       "      <td>1520.000000</td>\n",
       "      <td>1520.000000</td>\n",
       "    </tr>\n",
       "    <tr>\n",
       "      <th>mean</th>\n",
       "      <td>760.500000</td>\n",
       "      <td>3.597421e+08</td>\n",
       "      <td>1.034825</td>\n",
       "      <td>971.680653</td>\n",
       "      <td>56.769590</td>\n",
       "      <td>13.104501</td>\n",
       "      <td>6.457056</td>\n",
       "      <td>50.515873</td>\n",
       "      <td>46.354331</td>\n",
       "      <td>-122.868905</td>\n",
       "      <td>46.353671</td>\n",
       "      <td>-122.871346</td>\n",
       "    </tr>\n",
       "    <tr>\n",
       "      <th>std</th>\n",
       "      <td>438.930518</td>\n",
       "      <td>6.263661e+07</td>\n",
       "      <td>2.936439</td>\n",
       "      <td>198.957887</td>\n",
       "      <td>74.739358</td>\n",
       "      <td>10.903338</td>\n",
       "      <td>4.607529</td>\n",
       "      <td>22.693810</td>\n",
       "      <td>3.766705</td>\n",
       "      <td>0.681947</td>\n",
       "      <td>3.762056</td>\n",
       "      <td>0.680604</td>\n",
       "    </tr>\n",
       "    <tr>\n",
       "      <th>min</th>\n",
       "      <td>1.000000</td>\n",
       "      <td>3.160089e+06</td>\n",
       "      <td>-0.100000</td>\n",
       "      <td>0.000000</td>\n",
       "      <td>6.710000</td>\n",
       "      <td>0.000000</td>\n",
       "      <td>0.000000</td>\n",
       "      <td>0.000000</td>\n",
       "      <td>32.220640</td>\n",
       "      <td>-125.995610</td>\n",
       "      <td>32.209370</td>\n",
       "      <td>-125.998590</td>\n",
       "    </tr>\n",
       "    <tr>\n",
       "      <th>25%</th>\n",
       "      <td>380.750000</td>\n",
       "      <td>3.380724e+08</td>\n",
       "      <td>0.000000</td>\n",
       "      <td>1004.000000</td>\n",
       "      <td>14.840000</td>\n",
       "      <td>5.500000</td>\n",
       "      <td>3.000000</td>\n",
       "      <td>31.000000</td>\n",
       "      <td>46.168652</td>\n",
       "      <td>-123.178480</td>\n",
       "      <td>46.168460</td>\n",
       "      <td>-123.168262</td>\n",
       "    </tr>\n",
       "    <tr>\n",
       "      <th>50%</th>\n",
       "      <td>760.500000</td>\n",
       "      <td>3.669802e+08</td>\n",
       "      <td>0.012633</td>\n",
       "      <td>1019.000000</td>\n",
       "      <td>22.340000</td>\n",
       "      <td>8.000000</td>\n",
       "      <td>4.650000</td>\n",
       "      <td>52.000000</td>\n",
       "      <td>47.647795</td>\n",
       "      <td>-122.651365</td>\n",
       "      <td>47.646925</td>\n",
       "      <td>-122.645290</td>\n",
       "    </tr>\n",
       "    <tr>\n",
       "      <th>75%</th>\n",
       "      <td>1140.250000</td>\n",
       "      <td>3.675663e+08</td>\n",
       "      <td>0.072000</td>\n",
       "      <td>1019.000000</td>\n",
       "      <td>41.277500</td>\n",
       "      <td>16.350000</td>\n",
       "      <td>10.025000</td>\n",
       "      <td>70.000000</td>\n",
       "      <td>48.656940</td>\n",
       "      <td>-122.386562</td>\n",
       "      <td>48.665710</td>\n",
       "      <td>-122.386607</td>\n",
       "    </tr>\n",
       "    <tr>\n",
       "      <th>max</th>\n",
       "      <td>1520.000000</td>\n",
       "      <td>9.876543e+08</td>\n",
       "      <td>20.360811</td>\n",
       "      <td>1025.000000</td>\n",
       "      <td>349.000000</td>\n",
       "      <td>50.000000</td>\n",
       "      <td>18.800000</td>\n",
       "      <td>99.000000</td>\n",
       "      <td>49.890740</td>\n",
       "      <td>-120.002920</td>\n",
       "      <td>49.832120</td>\n",
       "      <td>-120.002420</td>\n",
       "    </tr>\n",
       "  </tbody>\n",
       "</table>\n",
       "</div>"
      ],
      "text/plain": [
       "            TripID          MMSI      MeanSOG   VesselType       Length  \\\n",
       "count  1520.000000  1.520000e+03  1520.000000  1287.000000  1220.000000   \n",
       "mean    760.500000  3.597421e+08     1.034825   971.680653    56.769590   \n",
       "std     438.930518  6.263661e+07     2.936439   198.957887    74.739358   \n",
       "min       1.000000  3.160089e+06    -0.100000     0.000000     6.710000   \n",
       "25%     380.750000  3.380724e+08     0.000000  1004.000000    14.840000   \n",
       "50%     760.500000  3.669802e+08     0.012633  1019.000000    22.340000   \n",
       "75%    1140.250000  3.675663e+08     0.072000  1019.000000    41.277500   \n",
       "max    1520.000000  9.876543e+08    20.360811  1025.000000   349.000000   \n",
       "\n",
       "            Width       Draft       Cargo       DepLat       DepLon  \\\n",
       "count  911.000000  496.000000  378.000000  1520.000000  1520.000000   \n",
       "mean    13.104501    6.457056   50.515873    46.354331  -122.868905   \n",
       "std     10.903338    4.607529   22.693810     3.766705     0.681947   \n",
       "min      0.000000    0.000000    0.000000    32.220640  -125.995610   \n",
       "25%      5.500000    3.000000   31.000000    46.168652  -123.178480   \n",
       "50%      8.000000    4.650000   52.000000    47.647795  -122.651365   \n",
       "75%     16.350000   10.025000   70.000000    48.656940  -122.386562   \n",
       "max     50.000000   18.800000   99.000000    49.890740  -120.002920   \n",
       "\n",
       "            ArrLat       ArrLon  \n",
       "count  1520.000000  1520.000000  \n",
       "mean     46.353671  -122.871346  \n",
       "std       3.762056     0.680604  \n",
       "min      32.209370  -125.998590  \n",
       "25%      46.168460  -123.168262  \n",
       "50%      47.646925  -122.645290  \n",
       "75%      48.665710  -122.386607  \n",
       "max      49.832120  -120.002420  "
      ]
     },
     "execution_count": 30,
     "metadata": {},
     "output_type": "execute_result"
    }
   ],
   "source": [
    "static_data.describe()"
   ]
  },
  {
   "cell_type": "code",
   "execution_count": 31,
   "metadata": {},
   "outputs": [
    {
     "name": "stdout",
     "output_type": "stream",
     "text": [
      "            TripID          MMSI      MeanSOG   VesselType       Length  \\\n",
      "count  1530.000000  1.530000e+03  1530.000000  1297.000000  1230.000000   \n",
      "mean    755.542484  3.597927e+08     1.070784   971.991519    56.986016   \n",
      "std     441.744387  6.243456e+07     2.960229   198.220215    74.473078   \n",
      "min       1.000000  3.160089e+06    -0.100000     0.000000     6.710000   \n",
      "25%     373.250000  3.380754e+08     0.000000  1004.000000    14.910000   \n",
      "50%     755.500000  3.669823e+08     0.013043  1019.000000    22.620000   \n",
      "75%    1137.750000  3.675648e+08     0.075694  1019.000000    43.715000   \n",
      "max    1520.000000  9.876543e+08    20.360811  1025.000000   349.000000   \n",
      "\n",
      "            Width       Draft       Cargo       DepLat       DepLon  \\\n",
      "count  921.000000  506.000000  378.000000  1530.000000  1530.000000   \n",
      "mean    13.173941    6.392688   50.515873    46.366126  -122.867623   \n",
      "std     10.864177    4.584196   22.693810     3.757184     0.679897   \n",
      "min      0.000000    0.000000    0.000000    32.220640  -125.995610   \n",
      "25%      5.500000    3.000000   31.000000    46.169067  -123.168467   \n",
      "50%      8.100000    4.500000   52.000000    47.650795  -122.656370   \n",
      "75%     17.800000   10.000000   70.000000    48.653830  -122.386815   \n",
      "max     50.000000   18.800000   99.000000    49.890740  -120.002920   \n",
      "\n",
      "            ArrLat       ArrLon  \n",
      "count  1530.000000  1530.000000  \n",
      "mean     46.365157  -122.870610  \n",
      "std       3.752409     0.678435  \n",
      "min      32.209370  -125.998590  \n",
      "25%      46.168887  -123.167780  \n",
      "50%      47.648215  -122.655400  \n",
      "75%      48.653852  -122.386830  \n",
      "max      49.832120  -120.002420  \n",
      "            TripID          MMSI      MeanSOG   VesselType       Length  \\\n",
      "count  1620.000000  1.620000e+03  1620.000000  1387.000000  1320.000000   \n",
      "mean    713.679012  3.602198e+08     1.374440   974.587599    58.786288   \n",
      "std     462.711743  6.069995e+07     3.137564   191.929855    72.195062   \n",
      "min       1.000000  3.160089e+06    -0.100000     0.000000     6.710000   \n",
      "25%     305.750000  3.381017e+08     0.000000  1004.000000    15.202500   \n",
      "50%     710.500000  3.670365e+08     0.017647  1019.000000    23.800000   \n",
      "75%    1115.250000  3.675345e+08     0.138056  1019.000000    83.390000   \n",
      "max    1520.000000  9.876543e+08    20.360811  1025.000000   349.000000   \n",
      "\n",
      "             Width       Draft       Cargo       DepLat       DepLon  \\\n",
      "count  1011.000000  596.000000  378.000000  1620.000000  1620.000000   \n",
      "mean     13.737092    5.910570   50.515873    46.465725  -122.856792   \n",
      "std      10.524324    4.375517   22.693810     3.674295     0.662237   \n",
      "min       0.000000    0.000000    0.000000    32.220640  -125.995610   \n",
      "25%       5.900000    3.200000   31.000000    46.196967  -123.148207   \n",
      "50%       9.140000    3.900000   52.000000    47.659110  -122.672680   \n",
      "75%      19.500000    9.525000   70.000000    48.609527  -122.390568   \n",
      "max      50.000000   18.800000   99.000000    49.890740  -120.002920   \n",
      "\n",
      "            ArrLat       ArrLon  \n",
      "count  1620.000000  1620.000000  \n",
      "mean     46.462148  -122.864401  \n",
      "std       3.668495     0.659805  \n",
      "min      32.209370  -125.998590  \n",
      "25%      46.196975  -123.142782  \n",
      "50%      47.658825  -122.719000  \n",
      "75%      48.609538  -122.390013  \n",
      "max      49.832120  -120.002420  \n",
      "            TripID          MMSI      MeanSOG   VesselType       Length  \\\n",
      "count  2510.000000  2.510000e+03  2510.000000  2277.000000  2210.000000   \n",
      "mean    461.330677  3.627941e+08     3.204842   989.210804    68.694570   \n",
      "std     504.095952  4.888334e+07     3.528904   150.883442    57.077559   \n",
      "min       1.000000  3.160089e+06    -0.100000     0.000000     6.710000   \n",
      "25%       2.000000  3.663095e+08     0.005769  1012.000000    20.857500   \n",
      "50%     265.500000  3.674800e+08     0.231711  1012.000000    83.390000   \n",
      "75%     892.750000  3.674800e+08     6.536585  1019.000000    83.390000   \n",
      "max    1520.000000  9.876543e+08    20.360811  1025.000000   349.000000   \n",
      "\n",
      "             Width        Draft       Cargo       DepLat       DepLon  \\\n",
      "count  1901.000000  1486.000000  378.000000  2510.000000  2510.000000   \n",
      "mean     16.435139     4.287147   50.515873    47.066097  -122.791510   \n",
      "std       8.194627     3.071977   22.693810     3.060700     0.539214   \n",
      "min       0.000000     0.000000    0.000000    32.220640  -125.995610   \n",
      "25%       8.540000     3.200000   31.000000    47.628070  -122.881315   \n",
      "50%      19.500000     3.200000   52.000000    48.158910  -122.672680   \n",
      "75%      19.500000     3.200000   70.000000    48.158910  -122.511612   \n",
      "max      50.000000    18.800000   99.000000    49.890740  -120.002920   \n",
      "\n",
      "            ArrLat       ArrLon  \n",
      "count  2510.000000  2510.000000  \n",
      "mean     47.046797  -122.826975  \n",
      "std       3.050651     0.532417  \n",
      "min      32.209370  -125.998590  \n",
      "25%      47.628033  -122.878692  \n",
      "50%      48.110990  -122.758850  \n",
      "75%      48.110990  -122.513010  \n",
      "max      49.832120  -120.002420  \n",
      "             TripID          MMSI       MeanSOG    VesselType        Length  \\\n",
      "count  11400.000000  1.140000e+04  11400.000000  11167.000000  11100.000000   \n",
      "mean     103.133333  3.664483e+08      5.803017   1007.353183     80.464153   \n",
      "std      303.580083  2.301595e+07      2.155721     68.736725     26.131180   \n",
      "min        1.000000  3.160089e+06     -0.100000      0.000000      6.710000   \n",
      "25%        2.000000  3.674800e+08      6.536585   1012.000000     83.390000   \n",
      "50%        2.000000  3.674800e+08      6.536585   1012.000000     83.390000   \n",
      "75%        2.000000  3.674800e+08      6.536585   1012.000000     83.390000   \n",
      "max     1520.000000  9.876543e+08     20.360811   1025.000000    349.000000   \n",
      "\n",
      "              Width         Draft       Cargo        DepLat        DepLon  \\\n",
      "count  10791.000000  10376.000000  378.000000  11400.000000  11400.000000   \n",
      "mean      18.960078      3.355696   50.515873     47.918300   -122.698843   \n",
      "std        3.631543      1.223023   22.693810      1.505657      0.257723   \n",
      "min        0.000000      0.000000    0.000000     32.220640   -125.995610   \n",
      "25%       19.500000      3.200000   31.000000     48.158910   -122.672680   \n",
      "50%       19.500000      3.200000   52.000000     48.158910   -122.672680   \n",
      "75%       19.500000      3.200000   70.000000     48.158910   -122.672680   \n",
      "max       50.000000     18.800000   99.000000     49.890740   -120.002920   \n",
      "\n",
      "             ArrLat        ArrLon  \n",
      "count  11400.000000  11400.000000  \n",
      "mean      47.876681   -122.773849  \n",
      "std        1.497627      0.251376  \n",
      "min       32.209370   -125.998590  \n",
      "25%       48.110990   -122.758850  \n",
      "50%       48.110990   -122.758850  \n",
      "75%       48.110990   -122.758850  \n",
      "max       49.832120   -120.002420  \n"
     ]
    }
   ],
   "source": [
    "for df in [df10, df100, df1000, df10000]:\n",
    "    print(df.describe())"
   ]
  },
  {
   "cell_type": "code",
   "execution_count": 34,
   "metadata": {},
   "outputs": [
    {
     "name": "stdout",
     "output_type": "stream",
     "text": [
      "df: MAE = 1.2733923934326852\n",
      "df10: MAE = 1.157407804442135\n",
      "df100: MAE = 1.23786706177166\n",
      "df1000: MAE = 0.9026804630340876\n",
      "df10000: MAE = 0.20197894745555736\n"
     ]
    },
    {
     "data": {
      "text/plain": [
       "[<matplotlib.lines.Line2D at 0x22116c9a470>]"
      ]
     },
     "execution_count": 34,
     "metadata": {},
     "output_type": "execute_result"
    },
    {
     "data": {
      "image/png": "[encoded data removed]",
      "text/plain": [
       "<Figure size 432x288 with 1 Axes>"
      ]
     },
     "metadata": {
      "needs_background": "light"
     },
     "output_type": "display_data"
    }
   ],
   "source": [
    "# Comparison of prediction of MeanSOG with normal static data and copied datasets\n",
    "\n",
    "from sklearn.metrics import mean_absolute_error\n",
    "import matplotlib.pyplot as plt\n",
    "\n",
    "x = ['VesselType', 'Length', 'Width', 'Draft']\n",
    "y = ['MeanSOG']\n",
    "\n",
    "errors = [[], []]\n",
    "\n",
    "static_data.name = 'df'\n",
    "df10.name = 'df10'\n",
    "df100.name = 'df100'\n",
    "df1000.name = 'df1000'\n",
    "df10000.name = 'df10000'\n",
    "\n",
    "for df in [static_data, df10, df100, df1000, df10000]:\n",
    "    predictions, y_test = knn_regression(df, x, y)\n",
    "    error = mean_absolute_error(predictions, y_test)\n",
    "    print(df.name + ': MAE = ' + str(error))\n",
    "    \n",
    "    errors[0].append(df.name)\n",
    "    errors[1].append(error)\n",
    "    \n",
    "plt.plot(errors[0], errors[1])"
   ]
  },
  {
   "cell_type": "markdown",
   "metadata": {},
   "source": [
    "## More ideas <a class=\"anchor\" id=\"more-ideas\"></a>"
   ]
  },
  {
   "cell_type": "markdown",
   "metadata": {},
   "source": [
    "+ Try to predict with something that does not make sense (example: using ID attribute as a number)\n",
    "+ or using Length as a category\n",
    "+ mixing regression and classification"
   ]
  },
  {
   "cell_type": "code",
   "execution_count": 35,
   "metadata": {},
   "outputs": [],
   "source": [
    "import pandas as pd\n",
    "\n",
    "static_data = pd.read_csv('./static_data.csv')"
   ]
  },
  {
   "cell_type": "code",
   "execution_count": 36,
   "metadata": {},
   "outputs": [
    {
     "name": "stdout",
     "output_type": "stream",
     "text": [
      "MAE with Length: 2.73451052631579\n",
      "MAE with Length and TripID: 3.8834960526315796\n",
      "MAE with TripID: 7.796980263157895\n",
      "Baseline: mean = 13.10450054884743\n"
     ]
    }
   ],
   "source": [
    "# Prediction of Width from Length or TripID\n",
    "\n",
    "from sklearn.metrics import mean_absolute_error\n",
    "\n",
    "x = ['Length']\n",
    "y = ['Width']\n",
    "pred, ytest = knn_regression(static_data, x, y)\n",
    "print('MAE with Length: ' + str(mean_absolute_error(pred, ytest)))\n",
    "\n",
    "x = ['Length', 'TripID']\n",
    "y = ['Width']\n",
    "pred, ytest = knn_regression(static_data, x, y)\n",
    "print('MAE with Length and TripID: ' + str(mean_absolute_error(pred, ytest)))\n",
    "\n",
    "x = ['TripID']\n",
    "y = ['Width']\n",
    "pred, ytest = knn_regression(static_data, x, y)\n",
    "print('MAE with TripID: ' + str(mean_absolute_error(pred, ytest)))\n",
    "\n",
    "print('Baseline: mean = ' + str(static_data['Width'].mean()))"
   ]
  },
  {
   "cell_type": "code",
   "execution_count": 37,
   "metadata": {},
   "outputs": [
    {
     "name": "stdout",
     "output_type": "stream",
     "text": [
      "MAE with regression: 2.0717238095238097\n",
      "Accuracy with classification: 0.38095238095238093\n"
     ]
    },
    {
     "name": "stderr",
     "output_type": "stream",
     "text": [
      "C:\\Users\\Anna\\Anaconda3\\lib\\site-packages\\ipykernel_launcher.py:14: DataConversionWarning: A column-vector y was passed when a 1d array was expected. Please change the shape of y to (n_samples, ), for example using ravel().\n",
      "  \n"
     ]
    }
   ],
   "source": [
    "# Prediction of Width from Length: comparison regression and classification\n",
    "\n",
    "from sklearn.metrics import accuracy_score\n",
    "from sklearn.metrics import mean_absolute_error\n",
    "\n",
    "x = ['Length']\n",
    "y = ['Width']\n",
    "\n",
    "df = static_data.copy()\n",
    "df = df.dropna()\n",
    "\n",
    "pred, ytest = knn_regression(df, x, y)\n",
    "\n",
    "print('MAE with regression: ' + str(mean_absolute_error(pred, ytest)))\n",
    "\n",
    "df2 = static_data.copy()\n",
    "df2 = df2.dropna()\n",
    "df2['Width'] = df2['Width'].astype('int')\n",
    "df2['Width'] = df2['Width'].astype('category')\n",
    "\n",
    "pred, ytest = knn_classification(df2, x, y)\n",
    "\n",
    "print('Accuracy with classification: ' + str(accuracy_score(pred, ytest)))"
   ]
  }
 ],
 "metadata": {
  "kernelspec": {
   "display_name": "Python 3",
   "language": "python",
   "name": "python3"
  },
  "language_info": {
   "codemirror_mode": {
    "name": "ipython",
    "version": 3
   },
   "file_extension": ".py",
   "mimetype": "text/x-python",
   "name": "python",
   "nbconvert_exporter": "python",
   "pygments_lexer": "ipython3",
   "version": "3.7.1"
  },
  "varInspector": {
   "cols": {
    "lenName": 16,
    "lenType": 16,
    "lenVar": 40
   },
   "kernels_config": {
    "python": {
     "delete_cmd_postfix": "",
     "delete_cmd_prefix": "del ",
     "library": "var_list.py",
     "varRefreshCmd": "print(var_dic_list())"
    },
    "r": {
     "delete_cmd_postfix": ") ",
     "delete_cmd_prefix": "rm(",
     "library": "var_list.r",
     "varRefreshCmd": "cat(var_dic_list()) "
    }
   },
   "types_to_exclude": [
    "module",
    "function",
    "builtin_function_or_method",
    "instance",
    "_Feature"
   ],
   "window_display": false
  }
 },
 "nbformat": 4,
 "nbformat_minor": 2
}
