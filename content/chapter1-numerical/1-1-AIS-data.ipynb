{
 "cells": [
  {
   "cell_type": "markdown",
   "metadata": {},
   "source": [
    "Contents\n",
    "\n",
    "+ [Import the data](#import-data)\n",
    "+ [Understand the data](#understand-data)\n",
    "    + [AIS data in general](#ais-data)\n",
    "    + [Dynamic data](#dynamic-data)\n",
    "    + [Static data](#static-data)\n",
    "    + [Comparison of dynamic and static datasets](#compare-data)\n",
    "    + [More information and quiz](#quiz)\n",
    "+ [Examine the dataset](#vis-data)"
   ]
  },
  {
   "cell_type": "code",
   "execution_count": 1,
   "metadata": {},
   "outputs": [],
   "source": [
    "# Cell to hide - just an option\n",
    "\n",
    "import pandas as pd\n",
    "pd.set_option('display.max_columns', 27)"
   ]
  },
  {
   "cell_type": "markdown",
   "metadata": {},
   "source": [
    "In this part, we will explore the topic of data quality in a numerically based dataset. As an example, we are are using AIS data (Automatic Identification System), coming from an automatic tracking system for ships."
   ]
  },
  {
   "cell_type": "markdown",
   "metadata": {},
   "source": [
    "## Import the data <a class=\"anchor\" id=\"import-data\"></a>"
   ]
  },
  {
   "cell_type": "markdown",
   "metadata": {},
   "source": [
    "Before anything else, we will take a look at the data we will work with in this section. Let's start by importing the datasets, using the function [read_csv()](https://pandas.pydata.org/pandas-docs/stable/reference/api/pandas.read_csv.html) from the library [Pandas](https://pandas.pydata.org/). We will use two datasets containing AIS data."
   ]
  },
  {
   "cell_type": "code",
   "execution_count": 2,
   "metadata": {},
   "outputs": [],
   "source": [
    "import pandas as pd\n",
    "\n",
    "dynamic_data = pd.read_csv('./dynamic_data.csv')\n",
    "static_data = pd.read_csv('./static_data.csv')"
   ]
  },
  {
   "cell_type": "markdown",
   "metadata": {},
   "source": [
    "These data have been imported from the U.S. Marine Cadastre website and is publicly available here: https://marinecadastre.gov/ais/. The datasets used here are a slightly modified version of the raw datasets available on the website, to match the needs of this course. For more information about the modifications done to these datasets, visit __TODO(write modifications done)__."
   ]
  },
  {
   "cell_type": "markdown",
   "metadata": {},
   "source": [
    "## Understand the data <a class=\"anchor\" id=\"understand-data\"></a>"
   ]
  },
  {
   "cell_type": "markdown",
   "metadata": {},
   "source": [
    "When dealing with any data related problem, the first step is to fully understand the data we are using. This means knowing what the data represent and understand the meaning of each attribute.\n",
    "\n",
    "In addition, some important points must be known by the scientist using the data for a problem, specifically:\n",
    "* where the data come from: which open organism, company, person, collected the data in the first place.\n",
    "* when the data have been collected: most data can vary over time (for example, the number of passengers using a transportation service will vary over the years in an expanding city).\n",
    "* the range of the data: for example, for geographical data, the area of collection has to be known.\n",
    "* how the data have been acquired: the data might have been recorded with sensors or hand tools, collected by person through forms, automatically created with a software, ...\n",
    "* if the data have been previously modified: the organism that collected the data in the first place might have done a work of preprocessing before handing them over to further partners."
   ]
  },
  {
   "cell_type": "markdown",
   "metadata": {},
   "source": [
    "### AIS data in general <a class=\"anchor\" id=\"ais-data\"></a>"
   ]
  },
  {
   "cell_type": "markdown",
   "metadata": {},
   "source": [
    "Most navigating vessel today in the world must be equiped with an AIS (Automatic Identification System) transponder which sends information about the ships's status and position at regular intervals of time (every 1 to 3 minutes). The data is collected by coastal stations and other ships, message after message. A message is sent at a certain timestamp by a certain ship, and can contain either static or dynamic information about the ship and the trip it is currently on.\n",
    "\n",
    "The dynamic information are information that may change every time a new message is sent, such as the speed of the ship, its heading, or its position (latitude and longitude). The static information stay the same for the whole trip of one ship, for example the identification of the ship (MMSI), the destination information, the type of the ship, ..."
   ]
  },
  {
   "cell_type": "markdown",
   "metadata": {},
   "source": [
    "__TODO: add Thomas' video (1st)__"
   ]
  },
  {
   "cell_type": "markdown",
   "metadata": {},
   "source": [
    "In this part, you have the role of a data analyst in charge of examining and working with AIS data collected from a coastal station next to Seattle (United States). The data we are using in this lecture have been collected by the U.S. Marine Cadastre on the 1st of January 2017, on the area [UTM10](https://marinecadastre.gov/AIS/AIS%20Documents/UTMZoneMap2014.png) (west coast of the United States and Canada). The exact latitude range is ``[32.20937 ; 49.89074]`` and the longitude range is ``[-125.99859 ; -120.00242]``, which is comprised in this area:"
   ]
  },
  {
   "cell_type": "markdown",
   "metadata": {},
   "source": [
    "![text](1-1-data_area.JPG)"
   ]
  },
  {
   "cell_type": "markdown",
   "metadata": {},
   "source": [
    "This area, being on the coast, contains several harbours, which makes it interesting for our use."
   ]
  },
  {
   "cell_type": "markdown",
   "metadata": {},
   "source": [
    "### Dynamic data <a class=\"anchor\" id=\"dynamic-data\"></a>"
   ]
  },
  {
   "cell_type": "markdown",
   "metadata": {},
   "source": [
    "The function [head()](https://pandas.pydata.org/pandas-docs/stable/reference/api/pandas.DataFrame.head.html) allows you to print the first elements of a pandas DataFrame. The data you have to work with look like this:"
   ]
  },
  {
   "cell_type": "code",
   "execution_count": 3,
   "metadata": {},
   "outputs": [
    {
     "data": {
      "text/html": [
       "<div>\n",
       "<style scoped>\n",
       "    .dataframe tbody tr th:only-of-type {\n",
       "        vertical-align: middle;\n",
       "    }\n",
       "\n",
       "    .dataframe tbody tr th {\n",
       "        vertical-align: top;\n",
       "    }\n",
       "\n",
       "    .dataframe thead th {\n",
       "        text-align: right;\n",
       "    }\n",
       "</style>\n",
       "<table border=\"1\" class=\"dataframe\">\n",
       "  <thead>\n",
       "    <tr style=\"text-align: right;\">\n",
       "      <th></th>\n",
       "      <th>MMSI</th>\n",
       "      <th>BaseDateTime</th>\n",
       "      <th>LAT</th>\n",
       "      <th>LON</th>\n",
       "      <th>SOG</th>\n",
       "      <th>COG</th>\n",
       "      <th>Heading</th>\n",
       "      <th>VesselName</th>\n",
       "      <th>IMO</th>\n",
       "      <th>CallSign</th>\n",
       "      <th>VesselType</th>\n",
       "      <th>Status</th>\n",
       "      <th>Length</th>\n",
       "      <th>Width</th>\n",
       "      <th>Draft</th>\n",
       "      <th>TripID</th>\n",
       "      <th>DepTime</th>\n",
       "      <th>ArrTime</th>\n",
       "      <th>DepLat</th>\n",
       "      <th>DepLon</th>\n",
       "      <th>ArrLat</th>\n",
       "      <th>ArrLon</th>\n",
       "      <th>DepCountry</th>\n",
       "      <th>DepCity</th>\n",
       "      <th>ArrCountry</th>\n",
       "      <th>ArrCity</th>\n",
       "    </tr>\n",
       "  </thead>\n",
       "  <tbody>\n",
       "    <tr>\n",
       "      <th>0</th>\n",
       "      <td>367114690</td>\n",
       "      <td>2017-01-01 00:00:06</td>\n",
       "      <td>48.51094</td>\n",
       "      <td>-122.60705</td>\n",
       "      <td>0.0</td>\n",
       "      <td>-49.6</td>\n",
       "      <td>511.0</td>\n",
       "      <td>NaN</td>\n",
       "      <td>NaN</td>\n",
       "      <td>NaN</td>\n",
       "      <td>NaN</td>\n",
       "      <td>under way using engine</td>\n",
       "      <td>NaN</td>\n",
       "      <td>NaN</td>\n",
       "      <td>NaN</td>\n",
       "      <td>1</td>\n",
       "      <td>2017-01-01 00:00:06</td>\n",
       "      <td>2017-01-01 02:40:45</td>\n",
       "      <td>48.51094</td>\n",
       "      <td>-122.60705</td>\n",
       "      <td>48.51095</td>\n",
       "      <td>-122.60705</td>\n",
       "      <td>US</td>\n",
       "      <td>Anacortes</td>\n",
       "      <td>US</td>\n",
       "      <td>Anacortes</td>\n",
       "    </tr>\n",
       "    <tr>\n",
       "      <th>1</th>\n",
       "      <td>367479990</td>\n",
       "      <td>2017-01-01 00:00:03</td>\n",
       "      <td>48.15891</td>\n",
       "      <td>-122.67268</td>\n",
       "      <td>0.1</td>\n",
       "      <td>10.1</td>\n",
       "      <td>353.0</td>\n",
       "      <td>WSF KENNEWICK</td>\n",
       "      <td>IMO9618331</td>\n",
       "      <td>WDF6991</td>\n",
       "      <td>1012.0</td>\n",
       "      <td>moored</td>\n",
       "      <td>83.39</td>\n",
       "      <td>19.5</td>\n",
       "      <td>3.2</td>\n",
       "      <td>2</td>\n",
       "      <td>2017-01-01 00:00:03</td>\n",
       "      <td>2017-01-01 02:40:44</td>\n",
       "      <td>48.15891</td>\n",
       "      <td>-122.67268</td>\n",
       "      <td>48.11099</td>\n",
       "      <td>-122.75885</td>\n",
       "      <td>US</td>\n",
       "      <td>Coupeville</td>\n",
       "      <td>US</td>\n",
       "      <td>Port Townsend</td>\n",
       "    </tr>\n",
       "    <tr>\n",
       "      <th>2</th>\n",
       "      <td>368319000</td>\n",
       "      <td>2017-01-01 00:00:08</td>\n",
       "      <td>43.34576</td>\n",
       "      <td>-124.32142</td>\n",
       "      <td>0.0</td>\n",
       "      <td>32.8</td>\n",
       "      <td>173.0</td>\n",
       "      <td>NaN</td>\n",
       "      <td>NaN</td>\n",
       "      <td>NaN</td>\n",
       "      <td>NaN</td>\n",
       "      <td>engaged in fishing</td>\n",
       "      <td>NaN</td>\n",
       "      <td>NaN</td>\n",
       "      <td>NaN</td>\n",
       "      <td>3</td>\n",
       "      <td>2017-01-01 00:00:08</td>\n",
       "      <td>2017-01-01 02:44:48</td>\n",
       "      <td>43.34576</td>\n",
       "      <td>-124.32142</td>\n",
       "      <td>43.34578</td>\n",
       "      <td>-124.32141</td>\n",
       "      <td>US</td>\n",
       "      <td>Barview</td>\n",
       "      <td>US</td>\n",
       "      <td>Barview</td>\n",
       "    </tr>\n",
       "    <tr>\n",
       "      <th>3</th>\n",
       "      <td>367154100</td>\n",
       "      <td>2017-01-01 00:00:15</td>\n",
       "      <td>46.74264</td>\n",
       "      <td>-124.93125</td>\n",
       "      <td>6.8</td>\n",
       "      <td>6.0</td>\n",
       "      <td>352.0</td>\n",
       "      <td>NaN</td>\n",
       "      <td>NaN</td>\n",
       "      <td>NaN</td>\n",
       "      <td>NaN</td>\n",
       "      <td>undefined</td>\n",
       "      <td>NaN</td>\n",
       "      <td>NaN</td>\n",
       "      <td>NaN</td>\n",
       "      <td>4</td>\n",
       "      <td>2017-01-01 00:00:15</td>\n",
       "      <td>2017-01-01 02:33:28</td>\n",
       "      <td>46.74264</td>\n",
       "      <td>-124.93125</td>\n",
       "      <td>47.02928</td>\n",
       "      <td>-124.95153</td>\n",
       "      <td>US</td>\n",
       "      <td>Ocean Shores</td>\n",
       "      <td>US</td>\n",
       "      <td>Ocean Shores</td>\n",
       "    </tr>\n",
       "    <tr>\n",
       "      <th>4</th>\n",
       "      <td>367446870</td>\n",
       "      <td>2017-01-01 00:00:59</td>\n",
       "      <td>48.51320</td>\n",
       "      <td>-122.60718</td>\n",
       "      <td>0.0</td>\n",
       "      <td>23.2</td>\n",
       "      <td>511.0</td>\n",
       "      <td>NaN</td>\n",
       "      <td>NaN</td>\n",
       "      <td>NaN</td>\n",
       "      <td>NaN</td>\n",
       "      <td>NaN</td>\n",
       "      <td>NaN</td>\n",
       "      <td>NaN</td>\n",
       "      <td>NaN</td>\n",
       "      <td>5</td>\n",
       "      <td>2017-01-01 00:00:59</td>\n",
       "      <td>2017-01-01 02:42:54</td>\n",
       "      <td>48.51320</td>\n",
       "      <td>-122.60718</td>\n",
       "      <td>48.51318</td>\n",
       "      <td>-122.60699</td>\n",
       "      <td>US</td>\n",
       "      <td>Anacortes</td>\n",
       "      <td>US</td>\n",
       "      <td>Anacortes</td>\n",
       "    </tr>\n",
       "  </tbody>\n",
       "</table>\n",
       "</div>"
      ],
      "text/plain": [
       "        MMSI         BaseDateTime       LAT        LON  SOG   COG  Heading  \\\n",
       "0  367114690  2017-01-01 00:00:06  48.51094 -122.60705  0.0 -49.6    511.0   \n",
       "1  367479990  2017-01-01 00:00:03  48.15891 -122.67268  0.1  10.1    353.0   \n",
       "2  368319000  2017-01-01 00:00:08  43.34576 -124.32142  0.0  32.8    173.0   \n",
       "3  367154100  2017-01-01 00:00:15  46.74264 -124.93125  6.8   6.0    352.0   \n",
       "4  367446870  2017-01-01 00:00:59  48.51320 -122.60718  0.0  23.2    511.0   \n",
       "\n",
       "      VesselName         IMO CallSign  VesselType                  Status  \\\n",
       "0            NaN         NaN      NaN         NaN  under way using engine   \n",
       "1  WSF KENNEWICK  IMO9618331  WDF6991      1012.0                  moored   \n",
       "2            NaN         NaN      NaN         NaN      engaged in fishing   \n",
       "3            NaN         NaN      NaN         NaN               undefined   \n",
       "4            NaN         NaN      NaN         NaN                     NaN   \n",
       "\n",
       "   Length  Width  Draft  TripID              DepTime              ArrTime  \\\n",
       "0     NaN    NaN    NaN       1  2017-01-01 00:00:06  2017-01-01 02:40:45   \n",
       "1   83.39   19.5    3.2       2  2017-01-01 00:00:03  2017-01-01 02:40:44   \n",
       "2     NaN    NaN    NaN       3  2017-01-01 00:00:08  2017-01-01 02:44:48   \n",
       "3     NaN    NaN    NaN       4  2017-01-01 00:00:15  2017-01-01 02:33:28   \n",
       "4     NaN    NaN    NaN       5  2017-01-01 00:00:59  2017-01-01 02:42:54   \n",
       "\n",
       "     DepLat     DepLon    ArrLat     ArrLon DepCountry       DepCity  \\\n",
       "0  48.51094 -122.60705  48.51095 -122.60705         US     Anacortes   \n",
       "1  48.15891 -122.67268  48.11099 -122.75885         US    Coupeville   \n",
       "2  43.34576 -124.32142  43.34578 -124.32141         US       Barview   \n",
       "3  46.74264 -124.93125  47.02928 -124.95153         US  Ocean Shores   \n",
       "4  48.51320 -122.60718  48.51318 -122.60699         US     Anacortes   \n",
       "\n",
       "  ArrCountry        ArrCity  \n",
       "0         US      Anacortes  \n",
       "1         US  Port Townsend  \n",
       "2         US        Barview  \n",
       "3         US   Ocean Shores  \n",
       "4         US      Anacortes  "
      ]
     },
     "execution_count": 3,
     "metadata": {},
     "output_type": "execute_result"
    }
   ],
   "source": [
    "dynamic_data.head()"
   ]
  },
  {
   "cell_type": "markdown",
   "metadata": {},
   "source": [
    "This dataset contains a mix of dynamic and static attributes, as explained earlier. The mention _artificially created from original data_ means that this attribute was added by us to the data downloaded \n",
    "\n",
    "Static attributes:\n",
    "\n",
    "+ __MMSI__: unique 9-digit [identification code](https://www.navcen.uscg.gov/?pageName=mtMmsi) of the ship - numeric\n",
    "+ __VesselName__: name of the ship - string\n",
    "+ __IMO__: unique 7-digit [international identification number](https://imonumbers.lrfairplay.com/), that remains unchanged after the transfer of the ship's registration to another country - numeric\n",
    "+ __CallSign__: unique callsign of the ship - string\n",
    "+ __VesselType__: type of the ship, numerically coded, see [here](https://coast.noaa.gov/data/marinecadastre/ais/VesselTypeCodes2018.pdf) for details - numeric\n",
    "+ __Length__: length of the ship, in meters - numeric\n",
    "+ __Width__: width of the ship, in meters - numeric\n",
    "+ __Draft__: vertical distance between the waterline and the bottom of the hull of the ship, in meters. For one ship, varies with the load of the ship and the density of the water - numeric\n",
    "+ __TripID__: (_artificially created from original data_) unique ID for the trip - numeric\n",
    "+ __DepTime__: (_artificially created from original data_) departure time for the trip - datetime\n",
    "+ __ArrTime__: (_artificially created from original data_) arrival time for the trip - datetime\n",
    "+ __DepLat__: (_artificially created from original data_) departure latitude for the trip - numeric\n",
    "+ __DepLon__: (_artificially created from original data_) departure longitude for the trip - numeric\n",
    "+ __ArrLat__: (_artificially created from original data_) arrival latitude for the trip - numeric\n",
    "+ __ArrLon__: (_artificially created from original data_) arrival longitude for the trip - numeric\n",
    "+ __DepCountry__: (_artificially created from original data_) departure country for the trip - string\n",
    "+ __DepCity__: (_artificially created from original data_) departure city for the trip - string\n",
    "+ __ArrCountry__: (_artificially created from original data_) arrival country for the trip - string\n",
    "+ __ArrCity__: (_artificially created from original data_) arrival city for the trip - string\n",
    "\n",
    "Dynamic attributes:\n",
    "\n",
    "+ __BaseDateTime__: timestamp of the AIS message - datetime\n",
    "+ __LAT__: latitude of the ship - numeric\n",
    "+ __LON__: longitude of the ship - numeric\n",
    "+ __SOG__: speed over ground, in knots - numeric\n",
    "+ __COG__: course over ground, direction relative to the absolute North, in degrees (0 to 360) - numeric\n",
    "+ __Heading__: heading of the ship - numeric\n",
    "+ __Status__: status of the ship - string"
   ]
  },
  {
   "cell_type": "markdown",
   "metadata": {},
   "source": [
    "__TODO: add Thomas' video (2nd)__"
   ]
  },
  {
   "cell_type": "markdown",
   "metadata": {},
   "source": [
    "### Static data <a class=\"anchor\" id=\"static-data\"></a>"
   ]
  },
  {
   "cell_type": "markdown",
   "metadata": {},
   "source": [
    "From the AIS data collected on the Marine Cadastre Website, we have created a smaller dataset containing only the static data of the trips. This will allow you to compare and analyze the trips as entities. Let's have a look at these data."
   ]
  },
  {
   "cell_type": "code",
   "execution_count": 4,
   "metadata": {},
   "outputs": [
    {
     "data": {
      "text/html": [
       "<div>\n",
       "<style scoped>\n",
       "    .dataframe tbody tr th:only-of-type {\n",
       "        vertical-align: middle;\n",
       "    }\n",
       "\n",
       "    .dataframe tbody tr th {\n",
       "        vertical-align: top;\n",
       "    }\n",
       "\n",
       "    .dataframe thead th {\n",
       "        text-align: right;\n",
       "    }\n",
       "</style>\n",
       "<table border=\"1\" class=\"dataframe\">\n",
       "  <thead>\n",
       "    <tr style=\"text-align: right;\">\n",
       "      <th></th>\n",
       "      <th>TripID</th>\n",
       "      <th>MMSI</th>\n",
       "      <th>MeanSOG</th>\n",
       "      <th>VesselName</th>\n",
       "      <th>IMO</th>\n",
       "      <th>CallSign</th>\n",
       "      <th>VesselType</th>\n",
       "      <th>Status</th>\n",
       "      <th>Length</th>\n",
       "      <th>Width</th>\n",
       "      <th>Draft</th>\n",
       "      <th>Cargo</th>\n",
       "      <th>DepTime</th>\n",
       "      <th>ArrTime</th>\n",
       "      <th>DepLat</th>\n",
       "      <th>DepLon</th>\n",
       "      <th>ArrLat</th>\n",
       "      <th>ArrLon</th>\n",
       "      <th>DepCountry</th>\n",
       "      <th>DepCity</th>\n",
       "      <th>ArrCountry</th>\n",
       "      <th>ArrCity</th>\n",
       "      <th>Duration</th>\n",
       "    </tr>\n",
       "  </thead>\n",
       "  <tbody>\n",
       "    <tr>\n",
       "      <th>0</th>\n",
       "      <td>1</td>\n",
       "      <td>367114690</td>\n",
       "      <td>0.000000</td>\n",
       "      <td>NaN</td>\n",
       "      <td>NaN</td>\n",
       "      <td>NaN</td>\n",
       "      <td>NaN</td>\n",
       "      <td>under way using engine</td>\n",
       "      <td>NaN</td>\n",
       "      <td>NaN</td>\n",
       "      <td>NaN</td>\n",
       "      <td>NaN</td>\n",
       "      <td>2017-01-01 00:00:06</td>\n",
       "      <td>2017-01-01 02:40:45</td>\n",
       "      <td>48.51094</td>\n",
       "      <td>-122.60705</td>\n",
       "      <td>48.51095</td>\n",
       "      <td>-122.60705</td>\n",
       "      <td>US</td>\n",
       "      <td>Anacortes</td>\n",
       "      <td>US</td>\n",
       "      <td>Anacortes</td>\n",
       "      <td>0 days 02:40:39</td>\n",
       "    </tr>\n",
       "    <tr>\n",
       "      <th>1</th>\n",
       "      <td>2</td>\n",
       "      <td>367479990</td>\n",
       "      <td>6.536585</td>\n",
       "      <td>WSF KENNEWICK</td>\n",
       "      <td>IMO9618331</td>\n",
       "      <td>WDF6991</td>\n",
       "      <td>1012.0</td>\n",
       "      <td>moored</td>\n",
       "      <td>83.39</td>\n",
       "      <td>19.5</td>\n",
       "      <td>3.2</td>\n",
       "      <td>NaN</td>\n",
       "      <td>2017-01-01 00:00:03</td>\n",
       "      <td>2017-01-01 02:40:44</td>\n",
       "      <td>48.15891</td>\n",
       "      <td>-122.67268</td>\n",
       "      <td>48.11099</td>\n",
       "      <td>-122.75885</td>\n",
       "      <td>US</td>\n",
       "      <td>Coupeville</td>\n",
       "      <td>US</td>\n",
       "      <td>Port Townsend</td>\n",
       "      <td>0 days 02:40:41</td>\n",
       "    </tr>\n",
       "    <tr>\n",
       "      <th>2</th>\n",
       "      <td>3</td>\n",
       "      <td>368319000</td>\n",
       "      <td>0.000758</td>\n",
       "      <td>NaN</td>\n",
       "      <td>NaN</td>\n",
       "      <td>NaN</td>\n",
       "      <td>NaN</td>\n",
       "      <td>engaged in fishing</td>\n",
       "      <td>NaN</td>\n",
       "      <td>NaN</td>\n",
       "      <td>NaN</td>\n",
       "      <td>NaN</td>\n",
       "      <td>2017-01-01 00:00:08</td>\n",
       "      <td>2017-01-01 02:44:48</td>\n",
       "      <td>43.34576</td>\n",
       "      <td>-124.32142</td>\n",
       "      <td>43.34578</td>\n",
       "      <td>-124.32141</td>\n",
       "      <td>US</td>\n",
       "      <td>Barview</td>\n",
       "      <td>US</td>\n",
       "      <td>Barview</td>\n",
       "      <td>0 days 02:44:40</td>\n",
       "    </tr>\n",
       "    <tr>\n",
       "      <th>3</th>\n",
       "      <td>4</td>\n",
       "      <td>367154100</td>\n",
       "      <td>6.871111</td>\n",
       "      <td>NaN</td>\n",
       "      <td>NaN</td>\n",
       "      <td>NaN</td>\n",
       "      <td>NaN</td>\n",
       "      <td>undefined</td>\n",
       "      <td>NaN</td>\n",
       "      <td>NaN</td>\n",
       "      <td>NaN</td>\n",
       "      <td>NaN</td>\n",
       "      <td>2017-01-01 00:00:15</td>\n",
       "      <td>2017-01-01 02:33:28</td>\n",
       "      <td>46.74264</td>\n",
       "      <td>-124.93125</td>\n",
       "      <td>47.02928</td>\n",
       "      <td>-124.95153</td>\n",
       "      <td>US</td>\n",
       "      <td>Ocean Shores</td>\n",
       "      <td>US</td>\n",
       "      <td>Ocean Shores</td>\n",
       "      <td>0 days 02:33:13</td>\n",
       "    </tr>\n",
       "    <tr>\n",
       "      <th>4</th>\n",
       "      <td>5</td>\n",
       "      <td>367446870</td>\n",
       "      <td>0.000000</td>\n",
       "      <td>NaN</td>\n",
       "      <td>NaN</td>\n",
       "      <td>NaN</td>\n",
       "      <td>NaN</td>\n",
       "      <td>NaN</td>\n",
       "      <td>NaN</td>\n",
       "      <td>NaN</td>\n",
       "      <td>NaN</td>\n",
       "      <td>NaN</td>\n",
       "      <td>2017-01-01 00:00:59</td>\n",
       "      <td>2017-01-01 02:42:54</td>\n",
       "      <td>48.51320</td>\n",
       "      <td>-122.60718</td>\n",
       "      <td>48.51318</td>\n",
       "      <td>-122.60699</td>\n",
       "      <td>US</td>\n",
       "      <td>Anacortes</td>\n",
       "      <td>US</td>\n",
       "      <td>Anacortes</td>\n",
       "      <td>0 days 02:41:55</td>\n",
       "    </tr>\n",
       "  </tbody>\n",
       "</table>\n",
       "</div>"
      ],
      "text/plain": [
       "   TripID       MMSI   MeanSOG     VesselName         IMO CallSign  \\\n",
       "0       1  367114690  0.000000            NaN         NaN      NaN   \n",
       "1       2  367479990  6.536585  WSF KENNEWICK  IMO9618331  WDF6991   \n",
       "2       3  368319000  0.000758            NaN         NaN      NaN   \n",
       "3       4  367154100  6.871111            NaN         NaN      NaN   \n",
       "4       5  367446870  0.000000            NaN         NaN      NaN   \n",
       "\n",
       "   VesselType                  Status  Length  Width  Draft  Cargo  \\\n",
       "0         NaN  under way using engine     NaN    NaN    NaN    NaN   \n",
       "1      1012.0                  moored   83.39   19.5    3.2    NaN   \n",
       "2         NaN      engaged in fishing     NaN    NaN    NaN    NaN   \n",
       "3         NaN               undefined     NaN    NaN    NaN    NaN   \n",
       "4         NaN                     NaN     NaN    NaN    NaN    NaN   \n",
       "\n",
       "               DepTime              ArrTime    DepLat     DepLon    ArrLat  \\\n",
       "0  2017-01-01 00:00:06  2017-01-01 02:40:45  48.51094 -122.60705  48.51095   \n",
       "1  2017-01-01 00:00:03  2017-01-01 02:40:44  48.15891 -122.67268  48.11099   \n",
       "2  2017-01-01 00:00:08  2017-01-01 02:44:48  43.34576 -124.32142  43.34578   \n",
       "3  2017-01-01 00:00:15  2017-01-01 02:33:28  46.74264 -124.93125  47.02928   \n",
       "4  2017-01-01 00:00:59  2017-01-01 02:42:54  48.51320 -122.60718  48.51318   \n",
       "\n",
       "      ArrLon DepCountry       DepCity ArrCountry        ArrCity  \\\n",
       "0 -122.60705         US     Anacortes         US      Anacortes   \n",
       "1 -122.75885         US    Coupeville         US  Port Townsend   \n",
       "2 -124.32141         US       Barview         US        Barview   \n",
       "3 -124.95153         US  Ocean Shores         US   Ocean Shores   \n",
       "4 -122.60699         US     Anacortes         US      Anacortes   \n",
       "\n",
       "          Duration  \n",
       "0  0 days 02:40:39  \n",
       "1  0 days 02:40:41  \n",
       "2  0 days 02:44:40  \n",
       "3  0 days 02:33:13  \n",
       "4  0 days 02:41:55  "
      ]
     },
     "execution_count": 4,
     "metadata": {},
     "output_type": "execute_result"
    }
   ],
   "source": [
    "static_data.head()"
   ]
  },
  {
   "cell_type": "markdown",
   "metadata": {},
   "source": [
    "As you can see, most of the attributes are the same as for the dynamic data, only the dynamic attributes (like timestamp, latitude, longitude, speed and heading) have disappeared.\n",
    "\n",
    "Two attributes are new here:\n",
    "+ __MeanSOG__: the mean of the value of the SOG attribute for all the points in the trip.\n",
    "+ __Duration__: the total duration of the tracked trip."
   ]
  },
  {
   "cell_type": "markdown",
   "metadata": {},
   "source": [
    "### Comparison of dynamic and static datasets <a class=\"anchor\" id=\"compare-data\"></a>"
   ]
  },
  {
   "cell_type": "markdown",
   "metadata": {},
   "source": [
    "This dataset is built from the same data as the dynamic dataset and therefore contains the same data.\n",
    "\n",
    "We can verify that by comparing the MMSIs of the ships tracked in both datasets. For that, we collect the unique values of the attribute MMSI in both datasets with the function [unique()](https://pandas.pydata.org/pandas-docs/stable/reference/api/pandas.Series.unique.html). We could then print the two lists, but as they both contain 1520 values, we will check the difference between both by using two loops and printing the elements that are present in one list and not in the other."
   ]
  },
  {
   "cell_type": "code",
   "execution_count": 5,
   "metadata": {},
   "outputs": [
    {
     "name": "stdout",
     "output_type": "stream",
     "text": [
      "dynamic: [367114690 367479990 368319000 ... 367417230 316021258 316021259]\n",
      "static: [367114690 367479990 368319000 ... 367417230 316021258 316021259]\n",
      "diff1: []\n",
      "diff2: []\n"
     ]
    }
   ],
   "source": [
    "# Get the unique MMSI values in both datasets\n",
    "dynamic_mmsi = dynamic_data['MMSI'].unique()\n",
    "static_mmsi = static_data['MMSI'].unique()\n",
    "\n",
    "# Print the two lists\n",
    "print('dynamic: ' + str(dynamic_mmsi))\n",
    "print('static: ' + str(static_mmsi))\n",
    "\n",
    "# Check for elements in dynamic_mmsi that are not in static_mmsi\n",
    "diff1 = []\n",
    "for element in dynamic_mmsi:\n",
    "    if element not in static_mmsi:\n",
    "        diff1.append(element)\n",
    "print('diff1: ' + str(diff1))\n",
    "        \n",
    "# Check for elements in static_mmsi that are not in dynamic_mmsi\n",
    "diff2 = []\n",
    "for element in static_mmsi:\n",
    "    if element not in dynamic_mmsi:\n",
    "        diff2.append(element)\n",
    "print('diff2: ' + str(diff2))"
   ]
  },
  {
   "cell_type": "markdown",
   "metadata": {},
   "source": [
    "To simply understand the difference between the datasets, let's have a look at their lengths with the function [len()](https://docs.python.org/3/library/functions.html#len)."
   ]
  },
  {
   "cell_type": "code",
   "execution_count": 6,
   "metadata": {},
   "outputs": [
    {
     "data": {
      "text/plain": [
       "100000"
      ]
     },
     "execution_count": 6,
     "metadata": {},
     "output_type": "execute_result"
    }
   ],
   "source": [
    "len(dynamic_data)"
   ]
  },
  {
   "cell_type": "code",
   "execution_count": 7,
   "metadata": {},
   "outputs": [
    {
     "data": {
      "text/plain": [
       "1520"
      ]
     },
     "execution_count": 7,
     "metadata": {},
     "output_type": "execute_result"
    }
   ],
   "source": [
    "len(static_data)"
   ]
  },
  {
   "cell_type": "markdown",
   "metadata": {},
   "source": [
    "Finally, we can understand that each element in the static dataset contains the information of one trip in the dynamic data by printing the number of different MMSI values in the dynamic dataset:"
   ]
  },
  {
   "cell_type": "code",
   "execution_count": 8,
   "metadata": {},
   "outputs": [
    {
     "data": {
      "text/plain": [
       "1520"
      ]
     },
     "execution_count": 8,
     "metadata": {},
     "output_type": "execute_result"
    }
   ],
   "source": [
    "len(dynamic_data['MMSI'].unique())"
   ]
  },
  {
   "cell_type": "markdown",
   "metadata": {},
   "source": [
    "### More information and quiz <a class=\"anchor\" id=\"quiz\"></a>"
   ]
  },
  {
   "cell_type": "markdown",
   "metadata": {},
   "source": [
    "For more information about AIS data:\n",
    "* [US coast guard page about AIS](https://www.navcen.uscg.gov/?pageName=AISmain)\n",
    "* [all about AIS](http://www.allaboutais.com/index.php/en/)\n",
    "* [official report on AIS data](https://www.itu.int/dms_pubrec/itu-r/rec/m/R-REC-M.1371-5-201402-I!!PDF-E.pdf)\n",
    "\n",
    "<iframe src=\"https://h5p.org/h5p/embed/741872\" width=\"694\" height=\"600\" frameborder=\"0\" allowfullscreen=\"allowfullscreen\"></iframe><script src=\"https://h5p.org/sites/all/modules/h5p/library/js/h5p-resizer.js\" charset=\"UTF-8\"></script>"
   ]
  },
  {
   "cell_type": "markdown",
   "metadata": {},
   "source": [
    "## Examine the dataset <a class=\"anchor\" id=\"vis-data\"></a>"
   ]
  },
  {
   "cell_type": "code",
   "execution_count": 9,
   "metadata": {},
   "outputs": [
    {
     "name": "stdout",
     "output_type": "stream",
     "text": [
      "<class 'pandas.core.frame.DataFrame'>\n",
      "RangeIndex: 1520 entries, 0 to 1519\n",
      "Data columns (total 23 columns):\n",
      "TripID        1520 non-null int64\n",
      "MMSI          1520 non-null int64\n",
      "MeanSOG       1520 non-null float64\n",
      "VesselName    1442 non-null object\n",
      "IMO           538 non-null object\n",
      "CallSign      1137 non-null object\n",
      "VesselType    1287 non-null float64\n",
      "Status        762 non-null object\n",
      "Length        1220 non-null float64\n",
      "Width         911 non-null float64\n",
      "Draft         496 non-null float64\n",
      "Cargo         378 non-null float64\n",
      "DepTime       1520 non-null object\n",
      "ArrTime       1520 non-null object\n",
      "DepLat        1520 non-null float64\n",
      "DepLon        1520 non-null float64\n",
      "ArrLat        1520 non-null float64\n",
      "ArrLon        1520 non-null float64\n",
      "DepCountry    1520 non-null object\n",
      "DepCity       1520 non-null object\n",
      "ArrCountry    1520 non-null object\n",
      "ArrCity       1520 non-null object\n",
      "Duration      1520 non-null object\n",
      "dtypes: float64(10), int64(2), object(11)\n",
      "memory usage: 273.2+ KB\n"
     ]
    }
   ],
   "source": [
    "static_data.info()"
   ]
  },
  {
   "cell_type": "code",
   "execution_count": 10,
   "metadata": {},
   "outputs": [
    {
     "data": {
      "text/html": [
       "<div>\n",
       "<style scoped>\n",
       "    .dataframe tbody tr th:only-of-type {\n",
       "        vertical-align: middle;\n",
       "    }\n",
       "\n",
       "    .dataframe tbody tr th {\n",
       "        vertical-align: top;\n",
       "    }\n",
       "\n",
       "    .dataframe thead th {\n",
       "        text-align: right;\n",
       "    }\n",
       "</style>\n",
       "<table border=\"1\" class=\"dataframe\">\n",
       "  <thead>\n",
       "    <tr style=\"text-align: right;\">\n",
       "      <th></th>\n",
       "      <th>TripID</th>\n",
       "      <th>MMSI</th>\n",
       "      <th>MeanSOG</th>\n",
       "      <th>VesselType</th>\n",
       "      <th>Length</th>\n",
       "      <th>Width</th>\n",
       "      <th>Draft</th>\n",
       "      <th>Cargo</th>\n",
       "      <th>DepLat</th>\n",
       "      <th>DepLon</th>\n",
       "      <th>ArrLat</th>\n",
       "      <th>ArrLon</th>\n",
       "    </tr>\n",
       "  </thead>\n",
       "  <tbody>\n",
       "    <tr>\n",
       "      <th>count</th>\n",
       "      <td>1520.000000</td>\n",
       "      <td>1.520000e+03</td>\n",
       "      <td>1520.000000</td>\n",
       "      <td>1287.000000</td>\n",
       "      <td>1220.000000</td>\n",
       "      <td>911.000000</td>\n",
       "      <td>496.000000</td>\n",
       "      <td>378.000000</td>\n",
       "      <td>1520.000000</td>\n",
       "      <td>1520.000000</td>\n",
       "      <td>1520.000000</td>\n",
       "      <td>1520.000000</td>\n",
       "    </tr>\n",
       "    <tr>\n",
       "      <th>mean</th>\n",
       "      <td>760.500000</td>\n",
       "      <td>3.597421e+08</td>\n",
       "      <td>1.034825</td>\n",
       "      <td>971.680653</td>\n",
       "      <td>56.769590</td>\n",
       "      <td>13.104501</td>\n",
       "      <td>6.457056</td>\n",
       "      <td>50.515873</td>\n",
       "      <td>46.354331</td>\n",
       "      <td>-122.868905</td>\n",
       "      <td>46.353671</td>\n",
       "      <td>-122.871346</td>\n",
       "    </tr>\n",
       "    <tr>\n",
       "      <th>std</th>\n",
       "      <td>438.930518</td>\n",
       "      <td>6.263661e+07</td>\n",
       "      <td>2.936439</td>\n",
       "      <td>198.957887</td>\n",
       "      <td>74.739358</td>\n",
       "      <td>10.903338</td>\n",
       "      <td>4.607529</td>\n",
       "      <td>22.693810</td>\n",
       "      <td>3.766705</td>\n",
       "      <td>0.681947</td>\n",
       "      <td>3.762056</td>\n",
       "      <td>0.680604</td>\n",
       "    </tr>\n",
       "    <tr>\n",
       "      <th>min</th>\n",
       "      <td>1.000000</td>\n",
       "      <td>3.160089e+06</td>\n",
       "      <td>-0.100000</td>\n",
       "      <td>0.000000</td>\n",
       "      <td>6.710000</td>\n",
       "      <td>0.000000</td>\n",
       "      <td>0.000000</td>\n",
       "      <td>0.000000</td>\n",
       "      <td>32.220640</td>\n",
       "      <td>-125.995610</td>\n",
       "      <td>32.209370</td>\n",
       "      <td>-125.998590</td>\n",
       "    </tr>\n",
       "    <tr>\n",
       "      <th>25%</th>\n",
       "      <td>380.750000</td>\n",
       "      <td>3.380724e+08</td>\n",
       "      <td>0.000000</td>\n",
       "      <td>1004.000000</td>\n",
       "      <td>14.840000</td>\n",
       "      <td>5.500000</td>\n",
       "      <td>3.000000</td>\n",
       "      <td>31.000000</td>\n",
       "      <td>46.168652</td>\n",
       "      <td>-123.178480</td>\n",
       "      <td>46.168460</td>\n",
       "      <td>-123.168262</td>\n",
       "    </tr>\n",
       "    <tr>\n",
       "      <th>50%</th>\n",
       "      <td>760.500000</td>\n",
       "      <td>3.669802e+08</td>\n",
       "      <td>0.012633</td>\n",
       "      <td>1019.000000</td>\n",
       "      <td>22.340000</td>\n",
       "      <td>8.000000</td>\n",
       "      <td>4.650000</td>\n",
       "      <td>52.000000</td>\n",
       "      <td>47.647795</td>\n",
       "      <td>-122.651365</td>\n",
       "      <td>47.646925</td>\n",
       "      <td>-122.645290</td>\n",
       "    </tr>\n",
       "    <tr>\n",
       "      <th>75%</th>\n",
       "      <td>1140.250000</td>\n",
       "      <td>3.675663e+08</td>\n",
       "      <td>0.072000</td>\n",
       "      <td>1019.000000</td>\n",
       "      <td>41.277500</td>\n",
       "      <td>16.350000</td>\n",
       "      <td>10.025000</td>\n",
       "      <td>70.000000</td>\n",
       "      <td>48.656940</td>\n",
       "      <td>-122.386562</td>\n",
       "      <td>48.665710</td>\n",
       "      <td>-122.386607</td>\n",
       "    </tr>\n",
       "    <tr>\n",
       "      <th>max</th>\n",
       "      <td>1520.000000</td>\n",
       "      <td>9.876543e+08</td>\n",
       "      <td>20.360811</td>\n",
       "      <td>1025.000000</td>\n",
       "      <td>349.000000</td>\n",
       "      <td>50.000000</td>\n",
       "      <td>18.800000</td>\n",
       "      <td>99.000000</td>\n",
       "      <td>49.890740</td>\n",
       "      <td>-120.002920</td>\n",
       "      <td>49.832120</td>\n",
       "      <td>-120.002420</td>\n",
       "    </tr>\n",
       "  </tbody>\n",
       "</table>\n",
       "</div>"
      ],
      "text/plain": [
       "            TripID          MMSI      MeanSOG   VesselType       Length  \\\n",
       "count  1520.000000  1.520000e+03  1520.000000  1287.000000  1220.000000   \n",
       "mean    760.500000  3.597421e+08     1.034825   971.680653    56.769590   \n",
       "std     438.930518  6.263661e+07     2.936439   198.957887    74.739358   \n",
       "min       1.000000  3.160089e+06    -0.100000     0.000000     6.710000   \n",
       "25%     380.750000  3.380724e+08     0.000000  1004.000000    14.840000   \n",
       "50%     760.500000  3.669802e+08     0.012633  1019.000000    22.340000   \n",
       "75%    1140.250000  3.675663e+08     0.072000  1019.000000    41.277500   \n",
       "max    1520.000000  9.876543e+08    20.360811  1025.000000   349.000000   \n",
       "\n",
       "            Width       Draft       Cargo       DepLat       DepLon  \\\n",
       "count  911.000000  496.000000  378.000000  1520.000000  1520.000000   \n",
       "mean    13.104501    6.457056   50.515873    46.354331  -122.868905   \n",
       "std     10.903338    4.607529   22.693810     3.766705     0.681947   \n",
       "min      0.000000    0.000000    0.000000    32.220640  -125.995610   \n",
       "25%      5.500000    3.000000   31.000000    46.168652  -123.178480   \n",
       "50%      8.000000    4.650000   52.000000    47.647795  -122.651365   \n",
       "75%     16.350000   10.025000   70.000000    48.656940  -122.386562   \n",
       "max     50.000000   18.800000   99.000000    49.890740  -120.002920   \n",
       "\n",
       "            ArrLat       ArrLon  \n",
       "count  1520.000000  1520.000000  \n",
       "mean     46.353671  -122.871346  \n",
       "std       3.762056     0.680604  \n",
       "min      32.209370  -125.998590  \n",
       "25%      46.168460  -123.168262  \n",
       "50%      47.646925  -122.645290  \n",
       "75%      48.665710  -122.386607  \n",
       "max      49.832120  -120.002420  "
      ]
     },
     "execution_count": 10,
     "metadata": {},
     "output_type": "execute_result"
    }
   ],
   "source": [
    "static_data.describe()"
   ]
  },
  {
   "cell_type": "code",
   "execution_count": 11,
   "metadata": {},
   "outputs": [
    {
     "data": {
      "text/plain": [
       "<matplotlib.axes._subplots.AxesSubplot at 0x177adc76128>"
      ]
     },
     "execution_count": 11,
     "metadata": {},
     "output_type": "execute_result"
    }
   ],
   "source": [
    "static_data['MMSI'].plot.hist()"
   ]
  },
  {
   "cell_type": "code",
   "execution_count": 12,
   "metadata": {},
   "outputs": [
    {
     "data": {
      "text/plain": [
       "<matplotlib.axes._subplots.AxesSubplot at 0x177add3b4e0>"
      ]
     },
     "execution_count": 12,
     "metadata": {},
     "output_type": "execute_result"
    },
    {
     "data": {
      "image/png": "[encoded data removed]",
      "text/plain": [
       "<Figure size 432x288 with 1 Axes>"
      ]
     },
     "metadata": {
      "needs_background": "light"
     },
     "output_type": "display_data"
    }
   ],
   "source": [
    "static_data['MeanSOG'].plot.hist()"
   ]
  },
  {
   "cell_type": "code",
   "execution_count": 13,
   "metadata": {},
   "outputs": [
    {
     "data": {
      "text/plain": [
       "<matplotlib.axes._subplots.AxesSubplot at 0x177addb1cf8>"
      ]
     },
     "execution_count": 13,
     "metadata": {},
     "output_type": "execute_result"
    },
    {
     "data": {
      "image/png": "[encoded data removed]",
      "text/plain": [
       "<Figure size 432x288 with 1 Axes>"
      ]
     },
     "metadata": {
      "needs_background": "light"
     },
     "output_type": "display_data"
    }
   ],
   "source": [
    "static_data['VesselType'].plot.hist()"
   ]
  },
  {
   "cell_type": "code",
   "execution_count": 14,
   "metadata": {},
   "outputs": [
    {
     "data": {
      "text/plain": [
       "<matplotlib.axes._subplots.AxesSubplot at 0x177b09ad198>"
      ]
     },
     "execution_count": 14,
     "metadata": {},
     "output_type": "execute_result"
    },
    {
     "data": {
      "image/png": "[encoded data removed]",
      "text/plain": [
       "<Figure size 432x288 with 1 Axes>"
      ]
     },
     "metadata": {
      "needs_background": "light"
     },
     "output_type": "display_data"
    }
   ],
   "source": [
    "static_data['Length'].plot.hist()"
   ]
  },
  {
   "cell_type": "code",
   "execution_count": 15,
   "metadata": {},
   "outputs": [
    {
     "data": {
      "text/plain": [
       "[<matplotlib.lines.Line2D at 0x177adbf7b00>]"
      ]
     },
     "execution_count": 15,
     "metadata": {},
     "output_type": "execute_result"
    },
    {
     "data": {
      "image/png": "[encoded data removed]",
      "text/plain": [
       "<Figure size 864x576 with 1 Axes>"
      ]
     },
     "metadata": {
      "needs_background": "light"
     },
     "output_type": "display_data"
    }
   ],
   "source": [
    "import matplotlib.pyplot as plt\n",
    "\n",
    "plt.figure(figsize = (12, 8))\n",
    "plt.plot(static_data['DepLon'], static_data['DepLat'], 'x')"
   ]
  },
  {
   "cell_type": "code",
   "execution_count": 16,
   "metadata": {},
   "outputs": [
    {
     "data": {
      "text/plain": [
       "[<matplotlib.lines.Line2D at 0x177b0a45e48>]"
      ]
     },
     "execution_count": 16,
     "metadata": {},
     "output_type": "execute_result"
    },
    {
     "data": {
      "image/png": "[encoded data removed]",
      "text/plain": [
       "<Figure size 864x576 with 1 Axes>"
      ]
     },
     "metadata": {
      "needs_background": "light"
     },
     "output_type": "display_data"
    }
   ],
   "source": [
    "plt.figure(figsize = (12, 8))\n",
    "plt.plot(static_data['ArrLon'], static_data['ArrLat'], 'x')"
   ]
  },
  {
   "cell_type": "code",
   "execution_count": 17,
   "metadata": {},
   "outputs": [
    {
     "data": {
      "text/plain": [
       "[<matplotlib.lines.Line2D at 0x177b0a96f98>]"
      ]
     },
     "execution_count": 17,
     "metadata": {},
     "output_type": "execute_result"
    },
    {
     "data": {
      "image/png": "[encoded data removed]",
      "text/plain": [
       "<Figure size 864x576 with 1 Axes>"
      ]
     },
     "metadata": {
      "needs_background": "light"
     },
     "output_type": "display_data"
    }
   ],
   "source": [
    "# for one trip\n",
    "\n",
    "trip = static_data.loc[static_data['TripID'] == 55]\n",
    "\n",
    "plt.figure(figsize = (12, 8))\n",
    "plt.plot(trip['DepLon'], trip['DepLat'], 'x')\n",
    "plt.plot(trip['ArrLon'], trip['ArrLat'], 'x')"
   ]
  },
  {
   "cell_type": "markdown",
   "metadata": {},
   "source": [
    "Small quiz about the visualization of the data: what can we see from the plots? From the counts of the rows? etc\n",
    "\n",
    "Examples:\n",
    "+ the attribute x counts x missing values\n",
    "+ the attribute x seems to contain some wrong values\n",
    "+ x% of ships seem immobile\n",
    "+ there are x% of passenger ships\n",
    "+ etc..."
   ]
  }
 ],
 "metadata": {
  "kernelspec": {
   "display_name": "Python 3",
   "language": "python",
   "name": "python3"
  },
  "language_info": {
   "codemirror_mode": {
    "name": "ipython",
    "version": 3
   },
   "file_extension": ".py",
   "mimetype": "text/x-python",
   "name": "python",
   "nbconvert_exporter": "python",
   "pygments_lexer": "ipython3",
   "version": "3.7.1"
  },
  "varInspector": {
   "cols": {
    "lenName": 16,
    "lenType": 16,
    "lenVar": 40
   },
   "kernels_config": {
    "python": {
     "delete_cmd_postfix": "",
     "delete_cmd_prefix": "del ",
     "library": "var_list.py",
     "varRefreshCmd": "print(var_dic_list())"
    },
    "r": {
     "delete_cmd_postfix": ") ",
     "delete_cmd_prefix": "rm(",
     "library": "var_list.r",
     "varRefreshCmd": "cat(var_dic_list()) "
    }
   },
   "types_to_exclude": [
    "module",
    "function",
    "builtin_function_or_method",
    "instance",
    "_Feature"
   ],
   "window_display": false
  }
 },
 "nbformat": 4,
 "nbformat_minor": 2
}
