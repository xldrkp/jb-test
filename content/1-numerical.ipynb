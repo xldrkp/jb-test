{
 "cells": [
  {
   "cell_type": "raw",
   "metadata": {},
   "source": [
    "---\n",
    "metadata: true\n",
    "section: \"Part 1 - Numerical data\"\n",
    "goal: \"Understand how a numerically based dataset is structured with the example of logistic data, gauge the quality of the dataset, clean it and understand how it affects the result on a logistic problem.\"\n",
    "time: \"x min\"\n",
    "prerequisites: \"None\"\n",
    "level: \"Beginner and advanced\"\n",
    "---"
   ]
  },
  {
   "cell_type": "markdown",
   "metadata": {},
   "source": [
    "In this part, we will explore the topic of data quality in a numerically based dataset. As an example, we are are using AIS data (Automatic Identification System), coming from an automatic tracking system for ships.\n",
    "\n",
    "The section will go as follow:\n",
    "\n",
    "+ Presentation of AIS data: general introduction of the data and study of the actual dataset we will be using\n",
    "+ Problems with missing data: two different problems will be solved and dealing with missing data will be discussed\n",
    "+ Problems with biased data: a few ways to misuse the data will be developed and questioned\n",
    "+ General conclusion, quiz and practical task"
   ]
  }
 ],
 "metadata": {
  "kernelspec": {
   "display_name": "Python 3",
   "language": "python",
   "name": "python3"
  },
  "language_info": {
   "codemirror_mode": {
    "name": "ipython",
    "version": 3
   },
   "file_extension": ".py",
   "mimetype": "text/x-python",
   "name": "python",
   "nbconvert_exporter": "python",
   "pygments_lexer": "ipython3",
   "version": "3.7.1"
  },
  "varInspector": {
   "cols": {
    "lenName": 16,
    "lenType": 16,
    "lenVar": 40
   },
   "kernels_config": {
    "python": {
     "delete_cmd_postfix": "",
     "delete_cmd_prefix": "del ",
     "library": "var_list.py",
     "varRefreshCmd": "print(var_dic_list())"
    },
    "r": {
     "delete_cmd_postfix": ") ",
     "delete_cmd_prefix": "rm(",
     "library": "var_list.r",
     "varRefreshCmd": "cat(var_dic_list()) "
    }
   },
   "types_to_exclude": [
    "module",
    "function",
    "builtin_function_or_method",
    "instance",
    "_Feature"
   ],
   "window_display": false
  }
 },
 "nbformat": 4,
 "nbformat_minor": 2
}
